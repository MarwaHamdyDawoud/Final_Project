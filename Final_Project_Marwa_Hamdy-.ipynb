{
 "cells": [
  {
   "cell_type": "markdown",
   "id": "da08687b",
   "metadata": {},
   "source": [
    "# Load dataset"
   ]
  },
  {
   "cell_type": "code",
   "execution_count": 1,
   "id": "73c3b65a",
   "metadata": {},
   "outputs": [],
   "source": [
    "import pandas as pd\n",
    "df= pd.read_csv('Data_file.csv')"
   ]
  },
  {
   "cell_type": "code",
   "execution_count": 2,
   "id": "c987da57",
   "metadata": {},
   "outputs": [
    {
     "data": {
      "text/html": [
       "<div>\n",
       "<style scoped>\n",
       "    .dataframe tbody tr th:only-of-type {\n",
       "        vertical-align: middle;\n",
       "    }\n",
       "\n",
       "    .dataframe tbody tr th {\n",
       "        vertical-align: top;\n",
       "    }\n",
       "\n",
       "    .dataframe thead th {\n",
       "        text-align: right;\n",
       "    }\n",
       "</style>\n",
       "<table border=\"1\" class=\"dataframe\">\n",
       "  <thead>\n",
       "    <tr style=\"text-align: right;\">\n",
       "      <th></th>\n",
       "      <th>PolymerType</th>\n",
       "      <th>PolymerConcentration</th>\n",
       "      <th>Solvent</th>\n",
       "      <th>SAA</th>\n",
       "      <th>SodiumChloride</th>\n",
       "      <th>Ethanol</th>\n",
       "      <th>DistanceFromNeedleToCollector</th>\n",
       "      <th>VoltagePower</th>\n",
       "      <th>FlowRate</th>\n",
       "      <th>Temperature</th>\n",
       "      <th>Hydration</th>\n",
       "      <th>Humidity</th>\n",
       "      <th>Size</th>\n",
       "    </tr>\n",
       "  </thead>\n",
       "  <tbody>\n",
       "    <tr>\n",
       "      <th>0</th>\n",
       "      <td>Chitosan</td>\n",
       "      <td>5.0</td>\n",
       "      <td>15% Acetic acid</td>\n",
       "      <td>None</td>\n",
       "      <td>0.0</td>\n",
       "      <td>0</td>\n",
       "      <td>15.0</td>\n",
       "      <td>20.0</td>\n",
       "      <td>0.4</td>\n",
       "      <td>25.0</td>\n",
       "      <td>None</td>\n",
       "      <td>30</td>\n",
       "      <td>0.0</td>\n",
       "    </tr>\n",
       "    <tr>\n",
       "      <th>1</th>\n",
       "      <td>Chitosan</td>\n",
       "      <td>5.0</td>\n",
       "      <td>30% Acetic acid</td>\n",
       "      <td>None</td>\n",
       "      <td>0.0</td>\n",
       "      <td>0</td>\n",
       "      <td>15.0</td>\n",
       "      <td>20.0</td>\n",
       "      <td>0.4</td>\n",
       "      <td>25.0</td>\n",
       "      <td>None</td>\n",
       "      <td>30</td>\n",
       "      <td>0.0</td>\n",
       "    </tr>\n",
       "    <tr>\n",
       "      <th>2</th>\n",
       "      <td>Chitosan</td>\n",
       "      <td>5.0</td>\n",
       "      <td>45% Acetic acid</td>\n",
       "      <td>None</td>\n",
       "      <td>0.0</td>\n",
       "      <td>0</td>\n",
       "      <td>15.0</td>\n",
       "      <td>20.0</td>\n",
       "      <td>0.4</td>\n",
       "      <td>25.0</td>\n",
       "      <td>None</td>\n",
       "      <td>30</td>\n",
       "      <td>65.0</td>\n",
       "    </tr>\n",
       "    <tr>\n",
       "      <th>3</th>\n",
       "      <td>Chitosan</td>\n",
       "      <td>5.0</td>\n",
       "      <td>60% Acetic acid</td>\n",
       "      <td>None</td>\n",
       "      <td>0.0</td>\n",
       "      <td>0</td>\n",
       "      <td>15.0</td>\n",
       "      <td>20.0</td>\n",
       "      <td>0.4</td>\n",
       "      <td>25.0</td>\n",
       "      <td>None</td>\n",
       "      <td>30</td>\n",
       "      <td>70.0</td>\n",
       "    </tr>\n",
       "    <tr>\n",
       "      <th>4</th>\n",
       "      <td>Chitosan</td>\n",
       "      <td>5.0</td>\n",
       "      <td>75% Acetic acid</td>\n",
       "      <td>None</td>\n",
       "      <td>0.0</td>\n",
       "      <td>0</td>\n",
       "      <td>15.0</td>\n",
       "      <td>20.0</td>\n",
       "      <td>0.4</td>\n",
       "      <td>25.0</td>\n",
       "      <td>None</td>\n",
       "      <td>30</td>\n",
       "      <td>125.0</td>\n",
       "    </tr>\n",
       "  </tbody>\n",
       "</table>\n",
       "</div>"
      ],
      "text/plain": [
       "  PolymerType  PolymerConcentration          Solvent   SAA  SodiumChloride  \\\n",
       "0    Chitosan                   5.0  15% Acetic acid  None             0.0   \n",
       "1    Chitosan                   5.0  30% Acetic acid  None             0.0   \n",
       "2    Chitosan                   5.0  45% Acetic acid  None             0.0   \n",
       "3    Chitosan                   5.0  60% Acetic acid  None             0.0   \n",
       "4    Chitosan                   5.0  75% Acetic acid  None             0.0   \n",
       "\n",
       "   Ethanol  DistanceFromNeedleToCollector  VoltagePower  FlowRate  \\\n",
       "0        0                           15.0          20.0       0.4   \n",
       "1        0                           15.0          20.0       0.4   \n",
       "2        0                           15.0          20.0       0.4   \n",
       "3        0                           15.0          20.0       0.4   \n",
       "4        0                           15.0          20.0       0.4   \n",
       "\n",
       "   Temperature Hydration  Humidity   Size  \n",
       "0         25.0      None        30    0.0  \n",
       "1         25.0      None        30    0.0  \n",
       "2         25.0      None        30   65.0  \n",
       "3         25.0      None        30   70.0  \n",
       "4         25.0      None        30  125.0  "
      ]
     },
     "execution_count": 2,
     "metadata": {},
     "output_type": "execute_result"
    }
   ],
   "source": [
    "df.head()"
   ]
  },
  {
   "cell_type": "markdown",
   "id": "16133b1e",
   "metadata": {},
   "source": [
    "# Exploratory data analysis (EDA)"
   ]
  },
  {
   "cell_type": "code",
   "execution_count": 3,
   "id": "967836d9",
   "metadata": {},
   "outputs": [
    {
     "name": "stdout",
     "output_type": "stream",
     "text": [
      "<class 'pandas.core.frame.DataFrame'>\n",
      "RangeIndex: 283 entries, 0 to 282\n",
      "Data columns (total 13 columns):\n",
      " #   Column                         Non-Null Count  Dtype  \n",
      "---  ------                         --------------  -----  \n",
      " 0   PolymerType                    283 non-null    object \n",
      " 1   PolymerConcentration           283 non-null    float64\n",
      " 2   Solvent                        283 non-null    object \n",
      " 3   SAA                            283 non-null    object \n",
      " 4   SodiumChloride                 282 non-null    float64\n",
      " 5   Ethanol                        283 non-null    int64  \n",
      " 6   DistanceFromNeedleToCollector  277 non-null    float64\n",
      " 7   VoltagePower                   283 non-null    float64\n",
      " 8   FlowRate                       271 non-null    float64\n",
      " 9   Temperature                    283 non-null    float64\n",
      " 10  Hydration                      283 non-null    object \n",
      " 11  Humidity                       283 non-null    int64  \n",
      " 12  Size                           283 non-null    float64\n",
      "dtypes: float64(7), int64(2), object(4)\n",
      "memory usage: 28.9+ KB\n"
     ]
    }
   ],
   "source": [
    "df.info()"
   ]
  },
  {
   "cell_type": "markdown",
   "id": "d662d662",
   "metadata": {},
   "source": [
    "#### To check for duplicated data and remove any"
   ]
  },
  {
   "cell_type": "code",
   "execution_count": 4,
   "id": "4f4ef96c",
   "metadata": {},
   "outputs": [
    {
     "data": {
      "text/plain": [
       "4"
      ]
     },
     "execution_count": 4,
     "metadata": {},
     "output_type": "execute_result"
    }
   ],
   "source": [
    "df.duplicated().sum()"
   ]
  },
  {
   "cell_type": "code",
   "execution_count": 5,
   "id": "a2edeeaa",
   "metadata": {},
   "outputs": [],
   "source": [
    "df.drop_duplicates(inplace=True)\n",
    "df.reset_index(inplace=True)"
   ]
  },
  {
   "cell_type": "code",
   "execution_count": 6,
   "id": "47eb6880",
   "metadata": {
    "scrolled": true
   },
   "outputs": [
    {
     "name": "stdout",
     "output_type": "stream",
     "text": [
      "<class 'pandas.core.frame.DataFrame'>\n",
      "RangeIndex: 279 entries, 0 to 278\n",
      "Data columns (total 14 columns):\n",
      " #   Column                         Non-Null Count  Dtype  \n",
      "---  ------                         --------------  -----  \n",
      " 0   index                          279 non-null    int64  \n",
      " 1   PolymerType                    279 non-null    object \n",
      " 2   PolymerConcentration           279 non-null    float64\n",
      " 3   Solvent                        279 non-null    object \n",
      " 4   SAA                            279 non-null    object \n",
      " 5   SodiumChloride                 278 non-null    float64\n",
      " 6   Ethanol                        279 non-null    int64  \n",
      " 7   DistanceFromNeedleToCollector  273 non-null    float64\n",
      " 8   VoltagePower                   279 non-null    float64\n",
      " 9   FlowRate                       267 non-null    float64\n",
      " 10  Temperature                    279 non-null    float64\n",
      " 11  Hydration                      279 non-null    object \n",
      " 12  Humidity                       279 non-null    int64  \n",
      " 13  Size                           279 non-null    float64\n",
      "dtypes: float64(7), int64(3), object(4)\n",
      "memory usage: 30.6+ KB\n"
     ]
    }
   ],
   "source": [
    "df.info()"
   ]
  },
  {
   "cell_type": "code",
   "execution_count": 7,
   "id": "6f9f62c5",
   "metadata": {},
   "outputs": [],
   "source": [
    "df.drop('index', axis=1, inplace=True)"
   ]
  },
  {
   "cell_type": "code",
   "execution_count": 8,
   "id": "34d3a831",
   "metadata": {},
   "outputs": [
    {
     "name": "stdout",
     "output_type": "stream",
     "text": [
      "<class 'pandas.core.frame.DataFrame'>\n",
      "RangeIndex: 279 entries, 0 to 278\n",
      "Data columns (total 13 columns):\n",
      " #   Column                         Non-Null Count  Dtype  \n",
      "---  ------                         --------------  -----  \n",
      " 0   PolymerType                    279 non-null    object \n",
      " 1   PolymerConcentration           279 non-null    float64\n",
      " 2   Solvent                        279 non-null    object \n",
      " 3   SAA                            279 non-null    object \n",
      " 4   SodiumChloride                 278 non-null    float64\n",
      " 5   Ethanol                        279 non-null    int64  \n",
      " 6   DistanceFromNeedleToCollector  273 non-null    float64\n",
      " 7   VoltagePower                   279 non-null    float64\n",
      " 8   FlowRate                       267 non-null    float64\n",
      " 9   Temperature                    279 non-null    float64\n",
      " 10  Hydration                      279 non-null    object \n",
      " 11  Humidity                       279 non-null    int64  \n",
      " 12  Size                           279 non-null    float64\n",
      "dtypes: float64(7), int64(2), object(4)\n",
      "memory usage: 28.5+ KB\n"
     ]
    }
   ],
   "source": [
    "df.info()"
   ]
  },
  {
   "cell_type": "markdown",
   "id": "72ee0975",
   "metadata": {},
   "source": [
    "#### To check for missing data and replace if any"
   ]
  },
  {
   "cell_type": "code",
   "execution_count": 9,
   "id": "67e57ce8",
   "metadata": {},
   "outputs": [
    {
     "data": {
      "text/plain": [
       "PolymerType                       0\n",
       "PolymerConcentration              0\n",
       "Solvent                           0\n",
       "SAA                               0\n",
       "SodiumChloride                    1\n",
       "Ethanol                           0\n",
       "DistanceFromNeedleToCollector     6\n",
       "VoltagePower                      0\n",
       "FlowRate                         12\n",
       "Temperature                       0\n",
       "Hydration                         0\n",
       "Humidity                          0\n",
       "Size                              0\n",
       "dtype: int64"
      ]
     },
     "execution_count": 9,
     "metadata": {},
     "output_type": "execute_result"
    }
   ],
   "source": [
    "df.isna().sum()"
   ]
  },
  {
   "cell_type": "code",
   "execution_count": 10,
   "id": "47a3bedb",
   "metadata": {},
   "outputs": [],
   "source": [
    "# Replace with 0\n",
    "df.SodiumChloride.fillna(0.0, inplace=True)"
   ]
  },
  {
   "cell_type": "code",
   "execution_count": 11,
   "id": "a47f1564",
   "metadata": {},
   "outputs": [
    {
     "data": {
      "text/plain": [
       "PolymerType                       0\n",
       "PolymerConcentration              0\n",
       "Solvent                           0\n",
       "SAA                               0\n",
       "SodiumChloride                    0\n",
       "Ethanol                           0\n",
       "DistanceFromNeedleToCollector     6\n",
       "VoltagePower                      0\n",
       "FlowRate                         12\n",
       "Temperature                       0\n",
       "Hydration                         0\n",
       "Humidity                          0\n",
       "Size                              0\n",
       "dtype: int64"
      ]
     },
     "execution_count": 11,
     "metadata": {},
     "output_type": "execute_result"
    }
   ],
   "source": [
    "df.isna().sum()"
   ]
  },
  {
   "cell_type": "code",
   "execution_count": 12,
   "id": "a925c937",
   "metadata": {},
   "outputs": [
    {
     "data": {
      "text/plain": [
       "1.00     58\n",
       "0.50     32\n",
       "0.26     29\n",
       "0.20     28\n",
       "0.40     27\n",
       "1.60     20\n",
       "0.30     19\n",
       "0.60     18\n",
       "1.50     10\n",
       "4.00      9\n",
       "0.10      7\n",
       "1.80      4\n",
       "0.80      2\n",
       "7.00      1\n",
       "10.00     1\n",
       "1.40      1\n",
       "1.20      1\n",
       "Name: FlowRate, dtype: int64"
      ]
     },
     "execution_count": 12,
     "metadata": {},
     "output_type": "execute_result"
    }
   ],
   "source": [
    "df.FlowRate.value_counts()"
   ]
  },
  {
   "cell_type": "code",
   "execution_count": 13,
   "id": "8c7f635f",
   "metadata": {},
   "outputs": [],
   "source": [
    "# Replace with median\n",
    "df.FlowRate.fillna(df['FlowRate'].median(), inplace=True)"
   ]
  },
  {
   "cell_type": "code",
   "execution_count": 14,
   "id": "e0bcfd3d",
   "metadata": {},
   "outputs": [
    {
     "data": {
      "text/plain": [
       "PolymerType                      0\n",
       "PolymerConcentration             0\n",
       "Solvent                          0\n",
       "SAA                              0\n",
       "SodiumChloride                   0\n",
       "Ethanol                          0\n",
       "DistanceFromNeedleToCollector    6\n",
       "VoltagePower                     0\n",
       "FlowRate                         0\n",
       "Temperature                      0\n",
       "Hydration                        0\n",
       "Humidity                         0\n",
       "Size                             0\n",
       "dtype: int64"
      ]
     },
     "execution_count": 14,
     "metadata": {},
     "output_type": "execute_result"
    }
   ],
   "source": [
    "df.isna().sum()"
   ]
  },
  {
   "cell_type": "code",
   "execution_count": 15,
   "id": "61890265",
   "metadata": {},
   "outputs": [
    {
     "name": "stdout",
     "output_type": "stream",
     "text": [
      "<class 'pandas.core.frame.DataFrame'>\n",
      "RangeIndex: 279 entries, 0 to 278\n",
      "Data columns (total 13 columns):\n",
      " #   Column                         Non-Null Count  Dtype  \n",
      "---  ------                         --------------  -----  \n",
      " 0   PolymerType                    279 non-null    object \n",
      " 1   PolymerConcentration           279 non-null    float64\n",
      " 2   Solvent                        279 non-null    object \n",
      " 3   SAA                            279 non-null    object \n",
      " 4   SodiumChloride                 279 non-null    float64\n",
      " 5   Ethanol                        279 non-null    int64  \n",
      " 6   DistanceFromNeedleToCollector  273 non-null    float64\n",
      " 7   VoltagePower                   279 non-null    float64\n",
      " 8   FlowRate                       279 non-null    float64\n",
      " 9   Temperature                    279 non-null    float64\n",
      " 10  Hydration                      279 non-null    object \n",
      " 11  Humidity                       279 non-null    int64  \n",
      " 12  Size                           279 non-null    float64\n",
      "dtypes: float64(7), int64(2), object(4)\n",
      "memory usage: 28.5+ KB\n"
     ]
    }
   ],
   "source": [
    "df.info()"
   ]
  },
  {
   "cell_type": "markdown",
   "id": "f0056f4d",
   "metadata": {},
   "source": [
    "### To split Data"
   ]
  },
  {
   "cell_type": "code",
   "execution_count": 16,
   "id": "926dc4f7",
   "metadata": {},
   "outputs": [],
   "source": [
    "y=df['Size']\n",
    "x= df.drop('Size',axis=1)"
   ]
  },
  {
   "cell_type": "markdown",
   "id": "2b057db0",
   "metadata": {},
   "source": [
    "### Heatmap"
   ]
  },
  {
   "cell_type": "code",
   "execution_count": 17,
   "id": "4b678af3",
   "metadata": {},
   "outputs": [],
   "source": [
    "import matplotlib.pyplot as plt\n",
    "import seaborn as sns"
   ]
  },
  {
   "cell_type": "code",
   "execution_count": 18,
   "id": "9826c769",
   "metadata": {},
   "outputs": [
    {
     "data": {
      "image/png": "[encoded data removed]",
      "text/plain": [
       "<Figure size 1500x1500 with 2 Axes>"
      ]
     },
     "metadata": {},
     "output_type": "display_data"
    }
   ],
   "source": [
    "f,ax= plt.subplots(figsize=(15,15))\n",
    "hm= sns.heatmap(data=x.corr() , cmap='YlGnBu', annot=True, linewidths= .5, fmt='.1f', ax=ax)\n",
    "plt.show()"
   ]
  },
  {
   "cell_type": "code",
   "execution_count": 19,
   "id": "862afd13",
   "metadata": {},
   "outputs": [
    {
     "data": {
      "text/html": [
       "<div>\n",
       "<style scoped>\n",
       "    .dataframe tbody tr th:only-of-type {\n",
       "        vertical-align: middle;\n",
       "    }\n",
       "\n",
       "    .dataframe tbody tr th {\n",
       "        vertical-align: top;\n",
       "    }\n",
       "\n",
       "    .dataframe thead th {\n",
       "        text-align: right;\n",
       "    }\n",
       "</style>\n",
       "<table border=\"1\" class=\"dataframe\">\n",
       "  <thead>\n",
       "    <tr style=\"text-align: right;\">\n",
       "      <th></th>\n",
       "      <th>PolymerType</th>\n",
       "      <th>PolymerConcentration</th>\n",
       "      <th>Solvent</th>\n",
       "      <th>SAA</th>\n",
       "      <th>SodiumChloride</th>\n",
       "      <th>Ethanol</th>\n",
       "      <th>DistanceFromNeedleToCollector</th>\n",
       "      <th>VoltagePower</th>\n",
       "      <th>FlowRate</th>\n",
       "      <th>Temperature</th>\n",
       "      <th>Hydration</th>\n",
       "      <th>Humidity</th>\n",
       "      <th>Size</th>\n",
       "    </tr>\n",
       "  </thead>\n",
       "  <tbody>\n",
       "    <tr>\n",
       "      <th>0</th>\n",
       "      <td>Chitosan</td>\n",
       "      <td>5.0</td>\n",
       "      <td>15% Acetic acid</td>\n",
       "      <td>None</td>\n",
       "      <td>0.0</td>\n",
       "      <td>0</td>\n",
       "      <td>15.0</td>\n",
       "      <td>20.0</td>\n",
       "      <td>0.4</td>\n",
       "      <td>25.0</td>\n",
       "      <td>None</td>\n",
       "      <td>30</td>\n",
       "      <td>0.0</td>\n",
       "    </tr>\n",
       "    <tr>\n",
       "      <th>1</th>\n",
       "      <td>Chitosan</td>\n",
       "      <td>5.0</td>\n",
       "      <td>30% Acetic acid</td>\n",
       "      <td>None</td>\n",
       "      <td>0.0</td>\n",
       "      <td>0</td>\n",
       "      <td>15.0</td>\n",
       "      <td>20.0</td>\n",
       "      <td>0.4</td>\n",
       "      <td>25.0</td>\n",
       "      <td>None</td>\n",
       "      <td>30</td>\n",
       "      <td>0.0</td>\n",
       "    </tr>\n",
       "    <tr>\n",
       "      <th>2</th>\n",
       "      <td>Chitosan</td>\n",
       "      <td>5.0</td>\n",
       "      <td>45% Acetic acid</td>\n",
       "      <td>None</td>\n",
       "      <td>0.0</td>\n",
       "      <td>0</td>\n",
       "      <td>15.0</td>\n",
       "      <td>20.0</td>\n",
       "      <td>0.4</td>\n",
       "      <td>25.0</td>\n",
       "      <td>None</td>\n",
       "      <td>30</td>\n",
       "      <td>65.0</td>\n",
       "    </tr>\n",
       "    <tr>\n",
       "      <th>3</th>\n",
       "      <td>Chitosan</td>\n",
       "      <td>5.0</td>\n",
       "      <td>60% Acetic acid</td>\n",
       "      <td>None</td>\n",
       "      <td>0.0</td>\n",
       "      <td>0</td>\n",
       "      <td>15.0</td>\n",
       "      <td>20.0</td>\n",
       "      <td>0.4</td>\n",
       "      <td>25.0</td>\n",
       "      <td>None</td>\n",
       "      <td>30</td>\n",
       "      <td>70.0</td>\n",
       "    </tr>\n",
       "    <tr>\n",
       "      <th>4</th>\n",
       "      <td>Chitosan</td>\n",
       "      <td>5.0</td>\n",
       "      <td>75% Acetic acid</td>\n",
       "      <td>None</td>\n",
       "      <td>0.0</td>\n",
       "      <td>0</td>\n",
       "      <td>15.0</td>\n",
       "      <td>20.0</td>\n",
       "      <td>0.4</td>\n",
       "      <td>25.0</td>\n",
       "      <td>None</td>\n",
       "      <td>30</td>\n",
       "      <td>125.0</td>\n",
       "    </tr>\n",
       "    <tr>\n",
       "      <th>...</th>\n",
       "      <td>...</td>\n",
       "      <td>...</td>\n",
       "      <td>...</td>\n",
       "      <td>...</td>\n",
       "      <td>...</td>\n",
       "      <td>...</td>\n",
       "      <td>...</td>\n",
       "      <td>...</td>\n",
       "      <td>...</td>\n",
       "      <td>...</td>\n",
       "      <td>...</td>\n",
       "      <td>...</td>\n",
       "      <td>...</td>\n",
       "    </tr>\n",
       "    <tr>\n",
       "      <th>274</th>\n",
       "      <td>PEO</td>\n",
       "      <td>3.0</td>\n",
       "      <td>70% Acetic acid</td>\n",
       "      <td>None</td>\n",
       "      <td>0.0</td>\n",
       "      <td>0</td>\n",
       "      <td>14.0</td>\n",
       "      <td>10.0</td>\n",
       "      <td>1.0</td>\n",
       "      <td>25.0</td>\n",
       "      <td>None</td>\n",
       "      <td>30</td>\n",
       "      <td>786.0</td>\n",
       "    </tr>\n",
       "    <tr>\n",
       "      <th>275</th>\n",
       "      <td>PEO</td>\n",
       "      <td>4.5</td>\n",
       "      <td>80% Acetic acid</td>\n",
       "      <td>None</td>\n",
       "      <td>0.0</td>\n",
       "      <td>0</td>\n",
       "      <td>14.0</td>\n",
       "      <td>20.5</td>\n",
       "      <td>1.0</td>\n",
       "      <td>30.0</td>\n",
       "      <td>None</td>\n",
       "      <td>30</td>\n",
       "      <td>1638.0</td>\n",
       "    </tr>\n",
       "    <tr>\n",
       "      <th>276</th>\n",
       "      <td>PEO</td>\n",
       "      <td>3.0</td>\n",
       "      <td>10% Acetic acid</td>\n",
       "      <td>None</td>\n",
       "      <td>0.0</td>\n",
       "      <td>0</td>\n",
       "      <td>14.0</td>\n",
       "      <td>15.0</td>\n",
       "      <td>1.0</td>\n",
       "      <td>35.0</td>\n",
       "      <td>None</td>\n",
       "      <td>30</td>\n",
       "      <td>285.0</td>\n",
       "    </tr>\n",
       "    <tr>\n",
       "      <th>277</th>\n",
       "      <td>PEO</td>\n",
       "      <td>5.0</td>\n",
       "      <td>90% Acetic acid</td>\n",
       "      <td>None</td>\n",
       "      <td>0.0</td>\n",
       "      <td>0</td>\n",
       "      <td>14.0</td>\n",
       "      <td>20.0</td>\n",
       "      <td>1.0</td>\n",
       "      <td>45.0</td>\n",
       "      <td>None</td>\n",
       "      <td>30</td>\n",
       "      <td>2472.0</td>\n",
       "    </tr>\n",
       "    <tr>\n",
       "      <th>278</th>\n",
       "      <td>PEO</td>\n",
       "      <td>3.2</td>\n",
       "      <td>65% Acetic acid</td>\n",
       "      <td>None</td>\n",
       "      <td>0.0</td>\n",
       "      <td>0</td>\n",
       "      <td>14.0</td>\n",
       "      <td>12.6</td>\n",
       "      <td>1.0</td>\n",
       "      <td>30.0</td>\n",
       "      <td>None</td>\n",
       "      <td>30</td>\n",
       "      <td>436.0</td>\n",
       "    </tr>\n",
       "  </tbody>\n",
       "</table>\n",
       "<p>279 rows × 13 columns</p>\n",
       "</div>"
      ],
      "text/plain": [
       "    PolymerType  PolymerConcentration          Solvent   SAA  SodiumChloride  \\\n",
       "0      Chitosan                   5.0  15% Acetic acid  None             0.0   \n",
       "1      Chitosan                   5.0  30% Acetic acid  None             0.0   \n",
       "2      Chitosan                   5.0  45% Acetic acid  None             0.0   \n",
       "3      Chitosan                   5.0  60% Acetic acid  None             0.0   \n",
       "4      Chitosan                   5.0  75% Acetic acid  None             0.0   \n",
       "..          ...                   ...              ...   ...             ...   \n",
       "274         PEO                   3.0  70% Acetic acid  None             0.0   \n",
       "275         PEO                   4.5  80% Acetic acid  None             0.0   \n",
       "276         PEO                   3.0  10% Acetic acid  None             0.0   \n",
       "277         PEO                   5.0  90% Acetic acid  None             0.0   \n",
       "278         PEO                   3.2  65% Acetic acid  None             0.0   \n",
       "\n",
       "     Ethanol  DistanceFromNeedleToCollector  VoltagePower  FlowRate  \\\n",
       "0          0                           15.0          20.0       0.4   \n",
       "1          0                           15.0          20.0       0.4   \n",
       "2          0                           15.0          20.0       0.4   \n",
       "3          0                           15.0          20.0       0.4   \n",
       "4          0                           15.0          20.0       0.4   \n",
       "..       ...                            ...           ...       ...   \n",
       "274        0                           14.0          10.0       1.0   \n",
       "275        0                           14.0          20.5       1.0   \n",
       "276        0                           14.0          15.0       1.0   \n",
       "277        0                           14.0          20.0       1.0   \n",
       "278        0                           14.0          12.6       1.0   \n",
       "\n",
       "     Temperature Hydration  Humidity    Size  \n",
       "0           25.0      None        30     0.0  \n",
       "1           25.0      None        30     0.0  \n",
       "2           25.0      None        30    65.0  \n",
       "3           25.0      None        30    70.0  \n",
       "4           25.0      None        30   125.0  \n",
       "..           ...       ...       ...     ...  \n",
       "274         25.0      None        30   786.0  \n",
       "275         30.0      None        30  1638.0  \n",
       "276         35.0      None        30   285.0  \n",
       "277         45.0      None        30  2472.0  \n",
       "278         30.0      None        30   436.0  \n",
       "\n",
       "[279 rows x 13 columns]"
      ]
     },
     "execution_count": 19,
     "metadata": {},
     "output_type": "execute_result"
    }
   ],
   "source": [
    "df"
   ]
  },
  {
   "cell_type": "markdown",
   "id": "30bde6ad",
   "metadata": {},
   "source": [
    "### Outliers Detection and Treatment"
   ]
  },
  {
   "cell_type": "code",
   "execution_count": 20,
   "id": "ece843ec",
   "metadata": {},
   "outputs": [
    {
     "data": {
      "text/plain": [
       "PolymerType                       78\n",
       "PolymerConcentration              54\n",
       "Solvent                           38\n",
       "SAA                                3\n",
       "SodiumChloride                    11\n",
       "Ethanol                            7\n",
       "DistanceFromNeedleToCollector     17\n",
       "VoltagePower                      31\n",
       "FlowRate                          17\n",
       "Temperature                       29\n",
       "Hydration                          5\n",
       "Humidity                           4\n",
       "Size                             197\n",
       "dtype: int64"
      ]
     },
     "execution_count": 20,
     "metadata": {},
     "output_type": "execute_result"
    }
   ],
   "source": [
    "df.nunique()"
   ]
  },
  {
   "cell_type": "code",
   "execution_count": 21,
   "id": "9990a527",
   "metadata": {
    "scrolled": false
   },
   "outputs": [
    {
     "name": "stdout",
     "output_type": "stream",
     "text": [
      "<class 'pandas.core.frame.DataFrame'>\n",
      "RangeIndex: 279 entries, 0 to 278\n",
      "Data columns (total 13 columns):\n",
      " #   Column                         Non-Null Count  Dtype  \n",
      "---  ------                         --------------  -----  \n",
      " 0   PolymerType                    279 non-null    object \n",
      " 1   PolymerConcentration           279 non-null    float64\n",
      " 2   Solvent                        279 non-null    object \n",
      " 3   SAA                            279 non-null    object \n",
      " 4   SodiumChloride                 279 non-null    float64\n",
      " 5   Ethanol                        279 non-null    int64  \n",
      " 6   DistanceFromNeedleToCollector  273 non-null    float64\n",
      " 7   VoltagePower                   279 non-null    float64\n",
      " 8   FlowRate                       279 non-null    float64\n",
      " 9   Temperature                    279 non-null    float64\n",
      " 10  Hydration                      279 non-null    object \n",
      " 11  Humidity                       279 non-null    int64  \n",
      " 12  Size                           279 non-null    float64\n",
      "dtypes: float64(7), int64(2), object(4)\n",
      "memory usage: 28.5+ KB\n"
     ]
    }
   ],
   "source": [
    "df.info()"
   ]
  },
  {
   "cell_type": "markdown",
   "id": "ebb91350",
   "metadata": {},
   "source": [
    "### Outlier Detection using Visualization Tool --> boxplot"
   ]
  },
  {
   "cell_type": "code",
   "execution_count": 22,
   "id": "c9cf1cf9",
   "metadata": {},
   "outputs": [],
   "source": [
    "from matplotlib import pyplot as plt\n",
    "import seaborn as sns"
   ]
  },
  {
   "cell_type": "code",
   "execution_count": 23,
   "id": "abb131e2",
   "metadata": {},
   "outputs": [
    {
     "data": {
      "text/plain": [
       "<AxesSubplot:xlabel='PolymerConcentration'>"
      ]
     },
     "execution_count": 23,
     "metadata": {},
     "output_type": "execute_result"
    },
    {
     "data": {
      "image/png": "[encoded data removed]",
      "text/plain": [
       "<Figure size 640x480 with 1 Axes>"
      ]
     },
     "metadata": {},
     "output_type": "display_data"
    }
   ],
   "source": [
    "sns.boxplot(data=df , x='PolymerConcentration')"
   ]
  },
  {
   "cell_type": "code",
   "execution_count": 24,
   "id": "aaaae4f9",
   "metadata": {},
   "outputs": [],
   "source": [
    "import numpy as np"
   ]
  },
  {
   "cell_type": "code",
   "execution_count": 25,
   "id": "741c19ea",
   "metadata": {},
   "outputs": [],
   "source": [
    "def detect_outliers_iqr(df): \n",
    "    outliers=[]\n",
    "    df= sorted(df) \n",
    "    q1 = np.percentile(df,25) \n",
    "    q3 = np.percentile(df,75) \n",
    " \n",
    "    IQR = q3-q1\n",
    "  \n",
    "    lower_bound = q1-(1.5*IQR)\n",
    "    upper_bound = q3+(1.5*IQR)\n",
    "  \n",
    "    for i in df:\n",
    "        if (i < lower_bound or i > upper_bound):\n",
    "            outliers.append(i)\n",
    "    return outliers"
   ]
  },
  {
   "cell_type": "code",
   "execution_count": 26,
   "id": "9db3af99",
   "metadata": {
    "scrolled": true
   },
   "outputs": [
    {
     "data": {
      "text/plain": [
       "[20.0, 20.0, 20.0, 20.0, 30.0, 31.25, 32.5, 35.0]"
      ]
     },
     "execution_count": 26,
     "metadata": {},
     "output_type": "execute_result"
    }
   ],
   "source": [
    "detect_outliers_iqr (df.PolymerConcentration)"
   ]
  },
  {
   "cell_type": "code",
   "execution_count": 27,
   "id": "eb30559a",
   "metadata": {},
   "outputs": [],
   "source": [
    "# nothing will be done as its presence is important"
   ]
  },
  {
   "cell_type": "code",
   "execution_count": 28,
   "id": "1af0e4cc",
   "metadata": {},
   "outputs": [
    {
     "data": {
      "text/plain": [
       "[0.0015,\n",
       " 0.005,\n",
       " 0.005,\n",
       " 0.005,\n",
       " 0.005,\n",
       " 0.006,\n",
       " 0.03,\n",
       " 0.1,\n",
       " 0.15,\n",
       " 0.2,\n",
       " 0.3,\n",
       " 0.3,\n",
       " 0.4,\n",
       " 1.5]"
      ]
     },
     "execution_count": 28,
     "metadata": {},
     "output_type": "execute_result"
    }
   ],
   "source": [
    "detect_outliers_iqr (df.SodiumChloride)"
   ]
  },
  {
   "cell_type": "code",
   "execution_count": 29,
   "id": "137c842e",
   "metadata": {},
   "outputs": [],
   "source": [
    "# nothing will be done as its presence is important"
   ]
  },
  {
   "cell_type": "code",
   "execution_count": 30,
   "id": "4572285a",
   "metadata": {},
   "outputs": [
    {
     "data": {
      "text/plain": [
       "[]"
      ]
     },
     "execution_count": 30,
     "metadata": {},
     "output_type": "execute_result"
    }
   ],
   "source": [
    "detect_outliers_iqr (df.DistanceFromNeedleToCollector)"
   ]
  },
  {
   "cell_type": "code",
   "execution_count": 31,
   "id": "0b9c28a9",
   "metadata": {},
   "outputs": [
    {
     "data": {
      "text/plain": [
       "[9.0,\n",
       " 9.0,\n",
       " 9.0,\n",
       " 9.0,\n",
       " 9.0,\n",
       " 9.0,\n",
       " 9.0,\n",
       " 10.0,\n",
       " 10.0,\n",
       " 10.0,\n",
       " 10.0,\n",
       " 10.0,\n",
       " 10.0,\n",
       " 10.0,\n",
       " 10.0,\n",
       " 10.0,\n",
       " 10.0,\n",
       " 10.0,\n",
       " 10.0,\n",
       " 10.0,\n",
       " 10.0,\n",
       " 10.0,\n",
       " 10.0,\n",
       " 10.5,\n",
       " 30.0,\n",
       " 30.0,\n",
       " 30.0,\n",
       " 30.0,\n",
       " 30.0,\n",
       " 30.0,\n",
       " 30.0,\n",
       " 30.0,\n",
       " 30.0,\n",
       " 30.0,\n",
       " 30.0,\n",
       " 30.0,\n",
       " 30.0,\n",
       " 30.0,\n",
       " 30.0,\n",
       " 30.0,\n",
       " 30.0,\n",
       " 30.0,\n",
       " 30.0,\n",
       " 30.0,\n",
       " 30.0]"
      ]
     },
     "execution_count": 31,
     "metadata": {},
     "output_type": "execute_result"
    }
   ],
   "source": [
    "detect_outliers_iqr (df.VoltagePower) "
   ]
  },
  {
   "cell_type": "code",
   "execution_count": 32,
   "id": "9be92099",
   "metadata": {},
   "outputs": [],
   "source": [
    "# nothing will be done as its presence is important, but can be normalized"
   ]
  },
  {
   "cell_type": "code",
   "execution_count": 33,
   "id": "3d7ef585",
   "metadata": {},
   "outputs": [
    {
     "data": {
      "text/plain": [
       "[4.0, 4.0, 4.0, 4.0, 4.0, 4.0, 4.0, 4.0, 4.0, 7.0, 10.0]"
      ]
     },
     "execution_count": 33,
     "metadata": {},
     "output_type": "execute_result"
    }
   ],
   "source": [
    "detect_outliers_iqr (df.FlowRate) "
   ]
  },
  {
   "cell_type": "code",
   "execution_count": 34,
   "id": "5110674e",
   "metadata": {},
   "outputs": [],
   "source": [
    "# the variation in these can be considered important thus will be retained and later could be removed"
   ]
  },
  {
   "cell_type": "code",
   "execution_count": 35,
   "id": "5536fe6d",
   "metadata": {},
   "outputs": [
    {
     "data": {
      "text/plain": [
       "[20.0,\n",
       " 26.0,\n",
       " 26.5,\n",
       " 26.6,\n",
       " 27.5,\n",
       " 27.7,\n",
       " 28.0,\n",
       " 28.0,\n",
       " 28.0,\n",
       " 28.0,\n",
       " 28.5,\n",
       " 28.5,\n",
       " 28.5,\n",
       " 28.6,\n",
       " 30.0,\n",
       " 30.0,\n",
       " 30.0,\n",
       " 30.0,\n",
       " 30.0,\n",
       " 30.2,\n",
       " 30.9,\n",
       " 32.0,\n",
       " 32.5,\n",
       " 32.5,\n",
       " 32.5,\n",
       " 32.5,\n",
       " 32.5,\n",
       " 32.5,\n",
       " 32.5,\n",
       " 32.5,\n",
       " 32.5,\n",
       " 32.5,\n",
       " 32.5,\n",
       " 32.5,\n",
       " 33.0,\n",
       " 33.7,\n",
       " 35.0,\n",
       " 35.0,\n",
       " 35.0,\n",
       " 35.0,\n",
       " 35.5,\n",
       " 36.0,\n",
       " 36.5,\n",
       " 37.5,\n",
       " 38.0,\n",
       " 39.3,\n",
       " 40.0,\n",
       " 40.0,\n",
       " 40.0,\n",
       " 40.0,\n",
       " 42.0,\n",
       " 42.0,\n",
       " 42.0,\n",
       " 43.0,\n",
       " 43.0,\n",
       " 45.0,\n",
       " 45.0,\n",
       " 45.0,\n",
       " 80.0,\n",
       " 80.0,\n",
       " 80.0,\n",
       " 80.0,\n",
       " 80.0,\n",
       " 80.0]"
      ]
     },
     "execution_count": 35,
     "metadata": {},
     "output_type": "execute_result"
    }
   ],
   "source": [
    "detect_outliers_iqr (df.Temperature) "
   ]
  },
  {
   "cell_type": "code",
   "execution_count": 36,
   "id": "e626328b",
   "metadata": {},
   "outputs": [],
   "source": [
    "# nothing will be done as its presence is important, but can be normalized"
   ]
  },
  {
   "cell_type": "markdown",
   "id": "bb2863d4",
   "metadata": {},
   "source": [
    "# To Build Regressor Model"
   ]
  },
  {
   "cell_type": "code",
   "execution_count": 37,
   "id": "1492a16a",
   "metadata": {},
   "outputs": [],
   "source": [
    "from sklearn.linear_model import LinearRegression\n",
    "from sklearn.model_selection import train_test_split\n",
    "from sklearn.metrics import mean_squared_error, r2_score\n",
    "from sklearn.model_selection import cross_val_score\n",
    "from sklearn.tree import DecisionTreeRegressor\n",
    "from sklearn.model_selection import learning_curve\n",
    "\n",
    "from sklearn.preprocessing import PolynomialFeatures"
   ]
  },
  {
   "cell_type": "code",
   "execution_count": 38,
   "id": "62d140d1",
   "metadata": {},
   "outputs": [],
   "source": [
    "from sklearn import preprocessing\n",
    "from sklearn.preprocessing import OneHotEncoder\n",
    "from sklearn.preprocessing import LabelEncoder"
   ]
  },
  {
   "cell_type": "code",
   "execution_count": 39,
   "id": "bb4da094",
   "metadata": {},
   "outputs": [],
   "source": [
    "#### To convert the objects to numeric data, we first will check to use label or onehotencoder"
   ]
  },
  {
   "cell_type": "code",
   "execution_count": 40,
   "id": "063096e7",
   "metadata": {},
   "outputs": [
    {
     "data": {
      "text/plain": [
       "PEO                                            68\n",
       "PVP                                            30\n",
       "Chitosan (50) and PEO (50)                     17\n",
       "PCL                                            16\n",
       "PAN                                            14\n",
       "                                               ..\n",
       "Chitosan (90) and PEO (10)                      1\n",
       "4% PVA98 (80) and 1% Chitosan (20)              1\n",
       "5% PVA98 (83.33) and 1% Chitosan (16.66)        1\n",
       "6% PVA98 (85.7) and 1% Chitosan (14.3)          1\n",
       "PVA98 (46) and PAA (14) and PVP-Iodine (40)     1\n",
       "Name: PolymerType, Length: 78, dtype: int64"
      ]
     },
     "execution_count": 40,
     "metadata": {},
     "output_type": "execute_result"
    }
   ],
   "source": [
    "df.PolymerType.value_counts()"
   ]
  },
  {
   "cell_type": "code",
   "execution_count": 41,
   "id": "259668d7",
   "metadata": {},
   "outputs": [
    {
     "data": {
      "text/plain": [
       "DMF                                        60\n",
       "Water                                      55\n",
       "90% Acetic acid                            27\n",
       "30% Acetic acid                            18\n",
       "chlorofom (90) and DMF (10)                16\n",
       "0.5M NaOH                                  11\n",
       "2% Acetic acid                             10\n",
       "1% Acetic acid                              9\n",
       "10% Acetic acid                             7\n",
       "DCM (30) and DMF (70)                       6\n",
       "0.5% Acetic acid                            5\n",
       "10mM Hydrochloric acid                      4\n",
       "Ethanol (85) and DMF (15)                   4\n",
       "80% Acetic acid                             3\n",
       "20% Acetic acid                             3\n",
       "40% Acetic acid                             3\n",
       "50% Acetic acid                             3\n",
       "70% Acetic acid                             3\n",
       "60% Acetic acid                             3\n",
       "Water (85) and DMF (15)                     3\n",
       "25% Acetic acid                             2\n",
       "15% Acetic acid                             2\n",
       "0.6% Acetic acid                            2\n",
       "0.4% Acetic acid                            2\n",
       "0.2% Acetic acid                            2\n",
       "Acetone (66.6) + Dimethylacetate (33.3)     2\n",
       "75% Acetic acid                             2\n",
       "45% Acetic acid                             2\n",
       "1.5% Acetic acid                            1\n",
       "Water (80) and DMF (20)                     1\n",
       "1.4% Acetic acid                            1\n",
       "100% Acetic acid                            1\n",
       "85% Acetic acid                             1\n",
       "5% Acetic acid                              1\n",
       "35% Acetic acid                             1\n",
       "95% Acetic acid                             1\n",
       "55% Acetic acid                             1\n",
       "65% Acetic acid                             1\n",
       "Name: Solvent, dtype: int64"
      ]
     },
     "execution_count": 41,
     "metadata": {},
     "output_type": "execute_result"
    }
   ],
   "source": [
    "df.Solvent.value_counts()"
   ]
  },
  {
   "cell_type": "code",
   "execution_count": 42,
   "id": "301d8c37",
   "metadata": {},
   "outputs": [
    {
     "data": {
      "text/plain": [
       "None            274\n",
       "1% Triton         4\n",
       "0.5 % Triton      1\n",
       "Name: SAA, dtype: int64"
      ]
     },
     "execution_count": 42,
     "metadata": {},
     "output_type": "execute_result"
    }
   ],
   "source": [
    "df.SAA.value_counts()"
   ]
  },
  {
   "cell_type": "code",
   "execution_count": 43,
   "id": "96a9e5b0",
   "metadata": {},
   "outputs": [
    {
     "data": {
      "text/plain": [
       "None         271\n",
       "Water 4h       3\n",
       "Water 24h      2\n",
       "Water 1W       2\n",
       "Water 1h       1\n",
       "Name: Hydration, dtype: int64"
      ]
     },
     "execution_count": 43,
     "metadata": {},
     "output_type": "execute_result"
    }
   ],
   "source": [
    "df.Hydration.value_counts()"
   ]
  },
  {
   "cell_type": "markdown",
   "id": "7d6adae7",
   "metadata": {},
   "source": [
    "#### Making LabelEncoder for 'SAA' & 'Hydration'"
   ]
  },
  {
   "cell_type": "code",
   "execution_count": 44,
   "id": "96c4482f",
   "metadata": {},
   "outputs": [],
   "source": [
    "le = preprocessing.LabelEncoder()\n",
    "df['SAA']=le .fit_transform(df['SAA'])"
   ]
  },
  {
   "cell_type": "code",
   "execution_count": 45,
   "id": "9050e1e0",
   "metadata": {},
   "outputs": [
    {
     "data": {
      "text/html": [
       "<div>\n",
       "<style scoped>\n",
       "    .dataframe tbody tr th:only-of-type {\n",
       "        vertical-align: middle;\n",
       "    }\n",
       "\n",
       "    .dataframe tbody tr th {\n",
       "        vertical-align: top;\n",
       "    }\n",
       "\n",
       "    .dataframe thead th {\n",
       "        text-align: right;\n",
       "    }\n",
       "</style>\n",
       "<table border=\"1\" class=\"dataframe\">\n",
       "  <thead>\n",
       "    <tr style=\"text-align: right;\">\n",
       "      <th></th>\n",
       "      <th>PolymerType</th>\n",
       "      <th>PolymerConcentration</th>\n",
       "      <th>Solvent</th>\n",
       "      <th>SAA</th>\n",
       "      <th>SodiumChloride</th>\n",
       "      <th>Ethanol</th>\n",
       "      <th>DistanceFromNeedleToCollector</th>\n",
       "      <th>VoltagePower</th>\n",
       "      <th>FlowRate</th>\n",
       "      <th>Temperature</th>\n",
       "      <th>Hydration</th>\n",
       "      <th>Humidity</th>\n",
       "      <th>Size</th>\n",
       "    </tr>\n",
       "  </thead>\n",
       "  <tbody>\n",
       "    <tr>\n",
       "      <th>0</th>\n",
       "      <td>Chitosan</td>\n",
       "      <td>5.0</td>\n",
       "      <td>15% Acetic acid</td>\n",
       "      <td>2</td>\n",
       "      <td>0.0</td>\n",
       "      <td>0</td>\n",
       "      <td>15.0</td>\n",
       "      <td>20.0</td>\n",
       "      <td>0.4</td>\n",
       "      <td>25.0</td>\n",
       "      <td>None</td>\n",
       "      <td>30</td>\n",
       "      <td>0.0</td>\n",
       "    </tr>\n",
       "    <tr>\n",
       "      <th>1</th>\n",
       "      <td>Chitosan</td>\n",
       "      <td>5.0</td>\n",
       "      <td>30% Acetic acid</td>\n",
       "      <td>2</td>\n",
       "      <td>0.0</td>\n",
       "      <td>0</td>\n",
       "      <td>15.0</td>\n",
       "      <td>20.0</td>\n",
       "      <td>0.4</td>\n",
       "      <td>25.0</td>\n",
       "      <td>None</td>\n",
       "      <td>30</td>\n",
       "      <td>0.0</td>\n",
       "    </tr>\n",
       "    <tr>\n",
       "      <th>2</th>\n",
       "      <td>Chitosan</td>\n",
       "      <td>5.0</td>\n",
       "      <td>45% Acetic acid</td>\n",
       "      <td>2</td>\n",
       "      <td>0.0</td>\n",
       "      <td>0</td>\n",
       "      <td>15.0</td>\n",
       "      <td>20.0</td>\n",
       "      <td>0.4</td>\n",
       "      <td>25.0</td>\n",
       "      <td>None</td>\n",
       "      <td>30</td>\n",
       "      <td>65.0</td>\n",
       "    </tr>\n",
       "    <tr>\n",
       "      <th>3</th>\n",
       "      <td>Chitosan</td>\n",
       "      <td>5.0</td>\n",
       "      <td>60% Acetic acid</td>\n",
       "      <td>2</td>\n",
       "      <td>0.0</td>\n",
       "      <td>0</td>\n",
       "      <td>15.0</td>\n",
       "      <td>20.0</td>\n",
       "      <td>0.4</td>\n",
       "      <td>25.0</td>\n",
       "      <td>None</td>\n",
       "      <td>30</td>\n",
       "      <td>70.0</td>\n",
       "    </tr>\n",
       "    <tr>\n",
       "      <th>4</th>\n",
       "      <td>Chitosan</td>\n",
       "      <td>5.0</td>\n",
       "      <td>75% Acetic acid</td>\n",
       "      <td>2</td>\n",
       "      <td>0.0</td>\n",
       "      <td>0</td>\n",
       "      <td>15.0</td>\n",
       "      <td>20.0</td>\n",
       "      <td>0.4</td>\n",
       "      <td>25.0</td>\n",
       "      <td>None</td>\n",
       "      <td>30</td>\n",
       "      <td>125.0</td>\n",
       "    </tr>\n",
       "  </tbody>\n",
       "</table>\n",
       "</div>"
      ],
      "text/plain": [
       "  PolymerType  PolymerConcentration          Solvent  SAA  SodiumChloride  \\\n",
       "0    Chitosan                   5.0  15% Acetic acid    2             0.0   \n",
       "1    Chitosan                   5.0  30% Acetic acid    2             0.0   \n",
       "2    Chitosan                   5.0  45% Acetic acid    2             0.0   \n",
       "3    Chitosan                   5.0  60% Acetic acid    2             0.0   \n",
       "4    Chitosan                   5.0  75% Acetic acid    2             0.0   \n",
       "\n",
       "   Ethanol  DistanceFromNeedleToCollector  VoltagePower  FlowRate  \\\n",
       "0        0                           15.0          20.0       0.4   \n",
       "1        0                           15.0          20.0       0.4   \n",
       "2        0                           15.0          20.0       0.4   \n",
       "3        0                           15.0          20.0       0.4   \n",
       "4        0                           15.0          20.0       0.4   \n",
       "\n",
       "   Temperature Hydration  Humidity   Size  \n",
       "0         25.0      None        30    0.0  \n",
       "1         25.0      None        30    0.0  \n",
       "2         25.0      None        30   65.0  \n",
       "3         25.0      None        30   70.0  \n",
       "4         25.0      None        30  125.0  "
      ]
     },
     "execution_count": 45,
     "metadata": {},
     "output_type": "execute_result"
    }
   ],
   "source": [
    "df.head()"
   ]
  },
  {
   "cell_type": "code",
   "execution_count": 46,
   "id": "35417b81",
   "metadata": {},
   "outputs": [],
   "source": [
    "le = preprocessing.LabelEncoder()\n",
    "df['Hydration']=le .fit_transform(df['Hydration'])"
   ]
  },
  {
   "cell_type": "code",
   "execution_count": 47,
   "id": "7917060e",
   "metadata": {},
   "outputs": [
    {
     "data": {
      "text/html": [
       "<div>\n",
       "<style scoped>\n",
       "    .dataframe tbody tr th:only-of-type {\n",
       "        vertical-align: middle;\n",
       "    }\n",
       "\n",
       "    .dataframe tbody tr th {\n",
       "        vertical-align: top;\n",
       "    }\n",
       "\n",
       "    .dataframe thead th {\n",
       "        text-align: right;\n",
       "    }\n",
       "</style>\n",
       "<table border=\"1\" class=\"dataframe\">\n",
       "  <thead>\n",
       "    <tr style=\"text-align: right;\">\n",
       "      <th></th>\n",
       "      <th>PolymerType</th>\n",
       "      <th>PolymerConcentration</th>\n",
       "      <th>Solvent</th>\n",
       "      <th>SAA</th>\n",
       "      <th>SodiumChloride</th>\n",
       "      <th>Ethanol</th>\n",
       "      <th>DistanceFromNeedleToCollector</th>\n",
       "      <th>VoltagePower</th>\n",
       "      <th>FlowRate</th>\n",
       "      <th>Temperature</th>\n",
       "      <th>Hydration</th>\n",
       "      <th>Humidity</th>\n",
       "      <th>Size</th>\n",
       "    </tr>\n",
       "  </thead>\n",
       "  <tbody>\n",
       "    <tr>\n",
       "      <th>0</th>\n",
       "      <td>Chitosan</td>\n",
       "      <td>5.0</td>\n",
       "      <td>15% Acetic acid</td>\n",
       "      <td>2</td>\n",
       "      <td>0.0</td>\n",
       "      <td>0</td>\n",
       "      <td>15.0</td>\n",
       "      <td>20.0</td>\n",
       "      <td>0.4</td>\n",
       "      <td>25.0</td>\n",
       "      <td>0</td>\n",
       "      <td>30</td>\n",
       "      <td>0.0</td>\n",
       "    </tr>\n",
       "    <tr>\n",
       "      <th>1</th>\n",
       "      <td>Chitosan</td>\n",
       "      <td>5.0</td>\n",
       "      <td>30% Acetic acid</td>\n",
       "      <td>2</td>\n",
       "      <td>0.0</td>\n",
       "      <td>0</td>\n",
       "      <td>15.0</td>\n",
       "      <td>20.0</td>\n",
       "      <td>0.4</td>\n",
       "      <td>25.0</td>\n",
       "      <td>0</td>\n",
       "      <td>30</td>\n",
       "      <td>0.0</td>\n",
       "    </tr>\n",
       "    <tr>\n",
       "      <th>2</th>\n",
       "      <td>Chitosan</td>\n",
       "      <td>5.0</td>\n",
       "      <td>45% Acetic acid</td>\n",
       "      <td>2</td>\n",
       "      <td>0.0</td>\n",
       "      <td>0</td>\n",
       "      <td>15.0</td>\n",
       "      <td>20.0</td>\n",
       "      <td>0.4</td>\n",
       "      <td>25.0</td>\n",
       "      <td>0</td>\n",
       "      <td>30</td>\n",
       "      <td>65.0</td>\n",
       "    </tr>\n",
       "    <tr>\n",
       "      <th>3</th>\n",
       "      <td>Chitosan</td>\n",
       "      <td>5.0</td>\n",
       "      <td>60% Acetic acid</td>\n",
       "      <td>2</td>\n",
       "      <td>0.0</td>\n",
       "      <td>0</td>\n",
       "      <td>15.0</td>\n",
       "      <td>20.0</td>\n",
       "      <td>0.4</td>\n",
       "      <td>25.0</td>\n",
       "      <td>0</td>\n",
       "      <td>30</td>\n",
       "      <td>70.0</td>\n",
       "    </tr>\n",
       "    <tr>\n",
       "      <th>4</th>\n",
       "      <td>Chitosan</td>\n",
       "      <td>5.0</td>\n",
       "      <td>75% Acetic acid</td>\n",
       "      <td>2</td>\n",
       "      <td>0.0</td>\n",
       "      <td>0</td>\n",
       "      <td>15.0</td>\n",
       "      <td>20.0</td>\n",
       "      <td>0.4</td>\n",
       "      <td>25.0</td>\n",
       "      <td>0</td>\n",
       "      <td>30</td>\n",
       "      <td>125.0</td>\n",
       "    </tr>\n",
       "  </tbody>\n",
       "</table>\n",
       "</div>"
      ],
      "text/plain": [
       "  PolymerType  PolymerConcentration          Solvent  SAA  SodiumChloride  \\\n",
       "0    Chitosan                   5.0  15% Acetic acid    2             0.0   \n",
       "1    Chitosan                   5.0  30% Acetic acid    2             0.0   \n",
       "2    Chitosan                   5.0  45% Acetic acid    2             0.0   \n",
       "3    Chitosan                   5.0  60% Acetic acid    2             0.0   \n",
       "4    Chitosan                   5.0  75% Acetic acid    2             0.0   \n",
       "\n",
       "   Ethanol  DistanceFromNeedleToCollector  VoltagePower  FlowRate  \\\n",
       "0        0                           15.0          20.0       0.4   \n",
       "1        0                           15.0          20.0       0.4   \n",
       "2        0                           15.0          20.0       0.4   \n",
       "3        0                           15.0          20.0       0.4   \n",
       "4        0                           15.0          20.0       0.4   \n",
       "\n",
       "   Temperature  Hydration  Humidity   Size  \n",
       "0         25.0          0        30    0.0  \n",
       "1         25.0          0        30    0.0  \n",
       "2         25.0          0        30   65.0  \n",
       "3         25.0          0        30   70.0  \n",
       "4         25.0          0        30  125.0  "
      ]
     },
     "execution_count": 47,
     "metadata": {},
     "output_type": "execute_result"
    }
   ],
   "source": [
    "df.head()"
   ]
  },
  {
   "cell_type": "markdown",
   "id": "158e9043",
   "metadata": {},
   "source": [
    "#### Making OneHotEncoder for 'PolymerType' & 'Solvent'"
   ]
  },
  {
   "cell_type": "code",
   "execution_count": 48,
   "id": "41cf4575",
   "metadata": {},
   "outputs": [],
   "source": [
    "import numpy as np"
   ]
  },
  {
   "cell_type": "code",
   "execution_count": 49,
   "id": "e1f9c646",
   "metadata": {},
   "outputs": [
    {
     "name": "stdout",
     "output_type": "stream",
     "text": [
      "[[0. 0. 0. ... 0. 0. 0.]\n",
      " [0. 0. 0. ... 0. 0. 0.]\n",
      " [0. 0. 0. ... 0. 0. 0.]\n",
      " ...\n",
      " [0. 0. 0. ... 0. 0. 0.]\n",
      " [0. 0. 0. ... 0. 0. 0.]\n",
      " [0. 0. 0. ... 0. 0. 0.]]\n"
     ]
    }
   ],
   "source": [
    "ohe = OneHotEncoder()\n",
    "transformed = ohe.fit_transform(df[['PolymerType']])\n",
    "print(transformed.toarray())"
   ]
  },
  {
   "cell_type": "code",
   "execution_count": 50,
   "id": "1cea438c",
   "metadata": {},
   "outputs": [
    {
     "name": "stdout",
     "output_type": "stream",
     "text": [
      "[array([' PVA 99%', '10% PVA 98 (46) and 35% PAA (14) and 10% PVP (40)',\n",
      "       '10% PVA 98 (70) and 1% Chitosan (35)',\n",
      "       '10% PVA 98 (75) and 1% Chitosan (25)',\n",
      "       '10% PVA 98 (76) and 35% PAA (24)',\n",
      "       '10% PVA 98 (80) and 1% Chitosan (20)',\n",
      "       '10% PVA 98 (85) and 1% Chitosan (15)',\n",
      "       '10% PVA98 (20) and 10% PVP (10) and 2% Chitosan (70)',\n",
      "       '10% PVA98 (40) and 10% PVP (10) and 2% Chitosan (50)',\n",
      "       '10% PVA98 (60) and 10% PVP (10) and 2% Chitosan (30)',\n",
      "       '10% PVA98 (70) and 10% PVP (10) and 2% Chitosan (20)',\n",
      "       '10% PVA98 (80) and 10% PVP (10) and 2% Chitosan (10)',\n",
      "       '10% PVA98 and 10% PVP', '10% PVA98 and 10% PVP and 5% Chitosan',\n",
      "       '10% PVA98 and 10% PVP-Iodine and 5% Chitosan ',\n",
      "       '10%PVA 88 (10) and 40% PVP (50) and 8% Chitosan (10)',\n",
      "       '10%PVA 88 (30) and 40% PVP (40) and 8% Chitosan (40)',\n",
      "       '10%PVA 88 (40) and 40% PVP (40) and 8% Chitosan (20)',\n",
      "       '25% PAN  and 75% PVdF', '4% PVA98 (80) and 1% Chitosan (20)',\n",
      "       '5% PVA98 (83.33) and 1% Chitosan (16.66)',\n",
      "       '50% PAN  and 50% PVdF', '6% PVA98 (85.7) and 1% Chitosan (14.3)',\n",
      "       '7% PVA98 (87.5) and 1% Chitosan (12.5)', '75% PAN  and 25% PVdF',\n",
      "       '8% PVA98 (88.88) and 1% Chitosan (11.11)', 'Cellulose acetate',\n",
      "       'Chitosan', 'Chitosan (40) and PEO (60)',\n",
      "       'Chitosan (50) and PEO (50)', 'Chitosan (60) and PEO (40)',\n",
      "       'Chitosan (70) and PEO (30)', 'Chitosan (80) and PEO (20)',\n",
      "       'Chitosan (90) and PEO (10)',\n",
      "       'Collagen (33.33) and Elastin (66.66) and PEO (0.5)',\n",
      "       'Collagen (50) and Elastin (50) and PEO (0.5)  ',\n",
      "       'Collagen(25) and Elastin (75) and PEO (0.5)',\n",
      "       'HA and PVA88 and PEI and GA', 'Na alginate (70)  and PEO (30) ',\n",
      "       'PAN', 'PCL', 'PDLA', 'PDLLA', 'PEO', 'PEO (15) and Lignin (85)',\n",
      "       'PEO (3) and Lignin (97)', 'PEO (4) and Lignin (96)',\n",
      "       'PEO (5) and Lignin (95)', 'PEO (95) and Lignin (5)',\n",
      "       'PEO (97) and Lignin (3)', 'PLLA', 'PVA', 'PVA88',\n",
      "       'PVA88 and PEI and GA', 'PVA89 ', 'PVA89 and SC1.25',\n",
      "       'PVA89 and SC2.5', 'PVA89 and SC5', 'PVA92', 'PVA96', 'PVA98',\n",
      "       'PVA98 (31) and PAA (9) and PVP (40) and 1% Chitosan (2)',\n",
      "       'PVA98 (46) and PAA (14) and PVP-Iodine (40)',\n",
      "       'PVA98 (50) and 2% Chitosan (50)',\n",
      "       'PVA98 (75) and 1% Chitosan (25)',\n",
      "       'PVA98 (83) and 1% Chitosan (17)',\n",
      "       'PVA98 (89) and 1% Chitosan (11)', 'PVA99.9',\n",
      "       'PVA99.9  (99.5) and  PAA (0.5)', 'PVA99.9 (99.5)  and  PAA (0.5)',\n",
      "       'PVA99.9 and GA', 'PVA99.9 and GA ',\n",
      "       'PVA99.9 and GA in HCl and Methanol for 15 days',\n",
      "       'PVA99.9 and GA in HCl and Methanol for 9 days', 'PVP',\n",
      "       'PVP and SC1.25', 'PVP and SC2.5', 'PVP and SC5'], dtype=object)]\n"
     ]
    }
   ],
   "source": [
    "print(ohe.categories_)"
   ]
  },
  {
   "cell_type": "code",
   "execution_count": 51,
   "id": "06534b14",
   "metadata": {},
   "outputs": [
    {
     "name": "stdout",
     "output_type": "stream",
     "text": [
      "  PolymerType  PolymerConcentration          Solvent  SAA  SodiumChloride  \\\n",
      "0    Chitosan                   5.0  15% Acetic acid    2             0.0   \n",
      "1    Chitosan                   5.0  30% Acetic acid    2             0.0   \n",
      "2    Chitosan                   5.0  45% Acetic acid    2             0.0   \n",
      "3    Chitosan                   5.0  60% Acetic acid    2             0.0   \n",
      "4    Chitosan                   5.0  75% Acetic acid    2             0.0   \n",
      "\n",
      "   Ethanol  DistanceFromNeedleToCollector  VoltagePower  FlowRate  \\\n",
      "0        0                           15.0          20.0       0.4   \n",
      "1        0                           15.0          20.0       0.4   \n",
      "2        0                           15.0          20.0       0.4   \n",
      "3        0                           15.0          20.0       0.4   \n",
      "4        0                           15.0          20.0       0.4   \n",
      "\n",
      "   Temperature  ...  PVA99.9  (99.5) and  PAA (0.5)  \\\n",
      "0         25.0  ...                             0.0   \n",
      "1         25.0  ...                             0.0   \n",
      "2         25.0  ...                             0.0   \n",
      "3         25.0  ...                             0.0   \n",
      "4         25.0  ...                             0.0   \n",
      "\n",
      "   PVA99.9 (99.5)  and  PAA (0.5)  PVA99.9 and GA  PVA99.9 and GA   \\\n",
      "0                             0.0             0.0              0.0   \n",
      "1                             0.0             0.0              0.0   \n",
      "2                             0.0             0.0              0.0   \n",
      "3                             0.0             0.0              0.0   \n",
      "4                             0.0             0.0              0.0   \n",
      "\n",
      "   PVA99.9 and GA in HCl and Methanol for 15 days  \\\n",
      "0                                             0.0   \n",
      "1                                             0.0   \n",
      "2                                             0.0   \n",
      "3                                             0.0   \n",
      "4                                             0.0   \n",
      "\n",
      "   PVA99.9 and GA in HCl and Methanol for 9 days  PVP  PVP and SC1.25  \\\n",
      "0                                            0.0  0.0             0.0   \n",
      "1                                            0.0  0.0             0.0   \n",
      "2                                            0.0  0.0             0.0   \n",
      "3                                            0.0  0.0             0.0   \n",
      "4                                            0.0  0.0             0.0   \n",
      "\n",
      "   PVP and SC2.5  PVP and SC5  \n",
      "0            0.0          0.0  \n",
      "1            0.0          0.0  \n",
      "2            0.0          0.0  \n",
      "3            0.0          0.0  \n",
      "4            0.0          0.0  \n",
      "\n",
      "[5 rows x 91 columns]\n"
     ]
    }
   ],
   "source": [
    "df[ohe.categories_[0]] = transformed.toarray()\n",
    "print(df.head())"
   ]
  },
  {
   "cell_type": "code",
   "execution_count": 52,
   "id": "18504d77",
   "metadata": {},
   "outputs": [
    {
     "name": "stdout",
     "output_type": "stream",
     "text": [
      "<class 'pandas.core.frame.DataFrame'>\n",
      "RangeIndex: 279 entries, 0 to 278\n",
      "Data columns (total 91 columns):\n",
      " #   Column                                                   Non-Null Count  Dtype  \n",
      "---  ------                                                   --------------  -----  \n",
      " 0   PolymerType                                              279 non-null    object \n",
      " 1   PolymerConcentration                                     279 non-null    float64\n",
      " 2   Solvent                                                  279 non-null    object \n",
      " 3   SAA                                                      279 non-null    int32  \n",
      " 4   SodiumChloride                                           279 non-null    float64\n",
      " 5   Ethanol                                                  279 non-null    int64  \n",
      " 6   DistanceFromNeedleToCollector                            273 non-null    float64\n",
      " 7   VoltagePower                                             279 non-null    float64\n",
      " 8   FlowRate                                                 279 non-null    float64\n",
      " 9   Temperature                                              279 non-null    float64\n",
      " 10  Hydration                                                279 non-null    int32  \n",
      " 11  Humidity                                                 279 non-null    int64  \n",
      " 12  Size                                                     279 non-null    float64\n",
      " 13   PVA 99%                                                 279 non-null    float64\n",
      " 14  10% PVA 98 (46) and 35% PAA (14) and 10% PVP (40)        279 non-null    float64\n",
      " 15  10% PVA 98 (70) and 1% Chitosan (35)                     279 non-null    float64\n",
      " 16  10% PVA 98 (75) and 1% Chitosan (25)                     279 non-null    float64\n",
      " 17  10% PVA 98 (76) and 35% PAA (24)                         279 non-null    float64\n",
      " 18  10% PVA 98 (80) and 1% Chitosan (20)                     279 non-null    float64\n",
      " 19  10% PVA 98 (85) and 1% Chitosan (15)                     279 non-null    float64\n",
      " 20  10% PVA98 (20) and 10% PVP (10) and 2% Chitosan (70)     279 non-null    float64\n",
      " 21  10% PVA98 (40) and 10% PVP (10) and 2% Chitosan (50)     279 non-null    float64\n",
      " 22  10% PVA98 (60) and 10% PVP (10) and 2% Chitosan (30)     279 non-null    float64\n",
      " 23  10% PVA98 (70) and 10% PVP (10) and 2% Chitosan (20)     279 non-null    float64\n",
      " 24  10% PVA98 (80) and 10% PVP (10) and 2% Chitosan (10)     279 non-null    float64\n",
      " 25  10% PVA98 and 10% PVP                                    279 non-null    float64\n",
      " 26  10% PVA98 and 10% PVP and 5% Chitosan                    279 non-null    float64\n",
      " 27  10% PVA98 and 10% PVP-Iodine and 5% Chitosan             279 non-null    float64\n",
      " 28  10%PVA 88 (10) and 40% PVP (50) and 8% Chitosan (10)     279 non-null    float64\n",
      " 29  10%PVA 88 (30) and 40% PVP (40) and 8% Chitosan (40)     279 non-null    float64\n",
      " 30  10%PVA 88 (40) and 40% PVP (40) and 8% Chitosan (20)     279 non-null    float64\n",
      " 31  25% PAN  and 75% PVdF                                    279 non-null    float64\n",
      " 32  4% PVA98 (80) and 1% Chitosan (20)                       279 non-null    float64\n",
      " 33  5% PVA98 (83.33) and 1% Chitosan (16.66)                 279 non-null    float64\n",
      " 34  50% PAN  and 50% PVdF                                    279 non-null    float64\n",
      " 35  6% PVA98 (85.7) and 1% Chitosan (14.3)                   279 non-null    float64\n",
      " 36  7% PVA98 (87.5) and 1% Chitosan (12.5)                   279 non-null    float64\n",
      " 37  75% PAN  and 25% PVdF                                    279 non-null    float64\n",
      " 38  8% PVA98 (88.88) and 1% Chitosan (11.11)                 279 non-null    float64\n",
      " 39  Cellulose acetate                                        279 non-null    float64\n",
      " 40  Chitosan                                                 279 non-null    float64\n",
      " 41  Chitosan (40) and PEO (60)                               279 non-null    float64\n",
      " 42  Chitosan (50) and PEO (50)                               279 non-null    float64\n",
      " 43  Chitosan (60) and PEO (40)                               279 non-null    float64\n",
      " 44  Chitosan (70) and PEO (30)                               279 non-null    float64\n",
      " 45  Chitosan (80) and PEO (20)                               279 non-null    float64\n",
      " 46  Chitosan (90) and PEO (10)                               279 non-null    float64\n",
      " 47  Collagen (33.33) and Elastin (66.66) and PEO (0.5)       279 non-null    float64\n",
      " 48  Collagen (50) and Elastin (50) and PEO (0.5)             279 non-null    float64\n",
      " 49  Collagen(25) and Elastin (75) and PEO (0.5)              279 non-null    float64\n",
      " 50  HA and PVA88 and PEI and GA                              279 non-null    float64\n",
      " 51  Na alginate (70)  and PEO (30)                           279 non-null    float64\n",
      " 52  PAN                                                      279 non-null    float64\n",
      " 53  PCL                                                      279 non-null    float64\n",
      " 54  PDLA                                                     279 non-null    float64\n",
      " 55  PDLLA                                                    279 non-null    float64\n",
      " 56  PEO                                                      279 non-null    float64\n",
      " 57  PEO (15) and Lignin (85)                                 279 non-null    float64\n",
      " 58  PEO (3) and Lignin (97)                                  279 non-null    float64\n",
      " 59  PEO (4) and Lignin (96)                                  279 non-null    float64\n",
      " 60  PEO (5) and Lignin (95)                                  279 non-null    float64\n",
      " 61  PEO (95) and Lignin (5)                                  279 non-null    float64\n",
      " 62  PEO (97) and Lignin (3)                                  279 non-null    float64\n",
      " 63  PLLA                                                     279 non-null    float64\n",
      " 64  PVA                                                      279 non-null    float64\n",
      " 65  PVA88                                                    279 non-null    float64\n",
      " 66  PVA88 and PEI and GA                                     279 non-null    float64\n",
      " 67  PVA89                                                    279 non-null    float64\n",
      " 68  PVA89 and SC1.25                                         279 non-null    float64\n",
      " 69  PVA89 and SC2.5                                          279 non-null    float64\n",
      " 70  PVA89 and SC5                                            279 non-null    float64\n",
      " 71  PVA92                                                    279 non-null    float64\n",
      " 72  PVA96                                                    279 non-null    float64\n",
      " 73  PVA98                                                    279 non-null    float64\n",
      " 74  PVA98 (31) and PAA (9) and PVP (40) and 1% Chitosan (2)  279 non-null    float64\n",
      " 75  PVA98 (46) and PAA (14) and PVP-Iodine (40)              279 non-null    float64\n",
      " 76  PVA98 (50) and 2% Chitosan (50)                          279 non-null    float64\n",
      " 77  PVA98 (75) and 1% Chitosan (25)                          279 non-null    float64\n",
      " 78  PVA98 (83) and 1% Chitosan (17)                          279 non-null    float64\n",
      " 79  PVA98 (89) and 1% Chitosan (11)                          279 non-null    float64\n",
      " 80  PVA99.9                                                  279 non-null    float64\n",
      " 81  PVA99.9  (99.5) and  PAA (0.5)                           279 non-null    float64\n",
      " 82  PVA99.9 (99.5)  and  PAA (0.5)                           279 non-null    float64\n",
      " 83  PVA99.9 and GA                                           279 non-null    float64\n",
      " 84  PVA99.9 and GA                                           279 non-null    float64\n",
      " 85  PVA99.9 and GA in HCl and Methanol for 15 days           279 non-null    float64\n",
      " 86  PVA99.9 and GA in HCl and Methanol for 9 days            279 non-null    float64\n",
      " 87  PVP                                                      279 non-null    float64\n",
      " 88  PVP and SC1.25                                           279 non-null    float64\n",
      " 89  PVP and SC2.5                                            279 non-null    float64\n",
      " 90  PVP and SC5                                              279 non-null    float64\n",
      "dtypes: float64(85), int32(2), int64(2), object(2)\n",
      "memory usage: 196.3+ KB\n"
     ]
    }
   ],
   "source": [
    "df.info()"
   ]
  },
  {
   "cell_type": "code",
   "execution_count": 53,
   "id": "4d8ec164",
   "metadata": {},
   "outputs": [
    {
     "name": "stdout",
     "output_type": "stream",
     "text": [
      "[[0. 0. 0. ... 0. 0. 0.]\n",
      " [0. 0. 0. ... 0. 0. 0.]\n",
      " [0. 0. 0. ... 0. 0. 0.]\n",
      " ...\n",
      " [0. 0. 0. ... 0. 0. 0.]\n",
      " [0. 0. 0. ... 0. 0. 0.]\n",
      " [0. 0. 0. ... 0. 0. 0.]]\n"
     ]
    }
   ],
   "source": [
    "ohe = OneHotEncoder()\n",
    "transformed = ohe.fit_transform(df[['Solvent']])\n",
    "print(transformed.toarray())"
   ]
  },
  {
   "cell_type": "code",
   "execution_count": 54,
   "id": "d1433891",
   "metadata": {},
   "outputs": [
    {
     "name": "stdout",
     "output_type": "stream",
     "text": [
      "[array(['0.2% Acetic acid', '0.4% Acetic acid', '0.5% Acetic acid',\n",
      "       '0.5M NaOH', '0.6% Acetic acid', '1% Acetic acid',\n",
      "       '1.4% Acetic acid', '1.5% Acetic acid', '10% Acetic acid',\n",
      "       '100% Acetic acid', '10mM Hydrochloric acid', '15% Acetic acid',\n",
      "       '2% Acetic acid', '20% Acetic acid', '25% Acetic acid',\n",
      "       '30% Acetic acid', '35% Acetic acid', '40% Acetic acid',\n",
      "       '45% Acetic acid', '5% Acetic acid', '50% Acetic acid',\n",
      "       '55% Acetic acid', '60% Acetic acid', '65% Acetic acid',\n",
      "       '70% Acetic acid', '75% Acetic acid', '80% Acetic acid',\n",
      "       '85% Acetic acid', '90% Acetic acid', '95% Acetic acid',\n",
      "       'Acetone (66.6) + Dimethylacetate (33.3)', 'DCM (30) and DMF (70)',\n",
      "       'DMF', 'Ethanol (85) and DMF (15)', 'Water',\n",
      "       'Water (80) and DMF (20)', 'Water (85) and DMF (15)',\n",
      "       'chlorofom (90) and DMF (10)'], dtype=object)]\n"
     ]
    }
   ],
   "source": [
    "print(ohe.categories_)"
   ]
  },
  {
   "cell_type": "code",
   "execution_count": 55,
   "id": "f3e407d2",
   "metadata": {},
   "outputs": [
    {
     "name": "stdout",
     "output_type": "stream",
     "text": [
      "  PolymerType  PolymerConcentration          Solvent  SAA  SodiumChloride  \\\n",
      "0    Chitosan                   5.0  15% Acetic acid    2             0.0   \n",
      "1    Chitosan                   5.0  30% Acetic acid    2             0.0   \n",
      "2    Chitosan                   5.0  45% Acetic acid    2             0.0   \n",
      "3    Chitosan                   5.0  60% Acetic acid    2             0.0   \n",
      "4    Chitosan                   5.0  75% Acetic acid    2             0.0   \n",
      "\n",
      "   Ethanol  DistanceFromNeedleToCollector  VoltagePower  FlowRate  \\\n",
      "0        0                           15.0          20.0       0.4   \n",
      "1        0                           15.0          20.0       0.4   \n",
      "2        0                           15.0          20.0       0.4   \n",
      "3        0                           15.0          20.0       0.4   \n",
      "4        0                           15.0          20.0       0.4   \n",
      "\n",
      "   Temperature  ...  90% Acetic acid  95% Acetic acid  \\\n",
      "0         25.0  ...              0.0              0.0   \n",
      "1         25.0  ...              0.0              0.0   \n",
      "2         25.0  ...              0.0              0.0   \n",
      "3         25.0  ...              0.0              0.0   \n",
      "4         25.0  ...              0.0              0.0   \n",
      "\n",
      "   Acetone (66.6) + Dimethylacetate (33.3)  DCM (30) and DMF (70)  DMF  \\\n",
      "0                                      0.0                    0.0  0.0   \n",
      "1                                      0.0                    0.0  0.0   \n",
      "2                                      0.0                    0.0  0.0   \n",
      "3                                      0.0                    0.0  0.0   \n",
      "4                                      0.0                    0.0  0.0   \n",
      "\n",
      "   Ethanol (85) and DMF (15)  Water  Water (80) and DMF (20)  \\\n",
      "0                        0.0    0.0                      0.0   \n",
      "1                        0.0    0.0                      0.0   \n",
      "2                        0.0    0.0                      0.0   \n",
      "3                        0.0    0.0                      0.0   \n",
      "4                        0.0    0.0                      0.0   \n",
      "\n",
      "   Water (85) and DMF (15)  chlorofom (90) and DMF (10)  \n",
      "0                      0.0                          0.0  \n",
      "1                      0.0                          0.0  \n",
      "2                      0.0                          0.0  \n",
      "3                      0.0                          0.0  \n",
      "4                      0.0                          0.0  \n",
      "\n",
      "[5 rows x 129 columns]\n"
     ]
    }
   ],
   "source": [
    "df[ohe.categories_[0]] = transformed.toarray()\n",
    "print(df.head())"
   ]
  },
  {
   "cell_type": "code",
   "execution_count": 56,
   "id": "06d110d9",
   "metadata": {},
   "outputs": [
    {
     "data": {
      "text/plain": [
       "<bound method DataFrame.info of     PolymerType  PolymerConcentration          Solvent  SAA  SodiumChloride  \\\n",
       "0      Chitosan                   5.0  15% Acetic acid    2             0.0   \n",
       "1      Chitosan                   5.0  30% Acetic acid    2             0.0   \n",
       "2      Chitosan                   5.0  45% Acetic acid    2             0.0   \n",
       "3      Chitosan                   5.0  60% Acetic acid    2             0.0   \n",
       "4      Chitosan                   5.0  75% Acetic acid    2             0.0   \n",
       "..          ...                   ...              ...  ...             ...   \n",
       "274         PEO                   3.0  70% Acetic acid    2             0.0   \n",
       "275         PEO                   4.5  80% Acetic acid    2             0.0   \n",
       "276         PEO                   3.0  10% Acetic acid    2             0.0   \n",
       "277         PEO                   5.0  90% Acetic acid    2             0.0   \n",
       "278         PEO                   3.2  65% Acetic acid    2             0.0   \n",
       "\n",
       "     Ethanol  DistanceFromNeedleToCollector  VoltagePower  FlowRate  \\\n",
       "0          0                           15.0          20.0       0.4   \n",
       "1          0                           15.0          20.0       0.4   \n",
       "2          0                           15.0          20.0       0.4   \n",
       "3          0                           15.0          20.0       0.4   \n",
       "4          0                           15.0          20.0       0.4   \n",
       "..       ...                            ...           ...       ...   \n",
       "274        0                           14.0          10.0       1.0   \n",
       "275        0                           14.0          20.5       1.0   \n",
       "276        0                           14.0          15.0       1.0   \n",
       "277        0                           14.0          20.0       1.0   \n",
       "278        0                           14.0          12.6       1.0   \n",
       "\n",
       "     Temperature  ...  90% Acetic acid  95% Acetic acid  \\\n",
       "0           25.0  ...              0.0              0.0   \n",
       "1           25.0  ...              0.0              0.0   \n",
       "2           25.0  ...              0.0              0.0   \n",
       "3           25.0  ...              0.0              0.0   \n",
       "4           25.0  ...              0.0              0.0   \n",
       "..           ...  ...              ...              ...   \n",
       "274         25.0  ...              0.0              0.0   \n",
       "275         30.0  ...              0.0              0.0   \n",
       "276         35.0  ...              0.0              0.0   \n",
       "277         45.0  ...              1.0              0.0   \n",
       "278         30.0  ...              0.0              0.0   \n",
       "\n",
       "     Acetone (66.6) + Dimethylacetate (33.3)  DCM (30) and DMF (70)  DMF  \\\n",
       "0                                        0.0                    0.0  0.0   \n",
       "1                                        0.0                    0.0  0.0   \n",
       "2                                        0.0                    0.0  0.0   \n",
       "3                                        0.0                    0.0  0.0   \n",
       "4                                        0.0                    0.0  0.0   \n",
       "..                                       ...                    ...  ...   \n",
       "274                                      0.0                    0.0  0.0   \n",
       "275                                      0.0                    0.0  0.0   \n",
       "276                                      0.0                    0.0  0.0   \n",
       "277                                      0.0                    0.0  0.0   \n",
       "278                                      0.0                    0.0  0.0   \n",
       "\n",
       "     Ethanol (85) and DMF (15)  Water  Water (80) and DMF (20)  \\\n",
       "0                          0.0    0.0                      0.0   \n",
       "1                          0.0    0.0                      0.0   \n",
       "2                          0.0    0.0                      0.0   \n",
       "3                          0.0    0.0                      0.0   \n",
       "4                          0.0    0.0                      0.0   \n",
       "..                         ...    ...                      ...   \n",
       "274                        0.0    0.0                      0.0   \n",
       "275                        0.0    0.0                      0.0   \n",
       "276                        0.0    0.0                      0.0   \n",
       "277                        0.0    0.0                      0.0   \n",
       "278                        0.0    0.0                      0.0   \n",
       "\n",
       "     Water (85) and DMF (15)  chlorofom (90) and DMF (10)  \n",
       "0                        0.0                          0.0  \n",
       "1                        0.0                          0.0  \n",
       "2                        0.0                          0.0  \n",
       "3                        0.0                          0.0  \n",
       "4                        0.0                          0.0  \n",
       "..                       ...                          ...  \n",
       "274                      0.0                          0.0  \n",
       "275                      0.0                          0.0  \n",
       "276                      0.0                          0.0  \n",
       "277                      0.0                          0.0  \n",
       "278                      0.0                          0.0  \n",
       "\n",
       "[279 rows x 129 columns]>"
      ]
     },
     "execution_count": 56,
     "metadata": {},
     "output_type": "execute_result"
    }
   ],
   "source": [
    "df.info"
   ]
  },
  {
   "cell_type": "code",
   "execution_count": 57,
   "id": "4acd1e19",
   "metadata": {},
   "outputs": [],
   "source": [
    "df.drop('PolymerType', axis=1, inplace=True)"
   ]
  },
  {
   "cell_type": "code",
   "execution_count": 58,
   "id": "11695d96",
   "metadata": {},
   "outputs": [],
   "source": [
    "df.drop('Solvent', axis=1, inplace=True)"
   ]
  },
  {
   "cell_type": "markdown",
   "id": "40eb884d",
   "metadata": {},
   "source": [
    "### For Normalization of Data"
   ]
  },
  {
   "cell_type": "code",
   "execution_count": 59,
   "id": "fe6bfead",
   "metadata": {
    "scrolled": false
   },
   "outputs": [
    {
     "name": "stdout",
     "output_type": "stream",
     "text": [
      "<class 'pandas.core.frame.DataFrame'>\n",
      "RangeIndex: 279 entries, 0 to 278\n",
      "Columns: 127 entries, PolymerConcentration to chlorofom (90) and DMF (10)\n",
      "dtypes: float64(123), int32(2), int64(2)\n",
      "memory usage: 274.8 KB\n"
     ]
    }
   ],
   "source": [
    "df.info()"
   ]
  },
  {
   "cell_type": "code",
   "execution_count": 60,
   "id": "efd5c427",
   "metadata": {},
   "outputs": [
    {
     "data": {
      "text/html": [
       "<div>\n",
       "<style scoped>\n",
       "    .dataframe tbody tr th:only-of-type {\n",
       "        vertical-align: middle;\n",
       "    }\n",
       "\n",
       "    .dataframe tbody tr th {\n",
       "        vertical-align: top;\n",
       "    }\n",
       "\n",
       "    .dataframe thead th {\n",
       "        text-align: right;\n",
       "    }\n",
       "</style>\n",
       "<table border=\"1\" class=\"dataframe\">\n",
       "  <thead>\n",
       "    <tr style=\"text-align: right;\">\n",
       "      <th></th>\n",
       "      <th>PolymerConcentration</th>\n",
       "      <th>SAA</th>\n",
       "      <th>SodiumChloride</th>\n",
       "      <th>Ethanol</th>\n",
       "      <th>DistanceFromNeedleToCollector</th>\n",
       "      <th>VoltagePower</th>\n",
       "      <th>FlowRate</th>\n",
       "      <th>Temperature</th>\n",
       "      <th>Hydration</th>\n",
       "      <th>Humidity</th>\n",
       "      <th>...</th>\n",
       "      <th>90% Acetic acid</th>\n",
       "      <th>95% Acetic acid</th>\n",
       "      <th>Acetone (66.6) + Dimethylacetate (33.3)</th>\n",
       "      <th>DCM (30) and DMF (70)</th>\n",
       "      <th>DMF</th>\n",
       "      <th>Ethanol (85) and DMF (15)</th>\n",
       "      <th>Water</th>\n",
       "      <th>Water (80) and DMF (20)</th>\n",
       "      <th>Water (85) and DMF (15)</th>\n",
       "      <th>chlorofom (90) and DMF (10)</th>\n",
       "    </tr>\n",
       "  </thead>\n",
       "  <tbody>\n",
       "    <tr>\n",
       "      <th>0</th>\n",
       "      <td>5.0</td>\n",
       "      <td>2</td>\n",
       "      <td>0.0</td>\n",
       "      <td>0</td>\n",
       "      <td>15.0</td>\n",
       "      <td>20.0</td>\n",
       "      <td>0.4</td>\n",
       "      <td>25.0</td>\n",
       "      <td>0</td>\n",
       "      <td>30</td>\n",
       "      <td>...</td>\n",
       "      <td>0.0</td>\n",
       "      <td>0.0</td>\n",
       "      <td>0.0</td>\n",
       "      <td>0.0</td>\n",
       "      <td>0.0</td>\n",
       "      <td>0.0</td>\n",
       "      <td>0.0</td>\n",
       "      <td>0.0</td>\n",
       "      <td>0.0</td>\n",
       "      <td>0.0</td>\n",
       "    </tr>\n",
       "    <tr>\n",
       "      <th>1</th>\n",
       "      <td>5.0</td>\n",
       "      <td>2</td>\n",
       "      <td>0.0</td>\n",
       "      <td>0</td>\n",
       "      <td>15.0</td>\n",
       "      <td>20.0</td>\n",
       "      <td>0.4</td>\n",
       "      <td>25.0</td>\n",
       "      <td>0</td>\n",
       "      <td>30</td>\n",
       "      <td>...</td>\n",
       "      <td>0.0</td>\n",
       "      <td>0.0</td>\n",
       "      <td>0.0</td>\n",
       "      <td>0.0</td>\n",
       "      <td>0.0</td>\n",
       "      <td>0.0</td>\n",
       "      <td>0.0</td>\n",
       "      <td>0.0</td>\n",
       "      <td>0.0</td>\n",
       "      <td>0.0</td>\n",
       "    </tr>\n",
       "    <tr>\n",
       "      <th>2</th>\n",
       "      <td>5.0</td>\n",
       "      <td>2</td>\n",
       "      <td>0.0</td>\n",
       "      <td>0</td>\n",
       "      <td>15.0</td>\n",
       "      <td>20.0</td>\n",
       "      <td>0.4</td>\n",
       "      <td>25.0</td>\n",
       "      <td>0</td>\n",
       "      <td>30</td>\n",
       "      <td>...</td>\n",
       "      <td>0.0</td>\n",
       "      <td>0.0</td>\n",
       "      <td>0.0</td>\n",
       "      <td>0.0</td>\n",
       "      <td>0.0</td>\n",
       "      <td>0.0</td>\n",
       "      <td>0.0</td>\n",
       "      <td>0.0</td>\n",
       "      <td>0.0</td>\n",
       "      <td>0.0</td>\n",
       "    </tr>\n",
       "    <tr>\n",
       "      <th>3</th>\n",
       "      <td>5.0</td>\n",
       "      <td>2</td>\n",
       "      <td>0.0</td>\n",
       "      <td>0</td>\n",
       "      <td>15.0</td>\n",
       "      <td>20.0</td>\n",
       "      <td>0.4</td>\n",
       "      <td>25.0</td>\n",
       "      <td>0</td>\n",
       "      <td>30</td>\n",
       "      <td>...</td>\n",
       "      <td>0.0</td>\n",
       "      <td>0.0</td>\n",
       "      <td>0.0</td>\n",
       "      <td>0.0</td>\n",
       "      <td>0.0</td>\n",
       "      <td>0.0</td>\n",
       "      <td>0.0</td>\n",
       "      <td>0.0</td>\n",
       "      <td>0.0</td>\n",
       "      <td>0.0</td>\n",
       "    </tr>\n",
       "    <tr>\n",
       "      <th>4</th>\n",
       "      <td>5.0</td>\n",
       "      <td>2</td>\n",
       "      <td>0.0</td>\n",
       "      <td>0</td>\n",
       "      <td>15.0</td>\n",
       "      <td>20.0</td>\n",
       "      <td>0.4</td>\n",
       "      <td>25.0</td>\n",
       "      <td>0</td>\n",
       "      <td>30</td>\n",
       "      <td>...</td>\n",
       "      <td>0.0</td>\n",
       "      <td>0.0</td>\n",
       "      <td>0.0</td>\n",
       "      <td>0.0</td>\n",
       "      <td>0.0</td>\n",
       "      <td>0.0</td>\n",
       "      <td>0.0</td>\n",
       "      <td>0.0</td>\n",
       "      <td>0.0</td>\n",
       "      <td>0.0</td>\n",
       "    </tr>\n",
       "  </tbody>\n",
       "</table>\n",
       "<p>5 rows × 127 columns</p>\n",
       "</div>"
      ],
      "text/plain": [
       "   PolymerConcentration  SAA  SodiumChloride  Ethanol  \\\n",
       "0                   5.0    2             0.0        0   \n",
       "1                   5.0    2             0.0        0   \n",
       "2                   5.0    2             0.0        0   \n",
       "3                   5.0    2             0.0        0   \n",
       "4                   5.0    2             0.0        0   \n",
       "\n",
       "   DistanceFromNeedleToCollector  VoltagePower  FlowRate  Temperature  \\\n",
       "0                           15.0          20.0       0.4         25.0   \n",
       "1                           15.0          20.0       0.4         25.0   \n",
       "2                           15.0          20.0       0.4         25.0   \n",
       "3                           15.0          20.0       0.4         25.0   \n",
       "4                           15.0          20.0       0.4         25.0   \n",
       "\n",
       "   Hydration  Humidity  ...  90% Acetic acid  95% Acetic acid  \\\n",
       "0          0        30  ...              0.0              0.0   \n",
       "1          0        30  ...              0.0              0.0   \n",
       "2          0        30  ...              0.0              0.0   \n",
       "3          0        30  ...              0.0              0.0   \n",
       "4          0        30  ...              0.0              0.0   \n",
       "\n",
       "   Acetone (66.6) + Dimethylacetate (33.3)  DCM (30) and DMF (70)  DMF  \\\n",
       "0                                      0.0                    0.0  0.0   \n",
       "1                                      0.0                    0.0  0.0   \n",
       "2                                      0.0                    0.0  0.0   \n",
       "3                                      0.0                    0.0  0.0   \n",
       "4                                      0.0                    0.0  0.0   \n",
       "\n",
       "   Ethanol (85) and DMF (15)  Water  Water (80) and DMF (20)  \\\n",
       "0                        0.0    0.0                      0.0   \n",
       "1                        0.0    0.0                      0.0   \n",
       "2                        0.0    0.0                      0.0   \n",
       "3                        0.0    0.0                      0.0   \n",
       "4                        0.0    0.0                      0.0   \n",
       "\n",
       "   Water (85) and DMF (15)  chlorofom (90) and DMF (10)  \n",
       "0                      0.0                          0.0  \n",
       "1                      0.0                          0.0  \n",
       "2                      0.0                          0.0  \n",
       "3                      0.0                          0.0  \n",
       "4                      0.0                          0.0  \n",
       "\n",
       "[5 rows x 127 columns]"
      ]
     },
     "execution_count": 60,
     "metadata": {},
     "output_type": "execute_result"
    }
   ],
   "source": [
    "df.head()"
   ]
  },
  {
   "cell_type": "code",
   "execution_count": 61,
   "id": "a26fd0cc",
   "metadata": {},
   "outputs": [],
   "source": [
    "y=df['Size']\n",
    "x= df.drop('Size',axis=1)"
   ]
  },
  {
   "cell_type": "code",
   "execution_count": 62,
   "id": "e34cf16d",
   "metadata": {},
   "outputs": [],
   "source": [
    "from sklearn.preprocessing import MinMaxScaler\n",
    "min_max=MinMaxScaler()"
   ]
  },
  {
   "cell_type": "code",
   "execution_count": 63,
   "id": "c2b92039",
   "metadata": {},
   "outputs": [],
   "source": [
    "col=x.columns"
   ]
  },
  {
   "cell_type": "code",
   "execution_count": 64,
   "id": "75a255f4",
   "metadata": {},
   "outputs": [
    {
     "data": {
      "text/plain": [
       "Index(['PolymerConcentration', 'SAA', 'SodiumChloride', 'Ethanol',\n",
       "       'DistanceFromNeedleToCollector', 'VoltagePower', 'FlowRate',\n",
       "       'Temperature', 'Hydration', 'Humidity',\n",
       "       ...\n",
       "       '90% Acetic acid', '95% Acetic acid',\n",
       "       'Acetone (66.6) + Dimethylacetate (33.3)', 'DCM (30) and DMF (70)',\n",
       "       'DMF', 'Ethanol (85) and DMF (15)', 'Water', 'Water (80) and DMF (20)',\n",
       "       'Water (85) and DMF (15)', 'chlorofom (90) and DMF (10)'],\n",
       "      dtype='object', length=126)"
      ]
     },
     "execution_count": 64,
     "metadata": {},
     "output_type": "execute_result"
    }
   ],
   "source": [
    "col"
   ]
  },
  {
   "cell_type": "code",
   "execution_count": 65,
   "id": "ae47dece",
   "metadata": {
    "scrolled": true
   },
   "outputs": [],
   "source": [
    "df[col]=min_max.fit_transform(df[col])"
   ]
  },
  {
   "cell_type": "code",
   "execution_count": 66,
   "id": "a41f20e5",
   "metadata": {},
   "outputs": [
    {
     "name": "stdout",
     "output_type": "stream",
     "text": [
      "<class 'pandas.core.frame.DataFrame'>\n",
      "RangeIndex: 279 entries, 0 to 278\n",
      "Columns: 127 entries, PolymerConcentration to chlorofom (90) and DMF (10)\n",
      "dtypes: float64(127)\n",
      "memory usage: 276.9 KB\n"
     ]
    }
   ],
   "source": [
    "df.info()"
   ]
  },
  {
   "cell_type": "code",
   "execution_count": 67,
   "id": "e7d53c93",
   "metadata": {},
   "outputs": [
    {
     "data": {
      "text/plain": [
       "<bound method DataFrame.info of      PolymerConcentration  SAA  SodiumChloride  Ethanol  \\\n",
       "0                0.117906  1.0             0.0      0.0   \n",
       "1                0.117906  1.0             0.0      0.0   \n",
       "2                0.117906  1.0             0.0      0.0   \n",
       "3                0.117906  1.0             0.0      0.0   \n",
       "4                0.117906  1.0             0.0      0.0   \n",
       "..                    ...  ...             ...      ...   \n",
       "274              0.059100  1.0             0.0      0.0   \n",
       "275              0.103205  1.0             0.0      0.0   \n",
       "276              0.059100  1.0             0.0      0.0   \n",
       "277              0.117906  1.0             0.0      0.0   \n",
       "278              0.064981  1.0             0.0      0.0   \n",
       "\n",
       "     DistanceFromNeedleToCollector  VoltagePower  FlowRate  Temperature  \\\n",
       "0                         0.410029      0.523810  0.030303     0.083333   \n",
       "1                         0.410029      0.523810  0.030303     0.083333   \n",
       "2                         0.410029      0.523810  0.030303     0.083333   \n",
       "3                         0.410029      0.523810  0.030303     0.083333   \n",
       "4                         0.410029      0.523810  0.030303     0.083333   \n",
       "..                             ...           ...       ...          ...   \n",
       "274                       0.380531      0.047619  0.090909     0.083333   \n",
       "275                       0.380531      0.547619  0.090909     0.166667   \n",
       "276                       0.380531      0.285714  0.090909     0.250000   \n",
       "277                       0.380531      0.523810  0.090909     0.416667   \n",
       "278                       0.380531      0.171429  0.090909     0.166667   \n",
       "\n",
       "     Hydration  Humidity  ...  90% Acetic acid  95% Acetic acid  \\\n",
       "0          0.0       0.0  ...              0.0              0.0   \n",
       "1          0.0       0.0  ...              0.0              0.0   \n",
       "2          0.0       0.0  ...              0.0              0.0   \n",
       "3          0.0       0.0  ...              0.0              0.0   \n",
       "4          0.0       0.0  ...              0.0              0.0   \n",
       "..         ...       ...  ...              ...              ...   \n",
       "274        0.0       0.0  ...              0.0              0.0   \n",
       "275        0.0       0.0  ...              0.0              0.0   \n",
       "276        0.0       0.0  ...              0.0              0.0   \n",
       "277        0.0       0.0  ...              1.0              0.0   \n",
       "278        0.0       0.0  ...              0.0              0.0   \n",
       "\n",
       "     Acetone (66.6) + Dimethylacetate (33.3)  DCM (30) and DMF (70)  DMF  \\\n",
       "0                                        0.0                    0.0  0.0   \n",
       "1                                        0.0                    0.0  0.0   \n",
       "2                                        0.0                    0.0  0.0   \n",
       "3                                        0.0                    0.0  0.0   \n",
       "4                                        0.0                    0.0  0.0   \n",
       "..                                       ...                    ...  ...   \n",
       "274                                      0.0                    0.0  0.0   \n",
       "275                                      0.0                    0.0  0.0   \n",
       "276                                      0.0                    0.0  0.0   \n",
       "277                                      0.0                    0.0  0.0   \n",
       "278                                      0.0                    0.0  0.0   \n",
       "\n",
       "     Ethanol (85) and DMF (15)  Water  Water (80) and DMF (20)  \\\n",
       "0                          0.0    0.0                      0.0   \n",
       "1                          0.0    0.0                      0.0   \n",
       "2                          0.0    0.0                      0.0   \n",
       "3                          0.0    0.0                      0.0   \n",
       "4                          0.0    0.0                      0.0   \n",
       "..                         ...    ...                      ...   \n",
       "274                        0.0    0.0                      0.0   \n",
       "275                        0.0    0.0                      0.0   \n",
       "276                        0.0    0.0                      0.0   \n",
       "277                        0.0    0.0                      0.0   \n",
       "278                        0.0    0.0                      0.0   \n",
       "\n",
       "     Water (85) and DMF (15)  chlorofom (90) and DMF (10)  \n",
       "0                        0.0                          0.0  \n",
       "1                        0.0                          0.0  \n",
       "2                        0.0                          0.0  \n",
       "3                        0.0                          0.0  \n",
       "4                        0.0                          0.0  \n",
       "..                       ...                          ...  \n",
       "274                      0.0                          0.0  \n",
       "275                      0.0                          0.0  \n",
       "276                      0.0                          0.0  \n",
       "277                      0.0                          0.0  \n",
       "278                      0.0                          0.0  \n",
       "\n",
       "[279 rows x 127 columns]>"
      ]
     },
     "execution_count": 67,
     "metadata": {},
     "output_type": "execute_result"
    }
   ],
   "source": [
    "df.info"
   ]
  },
  {
   "cell_type": "code",
   "execution_count": 68,
   "id": "e412982f",
   "metadata": {
    "scrolled": true
   },
   "outputs": [
    {
     "data": {
      "text/html": [
       "<div>\n",
       "<style scoped>\n",
       "    .dataframe tbody tr th:only-of-type {\n",
       "        vertical-align: middle;\n",
       "    }\n",
       "\n",
       "    .dataframe tbody tr th {\n",
       "        vertical-align: top;\n",
       "    }\n",
       "\n",
       "    .dataframe thead th {\n",
       "        text-align: right;\n",
       "    }\n",
       "</style>\n",
       "<table border=\"1\" class=\"dataframe\">\n",
       "  <thead>\n",
       "    <tr style=\"text-align: right;\">\n",
       "      <th></th>\n",
       "      <th>PolymerConcentration</th>\n",
       "      <th>SAA</th>\n",
       "      <th>SodiumChloride</th>\n",
       "      <th>Ethanol</th>\n",
       "      <th>DistanceFromNeedleToCollector</th>\n",
       "      <th>VoltagePower</th>\n",
       "      <th>FlowRate</th>\n",
       "      <th>Temperature</th>\n",
       "      <th>Hydration</th>\n",
       "      <th>Humidity</th>\n",
       "      <th>...</th>\n",
       "      <th>90% Acetic acid</th>\n",
       "      <th>95% Acetic acid</th>\n",
       "      <th>Acetone (66.6) + Dimethylacetate (33.3)</th>\n",
       "      <th>DCM (30) and DMF (70)</th>\n",
       "      <th>DMF</th>\n",
       "      <th>Ethanol (85) and DMF (15)</th>\n",
       "      <th>Water</th>\n",
       "      <th>Water (80) and DMF (20)</th>\n",
       "      <th>Water (85) and DMF (15)</th>\n",
       "      <th>chlorofom (90) and DMF (10)</th>\n",
       "    </tr>\n",
       "  </thead>\n",
       "  <tbody>\n",
       "    <tr>\n",
       "      <th>0</th>\n",
       "      <td>0.117906</td>\n",
       "      <td>1.0</td>\n",
       "      <td>0.0</td>\n",
       "      <td>0.0</td>\n",
       "      <td>0.410029</td>\n",
       "      <td>0.52381</td>\n",
       "      <td>0.030303</td>\n",
       "      <td>0.083333</td>\n",
       "      <td>0.0</td>\n",
       "      <td>0.0</td>\n",
       "      <td>...</td>\n",
       "      <td>0.0</td>\n",
       "      <td>0.0</td>\n",
       "      <td>0.0</td>\n",
       "      <td>0.0</td>\n",
       "      <td>0.0</td>\n",
       "      <td>0.0</td>\n",
       "      <td>0.0</td>\n",
       "      <td>0.0</td>\n",
       "      <td>0.0</td>\n",
       "      <td>0.0</td>\n",
       "    </tr>\n",
       "    <tr>\n",
       "      <th>1</th>\n",
       "      <td>0.117906</td>\n",
       "      <td>1.0</td>\n",
       "      <td>0.0</td>\n",
       "      <td>0.0</td>\n",
       "      <td>0.410029</td>\n",
       "      <td>0.52381</td>\n",
       "      <td>0.030303</td>\n",
       "      <td>0.083333</td>\n",
       "      <td>0.0</td>\n",
       "      <td>0.0</td>\n",
       "      <td>...</td>\n",
       "      <td>0.0</td>\n",
       "      <td>0.0</td>\n",
       "      <td>0.0</td>\n",
       "      <td>0.0</td>\n",
       "      <td>0.0</td>\n",
       "      <td>0.0</td>\n",
       "      <td>0.0</td>\n",
       "      <td>0.0</td>\n",
       "      <td>0.0</td>\n",
       "      <td>0.0</td>\n",
       "    </tr>\n",
       "    <tr>\n",
       "      <th>2</th>\n",
       "      <td>0.117906</td>\n",
       "      <td>1.0</td>\n",
       "      <td>0.0</td>\n",
       "      <td>0.0</td>\n",
       "      <td>0.410029</td>\n",
       "      <td>0.52381</td>\n",
       "      <td>0.030303</td>\n",
       "      <td>0.083333</td>\n",
       "      <td>0.0</td>\n",
       "      <td>0.0</td>\n",
       "      <td>...</td>\n",
       "      <td>0.0</td>\n",
       "      <td>0.0</td>\n",
       "      <td>0.0</td>\n",
       "      <td>0.0</td>\n",
       "      <td>0.0</td>\n",
       "      <td>0.0</td>\n",
       "      <td>0.0</td>\n",
       "      <td>0.0</td>\n",
       "      <td>0.0</td>\n",
       "      <td>0.0</td>\n",
       "    </tr>\n",
       "    <tr>\n",
       "      <th>3</th>\n",
       "      <td>0.117906</td>\n",
       "      <td>1.0</td>\n",
       "      <td>0.0</td>\n",
       "      <td>0.0</td>\n",
       "      <td>0.410029</td>\n",
       "      <td>0.52381</td>\n",
       "      <td>0.030303</td>\n",
       "      <td>0.083333</td>\n",
       "      <td>0.0</td>\n",
       "      <td>0.0</td>\n",
       "      <td>...</td>\n",
       "      <td>0.0</td>\n",
       "      <td>0.0</td>\n",
       "      <td>0.0</td>\n",
       "      <td>0.0</td>\n",
       "      <td>0.0</td>\n",
       "      <td>0.0</td>\n",
       "      <td>0.0</td>\n",
       "      <td>0.0</td>\n",
       "      <td>0.0</td>\n",
       "      <td>0.0</td>\n",
       "    </tr>\n",
       "    <tr>\n",
       "      <th>4</th>\n",
       "      <td>0.117906</td>\n",
       "      <td>1.0</td>\n",
       "      <td>0.0</td>\n",
       "      <td>0.0</td>\n",
       "      <td>0.410029</td>\n",
       "      <td>0.52381</td>\n",
       "      <td>0.030303</td>\n",
       "      <td>0.083333</td>\n",
       "      <td>0.0</td>\n",
       "      <td>0.0</td>\n",
       "      <td>...</td>\n",
       "      <td>0.0</td>\n",
       "      <td>0.0</td>\n",
       "      <td>0.0</td>\n",
       "      <td>0.0</td>\n",
       "      <td>0.0</td>\n",
       "      <td>0.0</td>\n",
       "      <td>0.0</td>\n",
       "      <td>0.0</td>\n",
       "      <td>0.0</td>\n",
       "      <td>0.0</td>\n",
       "    </tr>\n",
       "  </tbody>\n",
       "</table>\n",
       "<p>5 rows × 127 columns</p>\n",
       "</div>"
      ],
      "text/plain": [
       "   PolymerConcentration  SAA  SodiumChloride  Ethanol  \\\n",
       "0              0.117906  1.0             0.0      0.0   \n",
       "1              0.117906  1.0             0.0      0.0   \n",
       "2              0.117906  1.0             0.0      0.0   \n",
       "3              0.117906  1.0             0.0      0.0   \n",
       "4              0.117906  1.0             0.0      0.0   \n",
       "\n",
       "   DistanceFromNeedleToCollector  VoltagePower  FlowRate  Temperature  \\\n",
       "0                       0.410029       0.52381  0.030303     0.083333   \n",
       "1                       0.410029       0.52381  0.030303     0.083333   \n",
       "2                       0.410029       0.52381  0.030303     0.083333   \n",
       "3                       0.410029       0.52381  0.030303     0.083333   \n",
       "4                       0.410029       0.52381  0.030303     0.083333   \n",
       "\n",
       "   Hydration  Humidity  ...  90% Acetic acid  95% Acetic acid  \\\n",
       "0        0.0       0.0  ...              0.0              0.0   \n",
       "1        0.0       0.0  ...              0.0              0.0   \n",
       "2        0.0       0.0  ...              0.0              0.0   \n",
       "3        0.0       0.0  ...              0.0              0.0   \n",
       "4        0.0       0.0  ...              0.0              0.0   \n",
       "\n",
       "   Acetone (66.6) + Dimethylacetate (33.3)  DCM (30) and DMF (70)  DMF  \\\n",
       "0                                      0.0                    0.0  0.0   \n",
       "1                                      0.0                    0.0  0.0   \n",
       "2                                      0.0                    0.0  0.0   \n",
       "3                                      0.0                    0.0  0.0   \n",
       "4                                      0.0                    0.0  0.0   \n",
       "\n",
       "   Ethanol (85) and DMF (15)  Water  Water (80) and DMF (20)  \\\n",
       "0                        0.0    0.0                      0.0   \n",
       "1                        0.0    0.0                      0.0   \n",
       "2                        0.0    0.0                      0.0   \n",
       "3                        0.0    0.0                      0.0   \n",
       "4                        0.0    0.0                      0.0   \n",
       "\n",
       "   Water (85) and DMF (15)  chlorofom (90) and DMF (10)  \n",
       "0                      0.0                          0.0  \n",
       "1                      0.0                          0.0  \n",
       "2                      0.0                          0.0  \n",
       "3                      0.0                          0.0  \n",
       "4                      0.0                          0.0  \n",
       "\n",
       "[5 rows x 127 columns]"
      ]
     },
     "execution_count": 68,
     "metadata": {},
     "output_type": "execute_result"
    }
   ],
   "source": [
    "df.head()"
   ]
  },
  {
   "cell_type": "code",
   "execution_count": 69,
   "id": "d161746f",
   "metadata": {
    "scrolled": false
   },
   "outputs": [],
   "source": [
    "y=df['Size']\n",
    "x= df.drop('Size',axis=1)"
   ]
  },
  {
   "cell_type": "code",
   "execution_count": 70,
   "id": "41877fbf",
   "metadata": {},
   "outputs": [],
   "source": [
    "x = x.apply(pd.to_numeric, errors='coerce')\n",
    "y = y.apply(pd.to_numeric, errors='coerce')"
   ]
  },
  {
   "cell_type": "code",
   "execution_count": 71,
   "id": "d331e227",
   "metadata": {},
   "outputs": [],
   "source": [
    "x.fillna(0, inplace=True)\n",
    "y.fillna(0, inplace=True)"
   ]
  },
  {
   "cell_type": "code",
   "execution_count": 72,
   "id": "3bc473eb",
   "metadata": {},
   "outputs": [],
   "source": [
    "x_train,x_test,y_train,y_test=train_test_split(x,y,test_size=0.3,random_state=42)"
   ]
  },
  {
   "cell_type": "code",
   "execution_count": 73,
   "id": "15c6eee7",
   "metadata": {},
   "outputs": [
    {
     "data": {
      "text/plain": [
       "(279, 126)"
      ]
     },
     "execution_count": 73,
     "metadata": {},
     "output_type": "execute_result"
    }
   ],
   "source": [
    "x.shape"
   ]
  },
  {
   "cell_type": "code",
   "execution_count": 74,
   "id": "65ebce0c",
   "metadata": {
    "scrolled": true
   },
   "outputs": [
    {
     "data": {
      "text/plain": [
       "(195, 126)"
      ]
     },
     "execution_count": 74,
     "metadata": {},
     "output_type": "execute_result"
    }
   ],
   "source": [
    "x_train.shape"
   ]
  },
  {
   "cell_type": "code",
   "execution_count": 75,
   "id": "3e86d568",
   "metadata": {},
   "outputs": [
    {
     "name": "stdout",
     "output_type": "stream",
     "text": [
      "<class 'pandas.core.frame.DataFrame'>\n",
      "RangeIndex: 279 entries, 0 to 278\n",
      "Columns: 127 entries, PolymerConcentration to chlorofom (90) and DMF (10)\n",
      "dtypes: float64(127)\n",
      "memory usage: 276.9 KB\n"
     ]
    }
   ],
   "source": [
    "df.info()"
   ]
  },
  {
   "cell_type": "markdown",
   "id": "3be86ca7",
   "metadata": {},
   "source": [
    "# Linear Regression"
   ]
  },
  {
   "cell_type": "code",
   "execution_count": 76,
   "id": "078bf004",
   "metadata": {},
   "outputs": [],
   "source": [
    "x_train_lin,x_test_lin,y_train_lin,y_test_lin=train_test_split(x,y,test_size=0.3,random_state=42)"
   ]
  },
  {
   "cell_type": "code",
   "execution_count": 77,
   "id": "48a4f129",
   "metadata": {},
   "outputs": [],
   "source": [
    "regr= LinearRegression()"
   ]
  },
  {
   "cell_type": "code",
   "execution_count": 78,
   "id": "30b3575e",
   "metadata": {},
   "outputs": [
    {
     "data": {
      "text/html": [
       "<style>#sk-container-id-1 {color: black;background-color: white;}#sk-container-id-1 pre{padding: 0;}#sk-container-id-1 div.sk-toggleable {background-color: white;}#sk-container-id-1 label.sk-toggleable__label {cursor: pointer;display: block;width: 100%;margin-bottom: 0;padding: 0.3em;box-sizing: border-box;text-align: center;}#sk-container-id-1 label.sk-toggleable__label-arrow:before {content: \"▸\";float: left;margin-right: 0.25em;color: #696969;}#sk-container-id-1 label.sk-toggleable__label-arrow:hover:before {color: black;}#sk-container-id-1 div.sk-estimator:hover label.sk-toggleable__label-arrow:before {color: black;}#sk-container-id-1 div.sk-toggleable__content {max-height: 0;max-width: 0;overflow: hidden;text-align: left;background-color: #f0f8ff;}#sk-container-id-1 div.sk-toggleable__content pre {margin: 0.2em;color: black;border-radius: 0.25em;background-color: #f0f8ff;}#sk-container-id-1 input.sk-toggleable__control:checked~div.sk-toggleable__content {max-height: 200px;max-width: 100%;overflow: auto;}#sk-container-id-1 input.sk-toggleable__control:checked~label.sk-toggleable__label-arrow:before {content: \"▾\";}#sk-container-id-1 div.sk-estimator input.sk-toggleable__control:checked~label.sk-toggleable__label {background-color: #d4ebff;}#sk-container-id-1 div.sk-label input.sk-toggleable__control:checked~label.sk-toggleable__label {background-color: #d4ebff;}#sk-container-id-1 input.sk-hidden--visually {border: 0;clip: rect(1px 1px 1px 1px);clip: rect(1px, 1px, 1px, 1px);height: 1px;margin: -1px;overflow: hidden;padding: 0;position: absolute;width: 1px;}#sk-container-id-1 div.sk-estimator {font-family: monospace;background-color: #f0f8ff;border: 1px dotted black;border-radius: 0.25em;box-sizing: border-box;margin-bottom: 0.5em;}#sk-container-id-1 div.sk-estimator:hover {background-color: #d4ebff;}#sk-container-id-1 div.sk-parallel-item::after {content: \"\";width: 100%;border-bottom: 1px solid gray;flex-grow: 1;}#sk-container-id-1 div.sk-label:hover label.sk-toggleable__label {background-color: #d4ebff;}#sk-container-id-1 div.sk-serial::before {content: \"\";position: absolute;border-left: 1px solid gray;box-sizing: border-box;top: 0;bottom: 0;left: 50%;z-index: 0;}#sk-container-id-1 div.sk-serial {display: flex;flex-direction: column;align-items: center;background-color: white;padding-right: 0.2em;padding-left: 0.2em;position: relative;}#sk-container-id-1 div.sk-item {position: relative;z-index: 1;}#sk-container-id-1 div.sk-parallel {display: flex;align-items: stretch;justify-content: center;background-color: white;position: relative;}#sk-container-id-1 div.sk-item::before, #sk-container-id-1 div.sk-parallel-item::before {content: \"\";position: absolute;border-left: 1px solid gray;box-sizing: border-box;top: 0;bottom: 0;left: 50%;z-index: -1;}#sk-container-id-1 div.sk-parallel-item {display: flex;flex-direction: column;z-index: 1;position: relative;background-color: white;}#sk-container-id-1 div.sk-parallel-item:first-child::after {align-self: flex-end;width: 50%;}#sk-container-id-1 div.sk-parallel-item:last-child::after {align-self: flex-start;width: 50%;}#sk-container-id-1 div.sk-parallel-item:only-child::after {width: 0;}#sk-container-id-1 div.sk-dashed-wrapped {border: 1px dashed gray;margin: 0 0.4em 0.5em 0.4em;box-sizing: border-box;padding-bottom: 0.4em;background-color: white;}#sk-container-id-1 div.sk-label label {font-family: monospace;font-weight: bold;display: inline-block;line-height: 1.2em;}#sk-container-id-1 div.sk-label-container {text-align: center;}#sk-container-id-1 div.sk-container {/* jupyter's `normalize.less` sets `[hidden] { display: none; }` but bootstrap.min.css set `[hidden] { display: none !important; }` so we also need the `!important` here to be able to override the default hidden behavior on the sphinx rendered scikit-learn.org. See: https://github.com/scikit-learn/scikit-learn/issues/21755 */display: inline-block !important;position: relative;}#sk-container-id-1 div.sk-text-repr-fallback {display: none;}</style><div id=\"sk-container-id-1\" class=\"sk-top-container\"><div class=\"sk-text-repr-fallback\"><pre>LinearRegression()</pre><b>In a Jupyter environment, please rerun this cell to show the HTML representation or trust the notebook. <br />On GitHub, the HTML representation is unable to render, please try loading this page with nbviewer.org.</b></div><div class=\"sk-container\" hidden><div class=\"sk-item\"><div class=\"sk-estimator sk-toggleable\"><input class=\"sk-toggleable__control sk-hidden--visually\" id=\"sk-estimator-id-1\" type=\"checkbox\" checked><label for=\"sk-estimator-id-1\" class=\"sk-toggleable__label sk-toggleable__label-arrow\">LinearRegression</label><div class=\"sk-toggleable__content\"><pre>LinearRegression()</pre></div></div></div></div></div>"
      ],
      "text/plain": [
       "LinearRegression()"
      ]
     },
     "execution_count": 78,
     "metadata": {},
     "output_type": "execute_result"
    }
   ],
   "source": [
    "regr.fit(x_train_lin,y_train_lin)"
   ]
  },
  {
   "cell_type": "code",
   "execution_count": 79,
   "id": "c27b5b8f",
   "metadata": {},
   "outputs": [],
   "source": [
    "y_pred_lin=regr.predict(x_test_lin)"
   ]
  },
  {
   "cell_type": "code",
   "execution_count": 80,
   "id": "050d0af9",
   "metadata": {},
   "outputs": [
    {
     "data": {
      "text/plain": [
       "-3.903329185040887e+24"
      ]
     },
     "execution_count": 80,
     "metadata": {},
     "output_type": "execute_result"
    }
   ],
   "source": [
    "r2_score(y_test_lin,y_pred_lin)"
   ]
  },
  {
   "cell_type": "markdown",
   "id": "c22fb69d",
   "metadata": {},
   "source": [
    "# Decsion Tree Regressor"
   ]
  },
  {
   "cell_type": "code",
   "execution_count": 81,
   "id": "7639bcda",
   "metadata": {},
   "outputs": [],
   "source": [
    "x_train_tree,x_test_tree,y_train_tree,y_test_tree =train_test_split(x,y,test_size=0.3,random_state=42)"
   ]
  },
  {
   "cell_type": "code",
   "execution_count": 82,
   "id": "6fb14611",
   "metadata": {},
   "outputs": [],
   "source": [
    "tree_regr= DecisionTreeRegressor(max_depth=6, max_features='auto', splitter='best')"
   ]
  },
  {
   "cell_type": "code",
   "execution_count": 83,
   "id": "f37cb339",
   "metadata": {
    "scrolled": true
   },
   "outputs": [
    {
     "name": "stderr",
     "output_type": "stream",
     "text": [
      "C:\\Users\\Marwa\\AppData\\Roaming\\Python\\Python39\\site-packages\\sklearn\\tree\\_classes.py:306: FutureWarning: `max_features='auto'` has been deprecated in 1.1 and will be removed in 1.3. To keep the past behaviour, explicitly set `max_features=1.0'`.\n",
      "  warnings.warn(\n"
     ]
    },
    {
     "data": {
      "text/html": [
       "<style>#sk-container-id-2 {color: black;background-color: white;}#sk-container-id-2 pre{padding: 0;}#sk-container-id-2 div.sk-toggleable {background-color: white;}#sk-container-id-2 label.sk-toggleable__label {cursor: pointer;display: block;width: 100%;margin-bottom: 0;padding: 0.3em;box-sizing: border-box;text-align: center;}#sk-container-id-2 label.sk-toggleable__label-arrow:before {content: \"▸\";float: left;margin-right: 0.25em;color: #696969;}#sk-container-id-2 label.sk-toggleable__label-arrow:hover:before {color: black;}#sk-container-id-2 div.sk-estimator:hover label.sk-toggleable__label-arrow:before {color: black;}#sk-container-id-2 div.sk-toggleable__content {max-height: 0;max-width: 0;overflow: hidden;text-align: left;background-color: #f0f8ff;}#sk-container-id-2 div.sk-toggleable__content pre {margin: 0.2em;color: black;border-radius: 0.25em;background-color: #f0f8ff;}#sk-container-id-2 input.sk-toggleable__control:checked~div.sk-toggleable__content {max-height: 200px;max-width: 100%;overflow: auto;}#sk-container-id-2 input.sk-toggleable__control:checked~label.sk-toggleable__label-arrow:before {content: \"▾\";}#sk-container-id-2 div.sk-estimator input.sk-toggleable__control:checked~label.sk-toggleable__label {background-color: #d4ebff;}#sk-container-id-2 div.sk-label input.sk-toggleable__control:checked~label.sk-toggleable__label {background-color: #d4ebff;}#sk-container-id-2 input.sk-hidden--visually {border: 0;clip: rect(1px 1px 1px 1px);clip: rect(1px, 1px, 1px, 1px);height: 1px;margin: -1px;overflow: hidden;padding: 0;position: absolute;width: 1px;}#sk-container-id-2 div.sk-estimator {font-family: monospace;background-color: #f0f8ff;border: 1px dotted black;border-radius: 0.25em;box-sizing: border-box;margin-bottom: 0.5em;}#sk-container-id-2 div.sk-estimator:hover {background-color: #d4ebff;}#sk-container-id-2 div.sk-parallel-item::after {content: \"\";width: 100%;border-bottom: 1px solid gray;flex-grow: 1;}#sk-container-id-2 div.sk-label:hover label.sk-toggleable__label {background-color: #d4ebff;}#sk-container-id-2 div.sk-serial::before {content: \"\";position: absolute;border-left: 1px solid gray;box-sizing: border-box;top: 0;bottom: 0;left: 50%;z-index: 0;}#sk-container-id-2 div.sk-serial {display: flex;flex-direction: column;align-items: center;background-color: white;padding-right: 0.2em;padding-left: 0.2em;position: relative;}#sk-container-id-2 div.sk-item {position: relative;z-index: 1;}#sk-container-id-2 div.sk-parallel {display: flex;align-items: stretch;justify-content: center;background-color: white;position: relative;}#sk-container-id-2 div.sk-item::before, #sk-container-id-2 div.sk-parallel-item::before {content: \"\";position: absolute;border-left: 1px solid gray;box-sizing: border-box;top: 0;bottom: 0;left: 50%;z-index: -1;}#sk-container-id-2 div.sk-parallel-item {display: flex;flex-direction: column;z-index: 1;position: relative;background-color: white;}#sk-container-id-2 div.sk-parallel-item:first-child::after {align-self: flex-end;width: 50%;}#sk-container-id-2 div.sk-parallel-item:last-child::after {align-self: flex-start;width: 50%;}#sk-container-id-2 div.sk-parallel-item:only-child::after {width: 0;}#sk-container-id-2 div.sk-dashed-wrapped {border: 1px dashed gray;margin: 0 0.4em 0.5em 0.4em;box-sizing: border-box;padding-bottom: 0.4em;background-color: white;}#sk-container-id-2 div.sk-label label {font-family: monospace;font-weight: bold;display: inline-block;line-height: 1.2em;}#sk-container-id-2 div.sk-label-container {text-align: center;}#sk-container-id-2 div.sk-container {/* jupyter's `normalize.less` sets `[hidden] { display: none; }` but bootstrap.min.css set `[hidden] { display: none !important; }` so we also need the `!important` here to be able to override the default hidden behavior on the sphinx rendered scikit-learn.org. See: https://github.com/scikit-learn/scikit-learn/issues/21755 */display: inline-block !important;position: relative;}#sk-container-id-2 div.sk-text-repr-fallback {display: none;}</style><div id=\"sk-container-id-2\" class=\"sk-top-container\"><div class=\"sk-text-repr-fallback\"><pre>DecisionTreeRegressor(max_depth=6, max_features=&#x27;auto&#x27;)</pre><b>In a Jupyter environment, please rerun this cell to show the HTML representation or trust the notebook. <br />On GitHub, the HTML representation is unable to render, please try loading this page with nbviewer.org.</b></div><div class=\"sk-container\" hidden><div class=\"sk-item\"><div class=\"sk-estimator sk-toggleable\"><input class=\"sk-toggleable__control sk-hidden--visually\" id=\"sk-estimator-id-2\" type=\"checkbox\" checked><label for=\"sk-estimator-id-2\" class=\"sk-toggleable__label sk-toggleable__label-arrow\">DecisionTreeRegressor</label><div class=\"sk-toggleable__content\"><pre>DecisionTreeRegressor(max_depth=6, max_features=&#x27;auto&#x27;)</pre></div></div></div></div></div>"
      ],
      "text/plain": [
       "DecisionTreeRegressor(max_depth=6, max_features='auto')"
      ]
     },
     "execution_count": 83,
     "metadata": {},
     "output_type": "execute_result"
    }
   ],
   "source": [
    "tree_regr.fit (x_train_tree, y_train_tree)"
   ]
  },
  {
   "cell_type": "code",
   "execution_count": 84,
   "id": "8a05221b",
   "metadata": {},
   "outputs": [],
   "source": [
    "y_predicted_tree=tree_regr.predict(x_test_tree)"
   ]
  },
  {
   "cell_type": "code",
   "execution_count": 85,
   "id": "55f79b8a",
   "metadata": {},
   "outputs": [
    {
     "data": {
      "text/plain": [
       "0.6528068431706534"
      ]
     },
     "execution_count": 85,
     "metadata": {},
     "output_type": "execute_result"
    }
   ],
   "source": [
    "r2_score (y_test_tree, y_predicted_tree)"
   ]
  },
  {
   "cell_type": "code",
   "execution_count": 86,
   "id": "9f067a8e",
   "metadata": {},
   "outputs": [],
   "source": [
    "y_predicted_tree_1=tree_regr.predict(x_train_tree)"
   ]
  },
  {
   "cell_type": "code",
   "execution_count": 87,
   "id": "623fff7c",
   "metadata": {},
   "outputs": [
    {
     "data": {
      "text/plain": [
       "0.9339570166433848"
      ]
     },
     "execution_count": 87,
     "metadata": {},
     "output_type": "execute_result"
    }
   ],
   "source": [
    "r2_score (y_train_tree, y_predicted_tree_1)"
   ]
  },
  {
   "cell_type": "markdown",
   "id": "1e1caca6",
   "metadata": {},
   "source": [
    "## Random Forest Regressor"
   ]
  },
  {
   "cell_type": "code",
   "execution_count": 166,
   "id": "00b27038",
   "metadata": {},
   "outputs": [],
   "source": [
    "from imblearn.over_sampling import SMOTE"
   ]
  },
  {
   "cell_type": "code",
   "execution_count": 90,
   "id": "ccce80c3",
   "metadata": {},
   "outputs": [],
   "source": [
    "oversample=SMOTE()"
   ]
  },
  {
   "cell_type": "code",
   "execution_count": 91,
   "id": "158480e8",
   "metadata": {},
   "outputs": [],
   "source": [
    "from collections import Counter"
   ]
  },
  {
   "cell_type": "code",
   "execution_count": null,
   "id": "9933b560",
   "metadata": {},
   "outputs": [],
   "source": []
  },
  {
   "cell_type": "code",
   "execution_count": 92,
   "id": "124ae9b7",
   "metadata": {},
   "outputs": [],
   "source": [
    "from sklearn.ensemble import RandomForestRegressor\n",
    "RFR=RandomForestRegressor(random_state=42)"
   ]
  },
  {
   "cell_type": "code",
   "execution_count": 148,
   "id": "570454cd",
   "metadata": {},
   "outputs": [],
   "source": [
    "x_train_RFR, x_test_RFR, y_train_RFR, y_test_RFR =train_test_split(x,y,test_size=0.3,random_state=42)"
   ]
  },
  {
   "cell_type": "code",
   "execution_count": 149,
   "id": "2d0c0144",
   "metadata": {
    "scrolled": true
   },
   "outputs": [
    {
     "data": {
      "text/html": [
       "<style>#sk-container-id-11 {color: black;background-color: white;}#sk-container-id-11 pre{padding: 0;}#sk-container-id-11 div.sk-toggleable {background-color: white;}#sk-container-id-11 label.sk-toggleable__label {cursor: pointer;display: block;width: 100%;margin-bottom: 0;padding: 0.3em;box-sizing: border-box;text-align: center;}#sk-container-id-11 label.sk-toggleable__label-arrow:before {content: \"▸\";float: left;margin-right: 0.25em;color: #696969;}#sk-container-id-11 label.sk-toggleable__label-arrow:hover:before {color: black;}#sk-container-id-11 div.sk-estimator:hover label.sk-toggleable__label-arrow:before {color: black;}#sk-container-id-11 div.sk-toggleable__content {max-height: 0;max-width: 0;overflow: hidden;text-align: left;background-color: #f0f8ff;}#sk-container-id-11 div.sk-toggleable__content pre {margin: 0.2em;color: black;border-radius: 0.25em;background-color: #f0f8ff;}#sk-container-id-11 input.sk-toggleable__control:checked~div.sk-toggleable__content {max-height: 200px;max-width: 100%;overflow: auto;}#sk-container-id-11 input.sk-toggleable__control:checked~label.sk-toggleable__label-arrow:before {content: \"▾\";}#sk-container-id-11 div.sk-estimator input.sk-toggleable__control:checked~label.sk-toggleable__label {background-color: #d4ebff;}#sk-container-id-11 div.sk-label input.sk-toggleable__control:checked~label.sk-toggleable__label {background-color: #d4ebff;}#sk-container-id-11 input.sk-hidden--visually {border: 0;clip: rect(1px 1px 1px 1px);clip: rect(1px, 1px, 1px, 1px);height: 1px;margin: -1px;overflow: hidden;padding: 0;position: absolute;width: 1px;}#sk-container-id-11 div.sk-estimator {font-family: monospace;background-color: #f0f8ff;border: 1px dotted black;border-radius: 0.25em;box-sizing: border-box;margin-bottom: 0.5em;}#sk-container-id-11 div.sk-estimator:hover {background-color: #d4ebff;}#sk-container-id-11 div.sk-parallel-item::after {content: \"\";width: 100%;border-bottom: 1px solid gray;flex-grow: 1;}#sk-container-id-11 div.sk-label:hover label.sk-toggleable__label {background-color: #d4ebff;}#sk-container-id-11 div.sk-serial::before {content: \"\";position: absolute;border-left: 1px solid gray;box-sizing: border-box;top: 0;bottom: 0;left: 50%;z-index: 0;}#sk-container-id-11 div.sk-serial {display: flex;flex-direction: column;align-items: center;background-color: white;padding-right: 0.2em;padding-left: 0.2em;position: relative;}#sk-container-id-11 div.sk-item {position: relative;z-index: 1;}#sk-container-id-11 div.sk-parallel {display: flex;align-items: stretch;justify-content: center;background-color: white;position: relative;}#sk-container-id-11 div.sk-item::before, #sk-container-id-11 div.sk-parallel-item::before {content: \"\";position: absolute;border-left: 1px solid gray;box-sizing: border-box;top: 0;bottom: 0;left: 50%;z-index: -1;}#sk-container-id-11 div.sk-parallel-item {display: flex;flex-direction: column;z-index: 1;position: relative;background-color: white;}#sk-container-id-11 div.sk-parallel-item:first-child::after {align-self: flex-end;width: 50%;}#sk-container-id-11 div.sk-parallel-item:last-child::after {align-self: flex-start;width: 50%;}#sk-container-id-11 div.sk-parallel-item:only-child::after {width: 0;}#sk-container-id-11 div.sk-dashed-wrapped {border: 1px dashed gray;margin: 0 0.4em 0.5em 0.4em;box-sizing: border-box;padding-bottom: 0.4em;background-color: white;}#sk-container-id-11 div.sk-label label {font-family: monospace;font-weight: bold;display: inline-block;line-height: 1.2em;}#sk-container-id-11 div.sk-label-container {text-align: center;}#sk-container-id-11 div.sk-container {/* jupyter's `normalize.less` sets `[hidden] { display: none; }` but bootstrap.min.css set `[hidden] { display: none !important; }` so we also need the `!important` here to be able to override the default hidden behavior on the sphinx rendered scikit-learn.org. See: https://github.com/scikit-learn/scikit-learn/issues/21755 */display: inline-block !important;position: relative;}#sk-container-id-11 div.sk-text-repr-fallback {display: none;}</style><div id=\"sk-container-id-11\" class=\"sk-top-container\"><div class=\"sk-text-repr-fallback\"><pre>RandomForestRegressor(random_state=42)</pre><b>In a Jupyter environment, please rerun this cell to show the HTML representation or trust the notebook. <br />On GitHub, the HTML representation is unable to render, please try loading this page with nbviewer.org.</b></div><div class=\"sk-container\" hidden><div class=\"sk-item\"><div class=\"sk-estimator sk-toggleable\"><input class=\"sk-toggleable__control sk-hidden--visually\" id=\"sk-estimator-id-23\" type=\"checkbox\" checked><label for=\"sk-estimator-id-23\" class=\"sk-toggleable__label sk-toggleable__label-arrow\">RandomForestRegressor</label><div class=\"sk-toggleable__content\"><pre>RandomForestRegressor(random_state=42)</pre></div></div></div></div></div>"
      ],
      "text/plain": [
       "RandomForestRegressor(random_state=42)"
      ]
     },
     "execution_count": 149,
     "metadata": {},
     "output_type": "execute_result"
    }
   ],
   "source": [
    "RFR.fit(x_train_RFR, y_train_RFR)"
   ]
  },
  {
   "cell_type": "markdown",
   "id": "b2284203",
   "metadata": {},
   "source": [
    "#### To find the best parameters in random forest"
   ]
  },
  {
   "cell_type": "code",
   "execution_count": 150,
   "id": "250eda98",
   "metadata": {},
   "outputs": [],
   "source": [
    "from sklearn.model_selection import GridSearchCV"
   ]
  },
  {
   "cell_type": "code",
   "execution_count": 151,
   "id": "139cb761",
   "metadata": {},
   "outputs": [
    {
     "name": "stdout",
     "output_type": "stream",
     "text": [
      "Parameters currently in use:\n",
      "\n",
      "{'bootstrap': True,\n",
      " 'ccp_alpha': 0.0,\n",
      " 'criterion': 'squared_error',\n",
      " 'max_depth': None,\n",
      " 'max_features': 1.0,\n",
      " 'max_leaf_nodes': None,\n",
      " 'max_samples': None,\n",
      " 'min_impurity_decrease': 0.0,\n",
      " 'min_samples_leaf': 1,\n",
      " 'min_samples_split': 2,\n",
      " 'min_weight_fraction_leaf': 0.0,\n",
      " 'n_estimators': 100,\n",
      " 'n_jobs': None,\n",
      " 'oob_score': False,\n",
      " 'random_state': 42,\n",
      " 'verbose': 0,\n",
      " 'warm_start': False}\n"
     ]
    }
   ],
   "source": [
    "from pprint import pprint\n",
    "\n",
    "print('Parameters currently in use:\\n')\n",
    "pprint(RFR.get_params())"
   ]
  },
  {
   "cell_type": "code",
   "execution_count": 152,
   "id": "4c29a89b",
   "metadata": {},
   "outputs": [
    {
     "name": "stdout",
     "output_type": "stream",
     "text": [
      "{'bootstrap': [True, False],\n",
      " 'max_depth': [10, 20, 30, 40, 50, 60, 70, 80, 90, 100, 110, None],\n",
      " 'max_features': ['auto', 'sqrt'],\n",
      " 'min_samples_leaf': [1, 2, 4],\n",
      " 'min_samples_split': [2, 3, 5],\n",
      " 'n_estimators': [200, 400, 600, 800, 1000, 1200, 1400, 1600, 1800, 2000]}\n"
     ]
    }
   ],
   "source": [
    "### from sklearn.model_selection import RandomizedSearchCV\n",
    "# Number of trees in random forest\n",
    "n_estimators = [int(x) for x in np.linspace(start = 200, stop = 2000, num = 10)]\n",
    "# Number of features to consider at every split\n",
    "max_features = ['auto', 'sqrt']\n",
    "# Maximum number of levels in tree\n",
    "max_depth = [int(x) for x in np.linspace(10, 110, num = 11)]\n",
    "max_depth.append(None)\n",
    "# Minimum number of samples required to split a node\n",
    "min_samples_split = [2, 3, 5]\n",
    "# Minimum number of samples required at each leaf node\n",
    "min_samples_leaf = [1, 2, 4]\n",
    "# Method of selecting samples for training each tree\n",
    "bootstrap = [True, False]\n",
    "# Create the random grid\n",
    "random_grid = {'n_estimators': n_estimators,\n",
    "               'max_features': max_features,\n",
    "               'max_depth': max_depth,\n",
    "               'min_samples_split': min_samples_split,\n",
    "               'min_samples_leaf': min_samples_leaf,\n",
    "               'bootstrap': bootstrap}\n",
    "pprint(random_grid)"
   ]
  },
  {
   "cell_type": "code",
   "execution_count": 153,
   "id": "fdf80dcf",
   "metadata": {},
   "outputs": [
    {
     "data": {
      "text/plain": [
       "(195, 126)"
      ]
     },
     "execution_count": 153,
     "metadata": {},
     "output_type": "execute_result"
    }
   ],
   "source": [
    "x_train_RFR.shape"
   ]
  },
  {
   "cell_type": "code",
   "execution_count": 154,
   "id": "321ea121",
   "metadata": {},
   "outputs": [],
   "source": [
    "from sklearn.model_selection import RandomizedSearchCV"
   ]
  },
  {
   "cell_type": "code",
   "execution_count": null,
   "id": "10ffdbec",
   "metadata": {},
   "outputs": [],
   "source": []
  },
  {
   "cell_type": "code",
   "execution_count": 155,
   "id": "b6c7b86e",
   "metadata": {},
   "outputs": [],
   "source": [
    "\n",
    "rf_random = RandomizedSearchCV(estimator = RFR, param_distributions = random_grid, n_iter = 100, cv = 2, verbose=2, random_state=100, n_jobs = -1)\n"
   ]
  },
  {
   "cell_type": "code",
   "execution_count": 156,
   "id": "0563598a",
   "metadata": {
    "scrolled": true
   },
   "outputs": [
    {
     "name": "stdout",
     "output_type": "stream",
     "text": [
      "Fitting 2 folds for each of 100 candidates, totalling 200 fits\n"
     ]
    },
    {
     "name": "stderr",
     "output_type": "stream",
     "text": [
      "C:\\Users\\Marwa\\AppData\\Roaming\\Python\\Python39\\site-packages\\sklearn\\ensemble\\_forest.py:416: FutureWarning: `max_features='auto'` has been deprecated in 1.1 and will be removed in 1.3. To keep the past behaviour, explicitly set `max_features=1.0` or remove this parameter as it is also the default value for RandomForestRegressors and ExtraTreesRegressors.\n",
      "  warn(\n"
     ]
    },
    {
     "data": {
      "text/html": [
       "<style>#sk-container-id-12 {color: black;background-color: white;}#sk-container-id-12 pre{padding: 0;}#sk-container-id-12 div.sk-toggleable {background-color: white;}#sk-container-id-12 label.sk-toggleable__label {cursor: pointer;display: block;width: 100%;margin-bottom: 0;padding: 0.3em;box-sizing: border-box;text-align: center;}#sk-container-id-12 label.sk-toggleable__label-arrow:before {content: \"▸\";float: left;margin-right: 0.25em;color: #696969;}#sk-container-id-12 label.sk-toggleable__label-arrow:hover:before {color: black;}#sk-container-id-12 div.sk-estimator:hover label.sk-toggleable__label-arrow:before {color: black;}#sk-container-id-12 div.sk-toggleable__content {max-height: 0;max-width: 0;overflow: hidden;text-align: left;background-color: #f0f8ff;}#sk-container-id-12 div.sk-toggleable__content pre {margin: 0.2em;color: black;border-radius: 0.25em;background-color: #f0f8ff;}#sk-container-id-12 input.sk-toggleable__control:checked~div.sk-toggleable__content {max-height: 200px;max-width: 100%;overflow: auto;}#sk-container-id-12 input.sk-toggleable__control:checked~label.sk-toggleable__label-arrow:before {content: \"▾\";}#sk-container-id-12 div.sk-estimator input.sk-toggleable__control:checked~label.sk-toggleable__label {background-color: #d4ebff;}#sk-container-id-12 div.sk-label input.sk-toggleable__control:checked~label.sk-toggleable__label {background-color: #d4ebff;}#sk-container-id-12 input.sk-hidden--visually {border: 0;clip: rect(1px 1px 1px 1px);clip: rect(1px, 1px, 1px, 1px);height: 1px;margin: -1px;overflow: hidden;padding: 0;position: absolute;width: 1px;}#sk-container-id-12 div.sk-estimator {font-family: monospace;background-color: #f0f8ff;border: 1px dotted black;border-radius: 0.25em;box-sizing: border-box;margin-bottom: 0.5em;}#sk-container-id-12 div.sk-estimator:hover {background-color: #d4ebff;}#sk-container-id-12 div.sk-parallel-item::after {content: \"\";width: 100%;border-bottom: 1px solid gray;flex-grow: 1;}#sk-container-id-12 div.sk-label:hover label.sk-toggleable__label {background-color: #d4ebff;}#sk-container-id-12 div.sk-serial::before {content: \"\";position: absolute;border-left: 1px solid gray;box-sizing: border-box;top: 0;bottom: 0;left: 50%;z-index: 0;}#sk-container-id-12 div.sk-serial {display: flex;flex-direction: column;align-items: center;background-color: white;padding-right: 0.2em;padding-left: 0.2em;position: relative;}#sk-container-id-12 div.sk-item {position: relative;z-index: 1;}#sk-container-id-12 div.sk-parallel {display: flex;align-items: stretch;justify-content: center;background-color: white;position: relative;}#sk-container-id-12 div.sk-item::before, #sk-container-id-12 div.sk-parallel-item::before {content: \"\";position: absolute;border-left: 1px solid gray;box-sizing: border-box;top: 0;bottom: 0;left: 50%;z-index: -1;}#sk-container-id-12 div.sk-parallel-item {display: flex;flex-direction: column;z-index: 1;position: relative;background-color: white;}#sk-container-id-12 div.sk-parallel-item:first-child::after {align-self: flex-end;width: 50%;}#sk-container-id-12 div.sk-parallel-item:last-child::after {align-self: flex-start;width: 50%;}#sk-container-id-12 div.sk-parallel-item:only-child::after {width: 0;}#sk-container-id-12 div.sk-dashed-wrapped {border: 1px dashed gray;margin: 0 0.4em 0.5em 0.4em;box-sizing: border-box;padding-bottom: 0.4em;background-color: white;}#sk-container-id-12 div.sk-label label {font-family: monospace;font-weight: bold;display: inline-block;line-height: 1.2em;}#sk-container-id-12 div.sk-label-container {text-align: center;}#sk-container-id-12 div.sk-container {/* jupyter's `normalize.less` sets `[hidden] { display: none; }` but bootstrap.min.css set `[hidden] { display: none !important; }` so we also need the `!important` here to be able to override the default hidden behavior on the sphinx rendered scikit-learn.org. See: https://github.com/scikit-learn/scikit-learn/issues/21755 */display: inline-block !important;position: relative;}#sk-container-id-12 div.sk-text-repr-fallback {display: none;}</style><div id=\"sk-container-id-12\" class=\"sk-top-container\"><div class=\"sk-text-repr-fallback\"><pre>RandomizedSearchCV(cv=2, estimator=RandomForestRegressor(random_state=42),\n",
       "                   n_iter=100, n_jobs=-1,\n",
       "                   param_distributions={&#x27;bootstrap&#x27;: [True, False],\n",
       "                                        &#x27;max_depth&#x27;: [10, 20, 30, 40, 50, 60,\n",
       "                                                      70, 80, 90, 100, 110,\n",
       "                                                      None],\n",
       "                                        &#x27;max_features&#x27;: [&#x27;auto&#x27;, &#x27;sqrt&#x27;],\n",
       "                                        &#x27;min_samples_leaf&#x27;: [1, 2, 4],\n",
       "                                        &#x27;min_samples_split&#x27;: [2, 3, 5],\n",
       "                                        &#x27;n_estimators&#x27;: [200, 400, 600, 800,\n",
       "                                                         1000, 1200, 1400, 1600,\n",
       "                                                         1800, 2000]},\n",
       "                   random_state=100, verbose=2)</pre><b>In a Jupyter environment, please rerun this cell to show the HTML representation or trust the notebook. <br />On GitHub, the HTML representation is unable to render, please try loading this page with nbviewer.org.</b></div><div class=\"sk-container\" hidden><div class=\"sk-item sk-dashed-wrapped\"><div class=\"sk-label-container\"><div class=\"sk-label sk-toggleable\"><input class=\"sk-toggleable__control sk-hidden--visually\" id=\"sk-estimator-id-24\" type=\"checkbox\" ><label for=\"sk-estimator-id-24\" class=\"sk-toggleable__label sk-toggleable__label-arrow\">RandomizedSearchCV</label><div class=\"sk-toggleable__content\"><pre>RandomizedSearchCV(cv=2, estimator=RandomForestRegressor(random_state=42),\n",
       "                   n_iter=100, n_jobs=-1,\n",
       "                   param_distributions={&#x27;bootstrap&#x27;: [True, False],\n",
       "                                        &#x27;max_depth&#x27;: [10, 20, 30, 40, 50, 60,\n",
       "                                                      70, 80, 90, 100, 110,\n",
       "                                                      None],\n",
       "                                        &#x27;max_features&#x27;: [&#x27;auto&#x27;, &#x27;sqrt&#x27;],\n",
       "                                        &#x27;min_samples_leaf&#x27;: [1, 2, 4],\n",
       "                                        &#x27;min_samples_split&#x27;: [2, 3, 5],\n",
       "                                        &#x27;n_estimators&#x27;: [200, 400, 600, 800,\n",
       "                                                         1000, 1200, 1400, 1600,\n",
       "                                                         1800, 2000]},\n",
       "                   random_state=100, verbose=2)</pre></div></div></div><div class=\"sk-parallel\"><div class=\"sk-parallel-item\"><div class=\"sk-item\"><div class=\"sk-label-container\"><div class=\"sk-label sk-toggleable\"><input class=\"sk-toggleable__control sk-hidden--visually\" id=\"sk-estimator-id-25\" type=\"checkbox\" ><label for=\"sk-estimator-id-25\" class=\"sk-toggleable__label sk-toggleable__label-arrow\">estimator: RandomForestRegressor</label><div class=\"sk-toggleable__content\"><pre>RandomForestRegressor(random_state=42)</pre></div></div></div><div class=\"sk-serial\"><div class=\"sk-item\"><div class=\"sk-estimator sk-toggleable\"><input class=\"sk-toggleable__control sk-hidden--visually\" id=\"sk-estimator-id-26\" type=\"checkbox\" ><label for=\"sk-estimator-id-26\" class=\"sk-toggleable__label sk-toggleable__label-arrow\">RandomForestRegressor</label><div class=\"sk-toggleable__content\"><pre>RandomForestRegressor(random_state=42)</pre></div></div></div></div></div></div></div></div></div></div>"
      ],
      "text/plain": [
       "RandomizedSearchCV(cv=2, estimator=RandomForestRegressor(random_state=42),\n",
       "                   n_iter=100, n_jobs=-1,\n",
       "                   param_distributions={'bootstrap': [True, False],\n",
       "                                        'max_depth': [10, 20, 30, 40, 50, 60,\n",
       "                                                      70, 80, 90, 100, 110,\n",
       "                                                      None],\n",
       "                                        'max_features': ['auto', 'sqrt'],\n",
       "                                        'min_samples_leaf': [1, 2, 4],\n",
       "                                        'min_samples_split': [2, 3, 5],\n",
       "                                        'n_estimators': [200, 400, 600, 800,\n",
       "                                                         1000, 1200, 1400, 1600,\n",
       "                                                         1800, 2000]},\n",
       "                   random_state=100, verbose=2)"
      ]
     },
     "execution_count": 156,
     "metadata": {},
     "output_type": "execute_result"
    }
   ],
   "source": [
    "rf_random.fit(x_train_RFR, y_train_RFR)"
   ]
  },
  {
   "cell_type": "code",
   "execution_count": 157,
   "id": "7fde331f",
   "metadata": {},
   "outputs": [
    {
     "data": {
      "text/plain": [
       "{'n_estimators': 200,\n",
       " 'min_samples_split': 5,\n",
       " 'min_samples_leaf': 4,\n",
       " 'max_features': 'auto',\n",
       " 'max_depth': 90,\n",
       " 'bootstrap': True}"
      ]
     },
     "execution_count": 157,
     "metadata": {},
     "output_type": "execute_result"
    }
   ],
   "source": [
    "rf_random.best_params_"
   ]
  },
  {
   "cell_type": "code",
   "execution_count": 158,
   "id": "56a454d0",
   "metadata": {},
   "outputs": [],
   "source": [
    "y_pred_RFR=rf_random.predict(x_test_RFR)"
   ]
  },
  {
   "cell_type": "code",
   "execution_count": 159,
   "id": "64eed5b8",
   "metadata": {},
   "outputs": [
    {
     "data": {
      "text/plain": [
       "0.5198587081287529"
      ]
     },
     "execution_count": 159,
     "metadata": {},
     "output_type": "execute_result"
    }
   ],
   "source": [
    "r2_score (y_test_RFR, y_pred_RFR)"
   ]
  },
  {
   "cell_type": "code",
   "execution_count": 160,
   "id": "3b48b3fe",
   "metadata": {},
   "outputs": [],
   "source": [
    "y_predicted_RFR_1=rf_random.predict(x_train_RFR)"
   ]
  },
  {
   "cell_type": "code",
   "execution_count": 161,
   "id": "39514fe9",
   "metadata": {},
   "outputs": [
    {
     "data": {
      "text/plain": [
       "0.5931213415513155"
      ]
     },
     "execution_count": 161,
     "metadata": {},
     "output_type": "execute_result"
    }
   ],
   "source": [
    "r2_score (y_train_RFR, y_predicted_RFR_1)"
   ]
  },
  {
   "cell_type": "markdown",
   "id": "817e2890",
   "metadata": {},
   "source": [
    "### Gradient Boost Regressor"
   ]
  },
  {
   "cell_type": "code",
   "execution_count": 162,
   "id": "973e8f56",
   "metadata": {},
   "outputs": [],
   "source": [
    "from sklearn.ensemble import GradientBoostingRegressor"
   ]
  },
  {
   "cell_type": "code",
   "execution_count": 163,
   "id": "9c2f3cce",
   "metadata": {},
   "outputs": [],
   "source": [
    "GBR= GradientBoostingRegressor()"
   ]
  },
  {
   "cell_type": "code",
   "execution_count": 164,
   "id": "3a758107",
   "metadata": {},
   "outputs": [
    {
     "name": "stdout",
     "output_type": "stream",
     "text": [
      "Best: 0.348722 using {'learning_rate': 0.1, 'max_depth': 7, 'n_estimators': 10, 'subsample': 0.5}\n",
      "-0.053503 (0.097470) with: {'learning_rate': 0.0001, 'max_depth': 3, 'n_estimators': 10, 'subsample': 0.5}\n",
      "-0.053460 (0.097467) with: {'learning_rate': 0.0001, 'max_depth': 3, 'n_estimators': 10, 'subsample': 0.7}\n",
      "-0.053437 (0.097439) with: {'learning_rate': 0.0001, 'max_depth': 3, 'n_estimators': 10, 'subsample': 1.0}\n",
      "-0.050497 (0.096979) with: {'learning_rate': 0.0001, 'max_depth': 3, 'n_estimators': 50, 'subsample': 0.5}\n",
      "-0.050196 (0.096938) with: {'learning_rate': 0.0001, 'max_depth': 3, 'n_estimators': 50, 'subsample': 0.7}\n",
      "-0.050266 (0.096712) with: {'learning_rate': 0.0001, 'max_depth': 3, 'n_estimators': 50, 'subsample': 1.0}\n",
      "-0.046730 (0.096375) with: {'learning_rate': 0.0001, 'max_depth': 3, 'n_estimators': 100, 'subsample': 0.5}\n",
      "-0.046245 (0.096025) with: {'learning_rate': 0.0001, 'max_depth': 3, 'n_estimators': 100, 'subsample': 0.7}\n",
      "-0.046366 (0.095824) with: {'learning_rate': 0.0001, 'max_depth': 3, 'n_estimators': 100, 'subsample': 1.0}\n",
      "-0.018272 (0.091586) with: {'learning_rate': 0.0001, 'max_depth': 3, 'n_estimators': 500, 'subsample': 0.5}\n",
      "-0.016424 (0.090954) with: {'learning_rate': 0.0001, 'max_depth': 3, 'n_estimators': 500, 'subsample': 0.7}\n",
      "-0.016870 (0.089667) with: {'learning_rate': 0.0001, 'max_depth': 3, 'n_estimators': 500, 'subsample': 1.0}\n",
      "-0.053099 (0.097403) with: {'learning_rate': 0.0001, 'max_depth': 7, 'n_estimators': 10, 'subsample': 0.5}\n",
      "-0.053049 (0.097392) with: {'learning_rate': 0.0001, 'max_depth': 7, 'n_estimators': 10, 'subsample': 0.7}\n",
      "-0.052940 (0.097448) with: {'learning_rate': 0.0001, 'max_depth': 7, 'n_estimators': 10, 'subsample': 1.0}\n",
      "-0.048536 (0.096454) with: {'learning_rate': 0.0001, 'max_depth': 7, 'n_estimators': 50, 'subsample': 0.5}\n",
      "-0.048094 (0.096517) with: {'learning_rate': 0.0001, 'max_depth': 7, 'n_estimators': 50, 'subsample': 0.7}\n",
      "-0.047641 (0.096815) with: {'learning_rate': 0.0001, 'max_depth': 7, 'n_estimators': 50, 'subsample': 1.0}\n",
      "-0.042941 (0.095356) with: {'learning_rate': 0.0001, 'max_depth': 7, 'n_estimators': 100, 'subsample': 0.5}\n",
      "-0.042222 (0.095491) with: {'learning_rate': 0.0001, 'max_depth': 7, 'n_estimators': 100, 'subsample': 0.7}\n",
      "-0.041210 (0.095957) with: {'learning_rate': 0.0001, 'max_depth': 7, 'n_estimators': 100, 'subsample': 1.0}\n",
      "-0.000030 (0.088194) with: {'learning_rate': 0.0001, 'max_depth': 7, 'n_estimators': 500, 'subsample': 0.5}\n",
      "0.003093 (0.088751) with: {'learning_rate': 0.0001, 'max_depth': 7, 'n_estimators': 500, 'subsample': 0.7}\n",
      "0.007029 (0.091296) with: {'learning_rate': 0.0001, 'max_depth': 7, 'n_estimators': 500, 'subsample': 1.0}\n",
      "-0.053048 (0.097364) with: {'learning_rate': 0.0001, 'max_depth': 9, 'n_estimators': 10, 'subsample': 0.5}\n",
      "-0.052988 (0.097356) with: {'learning_rate': 0.0001, 'max_depth': 9, 'n_estimators': 10, 'subsample': 0.7}\n",
      "-0.052880 (0.097433) with: {'learning_rate': 0.0001, 'max_depth': 9, 'n_estimators': 10, 'subsample': 1.0}\n",
      "-0.048372 (0.096415) with: {'learning_rate': 0.0001, 'max_depth': 9, 'n_estimators': 50, 'subsample': 0.5}\n",
      "-0.048043 (0.096517) with: {'learning_rate': 0.0001, 'max_depth': 9, 'n_estimators': 50, 'subsample': 0.7}\n",
      "-0.047562 (0.096667) with: {'learning_rate': 0.0001, 'max_depth': 9, 'n_estimators': 50, 'subsample': 1.0}\n",
      "-0.042549 (0.095179) with: {'learning_rate': 0.0001, 'max_depth': 9, 'n_estimators': 100, 'subsample': 0.5}\n",
      "-0.041911 (0.095385) with: {'learning_rate': 0.0001, 'max_depth': 9, 'n_estimators': 100, 'subsample': 0.7}\n",
      "-0.040939 (0.095761) with: {'learning_rate': 0.0001, 'max_depth': 9, 'n_estimators': 100, 'subsample': 1.0}\n",
      "0.001947 (0.087658) with: {'learning_rate': 0.0001, 'max_depth': 9, 'n_estimators': 500, 'subsample': 0.5}\n",
      "0.005106 (0.088371) with: {'learning_rate': 0.0001, 'max_depth': 9, 'n_estimators': 500, 'subsample': 0.7}\n",
      "0.008051 (0.090587) with: {'learning_rate': 0.0001, 'max_depth': 9, 'n_estimators': 500, 'subsample': 1.0}\n",
      "-0.046363 (0.096467) with: {'learning_rate': 0.001, 'max_depth': 3, 'n_estimators': 10, 'subsample': 0.5}\n",
      "-0.046390 (0.095937) with: {'learning_rate': 0.001, 'max_depth': 3, 'n_estimators': 10, 'subsample': 0.7}\n",
      "-0.046371 (0.095830) with: {'learning_rate': 0.001, 'max_depth': 3, 'n_estimators': 10, 'subsample': 1.0}\n",
      "-0.018251 (0.091754) with: {'learning_rate': 0.001, 'max_depth': 3, 'n_estimators': 50, 'subsample': 0.5}\n",
      "-0.016922 (0.090718) with: {'learning_rate': 0.001, 'max_depth': 3, 'n_estimators': 50, 'subsample': 0.7}\n",
      "-0.016838 (0.089642) with: {'learning_rate': 0.001, 'max_depth': 3, 'n_estimators': 50, 'subsample': 1.0}\n",
      "0.015429 (0.086718) with: {'learning_rate': 0.001, 'max_depth': 3, 'n_estimators': 100, 'subsample': 0.5}\n",
      "0.018218 (0.086151) with: {'learning_rate': 0.001, 'max_depth': 3, 'n_estimators': 100, 'subsample': 0.7}\n",
      "0.015119 (0.082856) with: {'learning_rate': 0.001, 'max_depth': 3, 'n_estimators': 100, 'subsample': 1.0}\n",
      "0.178379 (0.103596) with: {'learning_rate': 0.001, 'max_depth': 3, 'n_estimators': 500, 'subsample': 0.5}\n",
      "0.173072 (0.114017) with: {'learning_rate': 0.001, 'max_depth': 3, 'n_estimators': 500, 'subsample': 0.7}\n",
      "0.135047 (0.155849) with: {'learning_rate': 0.001, 'max_depth': 3, 'n_estimators': 500, 'subsample': 1.0}\n",
      "-0.043042 (0.095333) with: {'learning_rate': 0.001, 'max_depth': 7, 'n_estimators': 10, 'subsample': 0.5}\n",
      "-0.042612 (0.095539) with: {'learning_rate': 0.001, 'max_depth': 7, 'n_estimators': 10, 'subsample': 0.7}\n",
      "-0.041153 (0.096080) with: {'learning_rate': 0.001, 'max_depth': 7, 'n_estimators': 10, 'subsample': 1.0}\n",
      "-0.000136 (0.087840) with: {'learning_rate': 0.001, 'max_depth': 7, 'n_estimators': 50, 'subsample': 0.5}\n",
      "0.002489 (0.088392) with: {'learning_rate': 0.001, 'max_depth': 7, 'n_estimators': 50, 'subsample': 0.7}\n",
      "0.006976 (0.091305) with: {'learning_rate': 0.001, 'max_depth': 7, 'n_estimators': 50, 'subsample': 1.0}\n",
      "0.047929 (0.083048) with: {'learning_rate': 0.001, 'max_depth': 7, 'n_estimators': 100, 'subsample': 0.5}\n",
      "0.053431 (0.082459) with: {'learning_rate': 0.001, 'max_depth': 7, 'n_estimators': 100, 'subsample': 0.7}\n",
      "0.057552 (0.088156) with: {'learning_rate': 0.001, 'max_depth': 7, 'n_estimators': 100, 'subsample': 1.0}\n",
      "0.273863 (0.120341) with: {'learning_rate': 0.001, 'max_depth': 7, 'n_estimators': 500, 'subsample': 0.5}\n",
      "0.269916 (0.139777) with: {'learning_rate': 0.001, 'max_depth': 7, 'n_estimators': 500, 'subsample': 0.7}\n",
      "0.218663 (0.230237) with: {'learning_rate': 0.001, 'max_depth': 7, 'n_estimators': 500, 'subsample': 1.0}\n",
      "-0.042269 (0.095371) with: {'learning_rate': 0.001, 'max_depth': 9, 'n_estimators': 10, 'subsample': 0.5}\n",
      "-0.041972 (0.095063) with: {'learning_rate': 0.001, 'max_depth': 9, 'n_estimators': 10, 'subsample': 0.7}\n",
      "-0.040790 (0.095775) with: {'learning_rate': 0.001, 'max_depth': 9, 'n_estimators': 10, 'subsample': 1.0}\n",
      "0.002585 (0.087995) with: {'learning_rate': 0.001, 'max_depth': 9, 'n_estimators': 50, 'subsample': 0.5}\n",
      "0.004608 (0.088380) with: {'learning_rate': 0.001, 'max_depth': 9, 'n_estimators': 50, 'subsample': 0.7}\n",
      "0.008524 (0.090435) with: {'learning_rate': 0.001, 'max_depth': 9, 'n_estimators': 50, 'subsample': 1.0}\n",
      "0.052258 (0.082578) with: {'learning_rate': 0.001, 'max_depth': 9, 'n_estimators': 100, 'subsample': 0.5}\n",
      "0.056940 (0.083854) with: {'learning_rate': 0.001, 'max_depth': 9, 'n_estimators': 100, 'subsample': 0.7}\n",
      "0.059633 (0.087001) with: {'learning_rate': 0.001, 'max_depth': 9, 'n_estimators': 100, 'subsample': 1.0}\n",
      "0.284534 (0.119324) with: {'learning_rate': 0.001, 'max_depth': 9, 'n_estimators': 500, 'subsample': 0.5}\n",
      "0.275086 (0.145178) with: {'learning_rate': 0.001, 'max_depth': 9, 'n_estimators': 500, 'subsample': 0.7}\n",
      "0.217788 (0.227174) with: {'learning_rate': 0.001, 'max_depth': 9, 'n_estimators': 500, 'subsample': 1.0}\n",
      "0.013799 (0.086893) with: {'learning_rate': 0.01, 'max_depth': 3, 'n_estimators': 10, 'subsample': 0.5}\n",
      "0.017216 (0.084413) with: {'learning_rate': 0.01, 'max_depth': 3, 'n_estimators': 10, 'subsample': 0.7}\n",
      "0.015374 (0.082733) with: {'learning_rate': 0.01, 'max_depth': 3, 'n_estimators': 10, 'subsample': 1.0}\n",
      "0.177366 (0.098279) with: {'learning_rate': 0.01, 'max_depth': 3, 'n_estimators': 50, 'subsample': 0.5}\n",
      "0.176586 (0.116100) with: {'learning_rate': 0.01, 'max_depth': 3, 'n_estimators': 50, 'subsample': 0.7}\n",
      "0.136073 (0.156972) with: {'learning_rate': 0.01, 'max_depth': 3, 'n_estimators': 50, 'subsample': 1.0}\n",
      "0.226087 (0.268901) with: {'learning_rate': 0.01, 'max_depth': 3, 'n_estimators': 100, 'subsample': 0.5}\n",
      "0.210023 (0.313449) with: {'learning_rate': 0.01, 'max_depth': 3, 'n_estimators': 100, 'subsample': 0.7}\n",
      "0.163069 (0.329756) with: {'learning_rate': 0.01, 'max_depth': 3, 'n_estimators': 100, 'subsample': 1.0}\n",
      "0.058695 (1.070327) with: {'learning_rate': 0.01, 'max_depth': 3, 'n_estimators': 500, 'subsample': 0.5}\n",
      "0.055396 (1.062325) with: {'learning_rate': 0.01, 'max_depth': 3, 'n_estimators': 500, 'subsample': 0.7}\n",
      "-0.020029 (1.045036) with: {'learning_rate': 0.01, 'max_depth': 3, 'n_estimators': 500, 'subsample': 1.0}\n",
      "0.049534 (0.084104) with: {'learning_rate': 0.01, 'max_depth': 7, 'n_estimators': 10, 'subsample': 0.5}\n",
      "0.053213 (0.083246) with: {'learning_rate': 0.01, 'max_depth': 7, 'n_estimators': 10, 'subsample': 0.7}\n",
      "0.055797 (0.086495) with: {'learning_rate': 0.01, 'max_depth': 7, 'n_estimators': 10, 'subsample': 1.0}\n",
      "0.266168 (0.128664) with: {'learning_rate': 0.01, 'max_depth': 7, 'n_estimators': 50, 'subsample': 0.5}\n",
      "0.272078 (0.142641) with: {'learning_rate': 0.01, 'max_depth': 7, 'n_estimators': 50, 'subsample': 0.7}\n",
      "0.225447 (0.234274) with: {'learning_rate': 0.01, 'max_depth': 7, 'n_estimators': 50, 'subsample': 1.0}\n",
      "0.308809 (0.313077) with: {'learning_rate': 0.01, 'max_depth': 7, 'n_estimators': 100, 'subsample': 0.5}\n",
      "0.282246 (0.384108) with: {'learning_rate': 0.01, 'max_depth': 7, 'n_estimators': 100, 'subsample': 0.7}\n",
      "0.145924 (0.648389) with: {'learning_rate': 0.01, 'max_depth': 7, 'n_estimators': 100, 'subsample': 1.0}\n",
      "-0.047269 (1.476127) with: {'learning_rate': 0.01, 'max_depth': 7, 'n_estimators': 500, 'subsample': 0.5}\n",
      "-0.026073 (1.377915) with: {'learning_rate': 0.01, 'max_depth': 7, 'n_estimators': 500, 'subsample': 0.7}\n",
      "-0.113054 (1.439899) with: {'learning_rate': 0.01, 'max_depth': 7, 'n_estimators': 500, 'subsample': 1.0}\n",
      "0.054668 (0.085621) with: {'learning_rate': 0.01, 'max_depth': 9, 'n_estimators': 10, 'subsample': 0.5}\n",
      "0.056554 (0.084156) with: {'learning_rate': 0.01, 'max_depth': 9, 'n_estimators': 10, 'subsample': 0.7}\n",
      "0.057404 (0.086454) with: {'learning_rate': 0.01, 'max_depth': 9, 'n_estimators': 10, 'subsample': 1.0}\n",
      "0.277369 (0.128088) with: {'learning_rate': 0.01, 'max_depth': 9, 'n_estimators': 50, 'subsample': 0.5}\n",
      "0.276339 (0.136880) with: {'learning_rate': 0.01, 'max_depth': 9, 'n_estimators': 50, 'subsample': 0.7}\n",
      "0.218790 (0.230488) with: {'learning_rate': 0.01, 'max_depth': 9, 'n_estimators': 50, 'subsample': 1.0}\n",
      "0.334425 (0.271244) with: {'learning_rate': 0.01, 'max_depth': 9, 'n_estimators': 100, 'subsample': 0.5}\n",
      "0.301964 (0.387024) with: {'learning_rate': 0.01, 'max_depth': 9, 'n_estimators': 100, 'subsample': 0.7}\n",
      "0.140558 (0.626058) with: {'learning_rate': 0.01, 'max_depth': 9, 'n_estimators': 100, 'subsample': 1.0}\n",
      "0.003223 (1.392640) with: {'learning_rate': 0.01, 'max_depth': 9, 'n_estimators': 500, 'subsample': 0.5}\n",
      "-0.084361 (1.536053) with: {'learning_rate': 0.01, 'max_depth': 9, 'n_estimators': 500, 'subsample': 0.7}\n",
      "-0.249653 (1.623149) with: {'learning_rate': 0.01, 'max_depth': 9, 'n_estimators': 500, 'subsample': 1.0}\n",
      "0.205243 (0.260254) with: {'learning_rate': 0.1, 'max_depth': 3, 'n_estimators': 10, 'subsample': 0.5}\n",
      "0.217179 (0.380401) with: {'learning_rate': 0.1, 'max_depth': 3, 'n_estimators': 10, 'subsample': 0.7}\n",
      "0.173043 (0.359616) with: {'learning_rate': 0.1, 'max_depth': 3, 'n_estimators': 10, 'subsample': 1.0}\n",
      "0.054393 (1.005485) with: {'learning_rate': 0.1, 'max_depth': 3, 'n_estimators': 50, 'subsample': 0.5}\n",
      "0.065540 (0.994682) with: {'learning_rate': 0.1, 'max_depth': 3, 'n_estimators': 50, 'subsample': 0.7}\n",
      "-0.028481 (1.035373) with: {'learning_rate': 0.1, 'max_depth': 3, 'n_estimators': 50, 'subsample': 1.0}\n",
      "0.032971 (1.090082) with: {'learning_rate': 0.1, 'max_depth': 3, 'n_estimators': 100, 'subsample': 0.5}\n",
      "-0.027163 (1.176274) with: {'learning_rate': 0.1, 'max_depth': 3, 'n_estimators': 100, 'subsample': 0.7}\n",
      "-0.070690 (1.202992) with: {'learning_rate': 0.1, 'max_depth': 3, 'n_estimators': 100, 'subsample': 1.0}\n",
      "-0.135792 (1.582779) with: {'learning_rate': 0.1, 'max_depth': 3, 'n_estimators': 500, 'subsample': 0.5}\n",
      "-0.112742 (1.444603) with: {'learning_rate': 0.1, 'max_depth': 3, 'n_estimators': 500, 'subsample': 0.7}\n",
      "-0.248732 (1.713483) with: {'learning_rate': 0.1, 'max_depth': 3, 'n_estimators': 500, 'subsample': 1.0}\n",
      "0.348722 (0.227725) with: {'learning_rate': 0.1, 'max_depth': 7, 'n_estimators': 10, 'subsample': 0.5}\n",
      "0.246885 (0.475699) with: {'learning_rate': 0.1, 'max_depth': 7, 'n_estimators': 10, 'subsample': 0.7}\n",
      "0.130799 (0.653585) with: {'learning_rate': 0.1, 'max_depth': 7, 'n_estimators': 10, 'subsample': 1.0}\n",
      "-0.025330 (1.426189) with: {'learning_rate': 0.1, 'max_depth': 7, 'n_estimators': 50, 'subsample': 0.5}\n",
      "-0.060921 (1.445189) with: {'learning_rate': 0.1, 'max_depth': 7, 'n_estimators': 50, 'subsample': 0.7}\n",
      "-0.120834 (1.418470) with: {'learning_rate': 0.1, 'max_depth': 7, 'n_estimators': 50, 'subsample': 1.0}\n",
      "-0.099577 (1.622273) with: {'learning_rate': 0.1, 'max_depth': 7, 'n_estimators': 100, 'subsample': 0.5}\n",
      "-0.073579 (1.564827) with: {'learning_rate': 0.1, 'max_depth': 7, 'n_estimators': 100, 'subsample': 0.7}\n",
      "-0.120775 (1.456920) with: {'learning_rate': 0.1, 'max_depth': 7, 'n_estimators': 100, 'subsample': 1.0}\n",
      "-0.159878 (1.569036) with: {'learning_rate': 0.1, 'max_depth': 7, 'n_estimators': 500, 'subsample': 0.5}\n",
      "-0.090516 (1.520861) with: {'learning_rate': 0.1, 'max_depth': 7, 'n_estimators': 500, 'subsample': 0.7}\n",
      "-0.138025 (1.496658) with: {'learning_rate': 0.1, 'max_depth': 7, 'n_estimators': 500, 'subsample': 1.0}\n",
      "0.340423 (0.302173) with: {'learning_rate': 0.1, 'max_depth': 9, 'n_estimators': 10, 'subsample': 0.5}\n",
      "0.260959 (0.432684) with: {'learning_rate': 0.1, 'max_depth': 9, 'n_estimators': 10, 'subsample': 0.7}\n",
      "0.126670 (0.655287) with: {'learning_rate': 0.1, 'max_depth': 9, 'n_estimators': 10, 'subsample': 1.0}\n",
      "-0.064663 (1.369817) with: {'learning_rate': 0.1, 'max_depth': 9, 'n_estimators': 50, 'subsample': 0.5}\n",
      "0.005213 (1.343973) with: {'learning_rate': 0.1, 'max_depth': 9, 'n_estimators': 50, 'subsample': 0.7}\n",
      "-0.257806 (1.615265) with: {'learning_rate': 0.1, 'max_depth': 9, 'n_estimators': 50, 'subsample': 1.0}\n",
      "-0.121394 (1.615065) with: {'learning_rate': 0.1, 'max_depth': 9, 'n_estimators': 100, 'subsample': 0.5}\n",
      "-0.173517 (1.670561) with: {'learning_rate': 0.1, 'max_depth': 9, 'n_estimators': 100, 'subsample': 0.7}\n",
      "-0.257607 (1.585678) with: {'learning_rate': 0.1, 'max_depth': 9, 'n_estimators': 100, 'subsample': 1.0}\n",
      "-0.018436 (1.497439) with: {'learning_rate': 0.1, 'max_depth': 9, 'n_estimators': 500, 'subsample': 0.5}\n",
      "-0.019470 (1.308969) with: {'learning_rate': 0.1, 'max_depth': 9, 'n_estimators': 500, 'subsample': 0.7}\n",
      "-0.290480 (1.618451) with: {'learning_rate': 0.1, 'max_depth': 9, 'n_estimators': 500, 'subsample': 1.0}\n",
      "-1.029646 (2.546296) with: {'learning_rate': 1.0, 'max_depth': 3, 'n_estimators': 10, 'subsample': 0.5}\n",
      "-0.608684 (1.817601) with: {'learning_rate': 1.0, 'max_depth': 3, 'n_estimators': 10, 'subsample': 0.7}\n",
      "-0.339909 (1.696677) with: {'learning_rate': 1.0, 'max_depth': 3, 'n_estimators': 10, 'subsample': 1.0}\n",
      "-1.949127 (4.065159) with: {'learning_rate': 1.0, 'max_depth': 3, 'n_estimators': 50, 'subsample': 0.5}\n",
      "-0.546204 (1.796558) with: {'learning_rate': 1.0, 'max_depth': 3, 'n_estimators': 50, 'subsample': 0.7}\n",
      "-0.295677 (1.641732) with: {'learning_rate': 1.0, 'max_depth': 3, 'n_estimators': 50, 'subsample': 1.0}\n",
      "-1.074781 (2.818407) with: {'learning_rate': 1.0, 'max_depth': 3, 'n_estimators': 100, 'subsample': 0.5}\n",
      "-1.791069 (4.483004) with: {'learning_rate': 1.0, 'max_depth': 3, 'n_estimators': 100, 'subsample': 0.7}\n",
      "-0.387115 (1.741221) with: {'learning_rate': 1.0, 'max_depth': 3, 'n_estimators': 100, 'subsample': 1.0}\n",
      "-1.387729 (3.437738) with: {'learning_rate': 1.0, 'max_depth': 3, 'n_estimators': 500, 'subsample': 0.5}\n",
      "-1.005748 (2.881370) with: {'learning_rate': 1.0, 'max_depth': 3, 'n_estimators': 500, 'subsample': 0.7}\n",
      "-0.428341 (1.760067) with: {'learning_rate': 1.0, 'max_depth': 3, 'n_estimators': 500, 'subsample': 1.0}\n",
      "-1.578294 (3.358030) with: {'learning_rate': 1.0, 'max_depth': 7, 'n_estimators': 10, 'subsample': 0.5}\n",
      "-0.995782 (3.976877) with: {'learning_rate': 1.0, 'max_depth': 7, 'n_estimators': 10, 'subsample': 0.7}\n",
      "-0.626070 (2.064899) with: {'learning_rate': 1.0, 'max_depth': 7, 'n_estimators': 10, 'subsample': 1.0}\n",
      "-2.148985 (6.347164) with: {'learning_rate': 1.0, 'max_depth': 7, 'n_estimators': 50, 'subsample': 0.5}\n",
      "-0.298790 (1.510334) with: {'learning_rate': 1.0, 'max_depth': 7, 'n_estimators': 50, 'subsample': 0.7}\n",
      "-0.603153 (2.170917) with: {'learning_rate': 1.0, 'max_depth': 7, 'n_estimators': 50, 'subsample': 1.0}\n",
      "-1.116397 (1.951584) with: {'learning_rate': 1.0, 'max_depth': 7, 'n_estimators': 100, 'subsample': 0.5}\n",
      "-0.566839 (1.521184) with: {'learning_rate': 1.0, 'max_depth': 7, 'n_estimators': 100, 'subsample': 0.7}\n",
      "-0.526970 (1.782775) with: {'learning_rate': 1.0, 'max_depth': 7, 'n_estimators': 100, 'subsample': 1.0}\n",
      "-1.596854 (2.878009) with: {'learning_rate': 1.0, 'max_depth': 7, 'n_estimators': 500, 'subsample': 0.5}\n",
      "-0.587299 (1.967985) with: {'learning_rate': 1.0, 'max_depth': 7, 'n_estimators': 500, 'subsample': 0.7}\n",
      "-0.438071 (1.640123) with: {'learning_rate': 1.0, 'max_depth': 7, 'n_estimators': 500, 'subsample': 1.0}\n",
      "-0.667885 (2.714036) with: {'learning_rate': 1.0, 'max_depth': 9, 'n_estimators': 10, 'subsample': 0.5}\n",
      "-1.116187 (2.858702) with: {'learning_rate': 1.0, 'max_depth': 9, 'n_estimators': 10, 'subsample': 0.7}\n",
      "-0.533819 (1.862848) with: {'learning_rate': 1.0, 'max_depth': 9, 'n_estimators': 10, 'subsample': 1.0}\n",
      "-1.878677 (4.300466) with: {'learning_rate': 1.0, 'max_depth': 9, 'n_estimators': 50, 'subsample': 0.5}\n",
      "-1.442473 (3.008213) with: {'learning_rate': 1.0, 'max_depth': 9, 'n_estimators': 50, 'subsample': 0.7}\n",
      "-0.909915 (2.373254) with: {'learning_rate': 1.0, 'max_depth': 9, 'n_estimators': 50, 'subsample': 1.0}\n",
      "-1.226575 (2.528324) with: {'learning_rate': 1.0, 'max_depth': 9, 'n_estimators': 100, 'subsample': 0.5}\n",
      "-0.880155 (2.266857) with: {'learning_rate': 1.0, 'max_depth': 9, 'n_estimators': 100, 'subsample': 0.7}\n",
      "-0.576830 (1.884223) with: {'learning_rate': 1.0, 'max_depth': 9, 'n_estimators': 100, 'subsample': 1.0}\n",
      "-2.013276 (3.792365) with: {'learning_rate': 1.0, 'max_depth': 9, 'n_estimators': 500, 'subsample': 0.5}\n",
      "-1.226612 (2.653893) with: {'learning_rate': 1.0, 'max_depth': 9, 'n_estimators': 500, 'subsample': 0.7}\n",
      "-0.538871 (1.845484) with: {'learning_rate': 1.0, 'max_depth': 9, 'n_estimators': 500, 'subsample': 1.0}\n"
     ]
    }
   ],
   "source": [
    "from sklearn.model_selection import RepeatedKFold\n",
    "from sklearn.model_selection import GridSearchCV\n",
    "from sklearn.impute import SimpleImputer\n",
    "\n",
    "X=SimpleImputer().fit_transform(x)\n",
    "grid = dict()\n",
    "grid['n_estimators'] = [10, 50, 100, 500]\n",
    "grid['learning_rate'] = [0.0001, 0.001, 0.01, 0.1, 1.0]\n",
    "grid['subsample'] = [0.5, 0.7, 1.0]\n",
    "grid['max_depth'] = [3, 7, 9]\n",
    "# define the evaluation procedure\n",
    "cv = RepeatedKFold(n_splits=10, n_repeats=3, random_state=1)\n",
    "# define the grid search procedure\n",
    "grid_search = GridSearchCV(estimator=GBR, param_grid=grid, n_jobs=-1, cv=cv)\n",
    "# execute the grid search\n",
    "grid_result = grid_search.fit(X, y)\n",
    "# summarize the best score and configuration\n",
    "print(\"Best: %f using %s\" % (grid_result.best_score_, grid_result.best_params_)) # summarize all scores that were evaluated\n",
    "means = grid_result.cv_results_['mean_test_score']\n",
    "stds = grid_result.cv_results_['std_test_score']\n",
    "params = grid_result.cv_results_['params']\n",
    "\n",
    "for mean, stdev, param in zip(means, stds, params):\n",
    "    print(\"%f (%f) with: %r\" % (mean, stdev, param))"
   ]
  },
  {
   "cell_type": "code",
   "execution_count": 165,
   "id": "811bf8f7",
   "metadata": {},
   "outputs": [],
   "source": [
    "GBR= GradientBoostingRegressor(random_state=100, learning_rate=0.01,max_depth=9, n_estimators=100, subsample=0.5)"
   ]
  },
  {
   "cell_type": "code",
   "execution_count": 167,
   "id": "df3abf66",
   "metadata": {},
   "outputs": [],
   "source": [
    "x_train_GBR, x_test_GBR, y_train_GBR, y_test_GBR =train_test_split(x,y,test_size=0.4,random_state=42)"
   ]
  },
  {
   "cell_type": "code",
   "execution_count": 168,
   "id": "6b05d38b",
   "metadata": {},
   "outputs": [
    {
     "data": {
      "text/html": [
       "<style>#sk-container-id-13 {color: black;background-color: white;}#sk-container-id-13 pre{padding: 0;}#sk-container-id-13 div.sk-toggleable {background-color: white;}#sk-container-id-13 label.sk-toggleable__label {cursor: pointer;display: block;width: 100%;margin-bottom: 0;padding: 0.3em;box-sizing: border-box;text-align: center;}#sk-container-id-13 label.sk-toggleable__label-arrow:before {content: \"▸\";float: left;margin-right: 0.25em;color: #696969;}#sk-container-id-13 label.sk-toggleable__label-arrow:hover:before {color: black;}#sk-container-id-13 div.sk-estimator:hover label.sk-toggleable__label-arrow:before {color: black;}#sk-container-id-13 div.sk-toggleable__content {max-height: 0;max-width: 0;overflow: hidden;text-align: left;background-color: #f0f8ff;}#sk-container-id-13 div.sk-toggleable__content pre {margin: 0.2em;color: black;border-radius: 0.25em;background-color: #f0f8ff;}#sk-container-id-13 input.sk-toggleable__control:checked~div.sk-toggleable__content {max-height: 200px;max-width: 100%;overflow: auto;}#sk-container-id-13 input.sk-toggleable__control:checked~label.sk-toggleable__label-arrow:before {content: \"▾\";}#sk-container-id-13 div.sk-estimator input.sk-toggleable__control:checked~label.sk-toggleable__label {background-color: #d4ebff;}#sk-container-id-13 div.sk-label input.sk-toggleable__control:checked~label.sk-toggleable__label {background-color: #d4ebff;}#sk-container-id-13 input.sk-hidden--visually {border: 0;clip: rect(1px 1px 1px 1px);clip: rect(1px, 1px, 1px, 1px);height: 1px;margin: -1px;overflow: hidden;padding: 0;position: absolute;width: 1px;}#sk-container-id-13 div.sk-estimator {font-family: monospace;background-color: #f0f8ff;border: 1px dotted black;border-radius: 0.25em;box-sizing: border-box;margin-bottom: 0.5em;}#sk-container-id-13 div.sk-estimator:hover {background-color: #d4ebff;}#sk-container-id-13 div.sk-parallel-item::after {content: \"\";width: 100%;border-bottom: 1px solid gray;flex-grow: 1;}#sk-container-id-13 div.sk-label:hover label.sk-toggleable__label {background-color: #d4ebff;}#sk-container-id-13 div.sk-serial::before {content: \"\";position: absolute;border-left: 1px solid gray;box-sizing: border-box;top: 0;bottom: 0;left: 50%;z-index: 0;}#sk-container-id-13 div.sk-serial {display: flex;flex-direction: column;align-items: center;background-color: white;padding-right: 0.2em;padding-left: 0.2em;position: relative;}#sk-container-id-13 div.sk-item {position: relative;z-index: 1;}#sk-container-id-13 div.sk-parallel {display: flex;align-items: stretch;justify-content: center;background-color: white;position: relative;}#sk-container-id-13 div.sk-item::before, #sk-container-id-13 div.sk-parallel-item::before {content: \"\";position: absolute;border-left: 1px solid gray;box-sizing: border-box;top: 0;bottom: 0;left: 50%;z-index: -1;}#sk-container-id-13 div.sk-parallel-item {display: flex;flex-direction: column;z-index: 1;position: relative;background-color: white;}#sk-container-id-13 div.sk-parallel-item:first-child::after {align-self: flex-end;width: 50%;}#sk-container-id-13 div.sk-parallel-item:last-child::after {align-self: flex-start;width: 50%;}#sk-container-id-13 div.sk-parallel-item:only-child::after {width: 0;}#sk-container-id-13 div.sk-dashed-wrapped {border: 1px dashed gray;margin: 0 0.4em 0.5em 0.4em;box-sizing: border-box;padding-bottom: 0.4em;background-color: white;}#sk-container-id-13 div.sk-label label {font-family: monospace;font-weight: bold;display: inline-block;line-height: 1.2em;}#sk-container-id-13 div.sk-label-container {text-align: center;}#sk-container-id-13 div.sk-container {/* jupyter's `normalize.less` sets `[hidden] { display: none; }` but bootstrap.min.css set `[hidden] { display: none !important; }` so we also need the `!important` here to be able to override the default hidden behavior on the sphinx rendered scikit-learn.org. See: https://github.com/scikit-learn/scikit-learn/issues/21755 */display: inline-block !important;position: relative;}#sk-container-id-13 div.sk-text-repr-fallback {display: none;}</style><div id=\"sk-container-id-13\" class=\"sk-top-container\"><div class=\"sk-text-repr-fallback\"><pre>GradientBoostingRegressor(learning_rate=0.01, max_depth=9, random_state=100,\n",
       "                          subsample=0.5)</pre><b>In a Jupyter environment, please rerun this cell to show the HTML representation or trust the notebook. <br />On GitHub, the HTML representation is unable to render, please try loading this page with nbviewer.org.</b></div><div class=\"sk-container\" hidden><div class=\"sk-item\"><div class=\"sk-estimator sk-toggleable\"><input class=\"sk-toggleable__control sk-hidden--visually\" id=\"sk-estimator-id-27\" type=\"checkbox\" checked><label for=\"sk-estimator-id-27\" class=\"sk-toggleable__label sk-toggleable__label-arrow\">GradientBoostingRegressor</label><div class=\"sk-toggleable__content\"><pre>GradientBoostingRegressor(learning_rate=0.01, max_depth=9, random_state=100,\n",
       "                          subsample=0.5)</pre></div></div></div></div></div>"
      ],
      "text/plain": [
       "GradientBoostingRegressor(learning_rate=0.01, max_depth=9, random_state=100,\n",
       "                          subsample=0.5)"
      ]
     },
     "execution_count": 168,
     "metadata": {},
     "output_type": "execute_result"
    }
   ],
   "source": [
    "GBR.fit(x_train_GBR, y_train_GBR)"
   ]
  },
  {
   "cell_type": "code",
   "execution_count": 169,
   "id": "a61db06e",
   "metadata": {},
   "outputs": [],
   "source": [
    "y_predict_GBR =GBR.predict(x_test_GBR)"
   ]
  },
  {
   "cell_type": "code",
   "execution_count": 170,
   "id": "43e31214",
   "metadata": {},
   "outputs": [
    {
     "data": {
      "text/plain": [
       "0.5086860235783984"
      ]
     },
     "execution_count": 170,
     "metadata": {},
     "output_type": "execute_result"
    }
   ],
   "source": [
    "r2_score (y_test_GBR, y_predict_GBR)"
   ]
  },
  {
   "cell_type": "code",
   "execution_count": 171,
   "id": "e257c74d",
   "metadata": {},
   "outputs": [],
   "source": [
    "y_predict_GBR_1 =GBR.predict(x_train_GBR)"
   ]
  },
  {
   "cell_type": "code",
   "execution_count": 172,
   "id": "f69bcd00",
   "metadata": {},
   "outputs": [
    {
     "data": {
      "text/plain": [
       "0.6836352471061717"
      ]
     },
     "execution_count": 172,
     "metadata": {},
     "output_type": "execute_result"
    }
   ],
   "source": [
    "r2_score (y_train_GBR, y_predict_GBR_1)"
   ]
  },
  {
   "cell_type": "markdown",
   "id": "bee2adf0",
   "metadata": {},
   "source": [
    "## Ada Boost Regressor"
   ]
  },
  {
   "cell_type": "code",
   "execution_count": 173,
   "id": "1cddfba4",
   "metadata": {},
   "outputs": [],
   "source": [
    "from sklearn.ensemble import AdaBoostRegressor"
   ]
  },
  {
   "cell_type": "code",
   "execution_count": 174,
   "id": "0e3ab1a2",
   "metadata": {},
   "outputs": [],
   "source": [
    "x_train_ABR, x_test_ABR, y_train_ABR, y_test_ABR =train_test_split(x,y,test_size=0.3,random_state=100)"
   ]
  },
  {
   "cell_type": "code",
   "execution_count": 175,
   "id": "12d7cb99",
   "metadata": {},
   "outputs": [],
   "source": [
    "ABR =AdaBoostRegressor()"
   ]
  },
  {
   "cell_type": "code",
   "execution_count": 176,
   "id": "ae249119",
   "metadata": {},
   "outputs": [
    {
     "data": {
      "text/html": [
       "<style>#sk-container-id-14 {color: black;background-color: white;}#sk-container-id-14 pre{padding: 0;}#sk-container-id-14 div.sk-toggleable {background-color: white;}#sk-container-id-14 label.sk-toggleable__label {cursor: pointer;display: block;width: 100%;margin-bottom: 0;padding: 0.3em;box-sizing: border-box;text-align: center;}#sk-container-id-14 label.sk-toggleable__label-arrow:before {content: \"▸\";float: left;margin-right: 0.25em;color: #696969;}#sk-container-id-14 label.sk-toggleable__label-arrow:hover:before {color: black;}#sk-container-id-14 div.sk-estimator:hover label.sk-toggleable__label-arrow:before {color: black;}#sk-container-id-14 div.sk-toggleable__content {max-height: 0;max-width: 0;overflow: hidden;text-align: left;background-color: #f0f8ff;}#sk-container-id-14 div.sk-toggleable__content pre {margin: 0.2em;color: black;border-radius: 0.25em;background-color: #f0f8ff;}#sk-container-id-14 input.sk-toggleable__control:checked~div.sk-toggleable__content {max-height: 200px;max-width: 100%;overflow: auto;}#sk-container-id-14 input.sk-toggleable__control:checked~label.sk-toggleable__label-arrow:before {content: \"▾\";}#sk-container-id-14 div.sk-estimator input.sk-toggleable__control:checked~label.sk-toggleable__label {background-color: #d4ebff;}#sk-container-id-14 div.sk-label input.sk-toggleable__control:checked~label.sk-toggleable__label {background-color: #d4ebff;}#sk-container-id-14 input.sk-hidden--visually {border: 0;clip: rect(1px 1px 1px 1px);clip: rect(1px, 1px, 1px, 1px);height: 1px;margin: -1px;overflow: hidden;padding: 0;position: absolute;width: 1px;}#sk-container-id-14 div.sk-estimator {font-family: monospace;background-color: #f0f8ff;border: 1px dotted black;border-radius: 0.25em;box-sizing: border-box;margin-bottom: 0.5em;}#sk-container-id-14 div.sk-estimator:hover {background-color: #d4ebff;}#sk-container-id-14 div.sk-parallel-item::after {content: \"\";width: 100%;border-bottom: 1px solid gray;flex-grow: 1;}#sk-container-id-14 div.sk-label:hover label.sk-toggleable__label {background-color: #d4ebff;}#sk-container-id-14 div.sk-serial::before {content: \"\";position: absolute;border-left: 1px solid gray;box-sizing: border-box;top: 0;bottom: 0;left: 50%;z-index: 0;}#sk-container-id-14 div.sk-serial {display: flex;flex-direction: column;align-items: center;background-color: white;padding-right: 0.2em;padding-left: 0.2em;position: relative;}#sk-container-id-14 div.sk-item {position: relative;z-index: 1;}#sk-container-id-14 div.sk-parallel {display: flex;align-items: stretch;justify-content: center;background-color: white;position: relative;}#sk-container-id-14 div.sk-item::before, #sk-container-id-14 div.sk-parallel-item::before {content: \"\";position: absolute;border-left: 1px solid gray;box-sizing: border-box;top: 0;bottom: 0;left: 50%;z-index: -1;}#sk-container-id-14 div.sk-parallel-item {display: flex;flex-direction: column;z-index: 1;position: relative;background-color: white;}#sk-container-id-14 div.sk-parallel-item:first-child::after {align-self: flex-end;width: 50%;}#sk-container-id-14 div.sk-parallel-item:last-child::after {align-self: flex-start;width: 50%;}#sk-container-id-14 div.sk-parallel-item:only-child::after {width: 0;}#sk-container-id-14 div.sk-dashed-wrapped {border: 1px dashed gray;margin: 0 0.4em 0.5em 0.4em;box-sizing: border-box;padding-bottom: 0.4em;background-color: white;}#sk-container-id-14 div.sk-label label {font-family: monospace;font-weight: bold;display: inline-block;line-height: 1.2em;}#sk-container-id-14 div.sk-label-container {text-align: center;}#sk-container-id-14 div.sk-container {/* jupyter's `normalize.less` sets `[hidden] { display: none; }` but bootstrap.min.css set `[hidden] { display: none !important; }` so we also need the `!important` here to be able to override the default hidden behavior on the sphinx rendered scikit-learn.org. See: https://github.com/scikit-learn/scikit-learn/issues/21755 */display: inline-block !important;position: relative;}#sk-container-id-14 div.sk-text-repr-fallback {display: none;}</style><div id=\"sk-container-id-14\" class=\"sk-top-container\"><div class=\"sk-text-repr-fallback\"><pre>AdaBoostRegressor()</pre><b>In a Jupyter environment, please rerun this cell to show the HTML representation or trust the notebook. <br />On GitHub, the HTML representation is unable to render, please try loading this page with nbviewer.org.</b></div><div class=\"sk-container\" hidden><div class=\"sk-item\"><div class=\"sk-estimator sk-toggleable\"><input class=\"sk-toggleable__control sk-hidden--visually\" id=\"sk-estimator-id-28\" type=\"checkbox\" checked><label for=\"sk-estimator-id-28\" class=\"sk-toggleable__label sk-toggleable__label-arrow\">AdaBoostRegressor</label><div class=\"sk-toggleable__content\"><pre>AdaBoostRegressor()</pre></div></div></div></div></div>"
      ],
      "text/plain": [
       "AdaBoostRegressor()"
      ]
     },
     "execution_count": 176,
     "metadata": {},
     "output_type": "execute_result"
    }
   ],
   "source": [
    "ABR.fit(x_train_ABR, y_train_ABR)"
   ]
  },
  {
   "cell_type": "code",
   "execution_count": 177,
   "id": "fe6aa48c",
   "metadata": {},
   "outputs": [],
   "source": [
    "y_predict_ABR =ABR.predict(x_test_ABR)"
   ]
  },
  {
   "cell_type": "code",
   "execution_count": 178,
   "id": "d622103a",
   "metadata": {},
   "outputs": [
    {
     "data": {
      "text/plain": [
       "0.22830813862599642"
      ]
     },
     "execution_count": 178,
     "metadata": {},
     "output_type": "execute_result"
    }
   ],
   "source": [
    "r2_score (y_test_ABR, y_predict_ABR)"
   ]
  },
  {
   "cell_type": "code",
   "execution_count": 179,
   "id": "c20afce4",
   "metadata": {},
   "outputs": [],
   "source": [
    "y_predict_ABR_1 =ABR.predict(x_train_ABR)"
   ]
  },
  {
   "cell_type": "code",
   "execution_count": 180,
   "id": "2e1a4236",
   "metadata": {},
   "outputs": [
    {
     "data": {
      "text/plain": [
       "0.7415685232832286"
      ]
     },
     "execution_count": 180,
     "metadata": {},
     "output_type": "execute_result"
    }
   ],
   "source": [
    "r2_score (y_train_ABR, y_predict_ABR_1)"
   ]
  },
  {
   "cell_type": "markdown",
   "id": "4725fb1e",
   "metadata": {},
   "source": [
    "## SVM"
   ]
  },
  {
   "cell_type": "code",
   "execution_count": 181,
   "id": "70c60b3a",
   "metadata": {},
   "outputs": [],
   "source": [
    "from sklearn.svm import SVR"
   ]
  },
  {
   "cell_type": "code",
   "execution_count": 182,
   "id": "0e17cd7c",
   "metadata": {},
   "outputs": [],
   "source": [
    "x_train_svr, x_test_svr, y_train_svr, y_test_svr =train_test_split(x,y,test_size=0.3,random_state=0)"
   ]
  },
  {
   "cell_type": "code",
   "execution_count": 183,
   "id": "1a8843c6",
   "metadata": {},
   "outputs": [],
   "source": [
    "svr = SVR(kernel='linear',tol=0.001)"
   ]
  },
  {
   "cell_type": "code",
   "execution_count": 184,
   "id": "4103b6de",
   "metadata": {},
   "outputs": [
    {
     "data": {
      "text/html": [
       "<style>#sk-container-id-15 {color: black;background-color: white;}#sk-container-id-15 pre{padding: 0;}#sk-container-id-15 div.sk-toggleable {background-color: white;}#sk-container-id-15 label.sk-toggleable__label {cursor: pointer;display: block;width: 100%;margin-bottom: 0;padding: 0.3em;box-sizing: border-box;text-align: center;}#sk-container-id-15 label.sk-toggleable__label-arrow:before {content: \"▸\";float: left;margin-right: 0.25em;color: #696969;}#sk-container-id-15 label.sk-toggleable__label-arrow:hover:before {color: black;}#sk-container-id-15 div.sk-estimator:hover label.sk-toggleable__label-arrow:before {color: black;}#sk-container-id-15 div.sk-toggleable__content {max-height: 0;max-width: 0;overflow: hidden;text-align: left;background-color: #f0f8ff;}#sk-container-id-15 div.sk-toggleable__content pre {margin: 0.2em;color: black;border-radius: 0.25em;background-color: #f0f8ff;}#sk-container-id-15 input.sk-toggleable__control:checked~div.sk-toggleable__content {max-height: 200px;max-width: 100%;overflow: auto;}#sk-container-id-15 input.sk-toggleable__control:checked~label.sk-toggleable__label-arrow:before {content: \"▾\";}#sk-container-id-15 div.sk-estimator input.sk-toggleable__control:checked~label.sk-toggleable__label {background-color: #d4ebff;}#sk-container-id-15 div.sk-label input.sk-toggleable__control:checked~label.sk-toggleable__label {background-color: #d4ebff;}#sk-container-id-15 input.sk-hidden--visually {border: 0;clip: rect(1px 1px 1px 1px);clip: rect(1px, 1px, 1px, 1px);height: 1px;margin: -1px;overflow: hidden;padding: 0;position: absolute;width: 1px;}#sk-container-id-15 div.sk-estimator {font-family: monospace;background-color: #f0f8ff;border: 1px dotted black;border-radius: 0.25em;box-sizing: border-box;margin-bottom: 0.5em;}#sk-container-id-15 div.sk-estimator:hover {background-color: #d4ebff;}#sk-container-id-15 div.sk-parallel-item::after {content: \"\";width: 100%;border-bottom: 1px solid gray;flex-grow: 1;}#sk-container-id-15 div.sk-label:hover label.sk-toggleable__label {background-color: #d4ebff;}#sk-container-id-15 div.sk-serial::before {content: \"\";position: absolute;border-left: 1px solid gray;box-sizing: border-box;top: 0;bottom: 0;left: 50%;z-index: 0;}#sk-container-id-15 div.sk-serial {display: flex;flex-direction: column;align-items: center;background-color: white;padding-right: 0.2em;padding-left: 0.2em;position: relative;}#sk-container-id-15 div.sk-item {position: relative;z-index: 1;}#sk-container-id-15 div.sk-parallel {display: flex;align-items: stretch;justify-content: center;background-color: white;position: relative;}#sk-container-id-15 div.sk-item::before, #sk-container-id-15 div.sk-parallel-item::before {content: \"\";position: absolute;border-left: 1px solid gray;box-sizing: border-box;top: 0;bottom: 0;left: 50%;z-index: -1;}#sk-container-id-15 div.sk-parallel-item {display: flex;flex-direction: column;z-index: 1;position: relative;background-color: white;}#sk-container-id-15 div.sk-parallel-item:first-child::after {align-self: flex-end;width: 50%;}#sk-container-id-15 div.sk-parallel-item:last-child::after {align-self: flex-start;width: 50%;}#sk-container-id-15 div.sk-parallel-item:only-child::after {width: 0;}#sk-container-id-15 div.sk-dashed-wrapped {border: 1px dashed gray;margin: 0 0.4em 0.5em 0.4em;box-sizing: border-box;padding-bottom: 0.4em;background-color: white;}#sk-container-id-15 div.sk-label label {font-family: monospace;font-weight: bold;display: inline-block;line-height: 1.2em;}#sk-container-id-15 div.sk-label-container {text-align: center;}#sk-container-id-15 div.sk-container {/* jupyter's `normalize.less` sets `[hidden] { display: none; }` but bootstrap.min.css set `[hidden] { display: none !important; }` so we also need the `!important` here to be able to override the default hidden behavior on the sphinx rendered scikit-learn.org. See: https://github.com/scikit-learn/scikit-learn/issues/21755 */display: inline-block !important;position: relative;}#sk-container-id-15 div.sk-text-repr-fallback {display: none;}</style><div id=\"sk-container-id-15\" class=\"sk-top-container\"><div class=\"sk-text-repr-fallback\"><pre>SVR(kernel=&#x27;linear&#x27;)</pre><b>In a Jupyter environment, please rerun this cell to show the HTML representation or trust the notebook. <br />On GitHub, the HTML representation is unable to render, please try loading this page with nbviewer.org.</b></div><div class=\"sk-container\" hidden><div class=\"sk-item\"><div class=\"sk-estimator sk-toggleable\"><input class=\"sk-toggleable__control sk-hidden--visually\" id=\"sk-estimator-id-29\" type=\"checkbox\" checked><label for=\"sk-estimator-id-29\" class=\"sk-toggleable__label sk-toggleable__label-arrow\">SVR</label><div class=\"sk-toggleable__content\"><pre>SVR(kernel=&#x27;linear&#x27;)</pre></div></div></div></div></div>"
      ],
      "text/plain": [
       "SVR(kernel='linear')"
      ]
     },
     "execution_count": 184,
     "metadata": {},
     "output_type": "execute_result"
    }
   ],
   "source": [
    "svr.fit(x_train_svr, y_train_svr)"
   ]
  },
  {
   "cell_type": "code",
   "execution_count": 185,
   "id": "d606c822",
   "metadata": {},
   "outputs": [],
   "source": [
    "y_predict_svr =svr.predict(x_test_svr)"
   ]
  },
  {
   "cell_type": "code",
   "execution_count": 186,
   "id": "a8da1ce3",
   "metadata": {},
   "outputs": [
    {
     "data": {
      "text/plain": [
       "-0.017413305168459736"
      ]
     },
     "execution_count": 186,
     "metadata": {},
     "output_type": "execute_result"
    }
   ],
   "source": [
    "r2_score (y_test_svr, y_predict_svr)"
   ]
  },
  {
   "cell_type": "markdown",
   "id": "9847ef7b",
   "metadata": {},
   "source": [
    "# Thus to come to a conclusion:\n",
    "- After loading and proprocessing of data\n",
    "- Outliers were checked, but some were not removed as their effect were required to be analyzed in this study\n",
    "- For building regressor models, encoding was performed, labelencoder for the small valuecounts and onehot encoding for the large valuecounts features\n",
    "- The models were first run without normalization, and showed bad results, thus normalization was performed\n",
    "- Several regrossr models were run as presented as linear and decision tree regrossor, which showed a relative low r2_score\n",
    "- Several Ensemble learning were applied to detect the best, as can be deduced that RandomForestRegressor showed the best results\n"
   ]
  },
  {
   "cell_type": "code",
   "execution_count": null,
   "id": "4c4d873a",
   "metadata": {},
   "outputs": [],
   "source": []
  },
  {
   "cell_type": "code",
   "execution_count": null,
   "id": "cf7bfdfb",
   "metadata": {},
   "outputs": [],
   "source": []
  }
 ],
 "metadata": {
  "kernelspec": {
   "display_name": "Python 3 (ipykernel)",
   "language": "python",
   "name": "python3"
  },
  "language_info": {
   "codemirror_mode": {
    "name": "ipython",
    "version": 3
   },
   "file_extension": ".py",
   "mimetype": "text/x-python",
   "name": "python",
   "nbconvert_exporter": "python",
   "pygments_lexer": "ipython3",
   "version": "3.9.13"
  }
 },
 "nbformat": 4,
 "nbformat_minor": 5
}
